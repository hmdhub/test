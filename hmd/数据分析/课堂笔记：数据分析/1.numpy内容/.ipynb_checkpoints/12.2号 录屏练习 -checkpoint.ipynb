{
 "cells": [
  {
   "cell_type": "code",
   "execution_count": 7,
   "metadata": {},
   "outputs": [
    {
     "name": "stdout",
     "output_type": "stream",
     "text": [
      "1.21.6\n"
     ]
    }
   ],
   "source": [
    "import numpy as np\n",
    "print(np.__version__)"
   ]
  },
  {
   "cell_type": "code",
   "execution_count": 9,
   "metadata": {},
   "outputs": [
    {
     "name": "stdout",
     "output_type": "stream",
     "text": [
      "[1 2 3 4 5]\n",
      "<class 'numpy.ndarray'>\n"
     ]
    }
   ],
   "source": [
    "# 知识点一\n",
    "a = np.array([1,2,3,4,5])\n",
    "print(a)\n",
    "print(type(a))"
   ]
  },
  {
   "cell_type": "code",
   "execution_count": 24,
   "metadata": {},
   "outputs": [
    {
     "name": "stdout",
     "output_type": "stream",
     "text": [
      "[[0 0 0]\n",
      " [0 0 0]\n",
      " [0 0 0]]\n",
      "[[1 1 1]\n",
      " [1 1 1]\n",
      " [1 1 1]]\n"
     ]
    }
   ],
   "source": [
    "b = np.zeros((3,3),dtype=np.uint8)\n",
    "print(b)\n"
   ]
  },
  {
   "cell_type": "code",
   "execution_count": 25,
   "metadata": {},
   "outputs": [
    {
     "name": "stdout",
     "output_type": "stream",
     "text": [
      "[[1 1 1]\n",
      " [1 1 1]\n",
      " [1 1 1]]\n"
     ]
    }
   ],
   "source": [
    "one = np.ones((3,3),dtype=np.uint8)\n",
    "print(one)"
   ]
  },
  {
   "cell_type": "code",
   "execution_count": 32,
   "metadata": {},
   "outputs": [
    {
     "name": "stdout",
     "output_type": "stream",
     "text": [
      "[1 2 3 4 5 6 7]\n",
      "<class 'numpy.ndarray'>\n",
      "1\n",
      "7\n",
      "7\n",
      "[1 2 3 4 5 6 7]\n",
      "(7,)\n"
     ]
    }
   ],
   "source": [
    "#列举ndarray数组常见的属性或方法 \n",
    "a = np.array([1,2,3,4,5,6,7])\n",
    "print(a)\n",
    "print(type(a))\n",
    "print(a.min())  # 最小值\n",
    "print(a.max())  # 最大值\n",
    "\n",
    "# 切片操作\n",
    "print(a[-1])  # 取最后一个值\n",
    "# 排序\n",
    "a.sort()\n",
    "print(a)\n",
    "# 打印形状\n",
    "print(a.shape)"
   ]
  },
  {
   "cell_type": "code",
   "execution_count": 46,
   "metadata": {},
   "outputs": [
    {
     "name": "stdout",
     "output_type": "stream",
     "text": [
      "[[3 7 5]\n",
      " [8 4 3]\n",
      " [2 4 9]]\n",
      "行的最大值 [7 8 9]\n",
      "列的最大值 [8 7 9]\n",
      "默认的最大值 9\n",
      "行最小值 [3 3 2]\n",
      "列最小值 [2 4 3]\n",
      "百分值 4.0\n",
      "百分值 [3. 4. 5.]\n"
     ]
    }
   ],
   "source": [
    "# 知识点二\n",
    "# 1.统计函数\n",
    "a = np.array([[3,7,5],[8,4,3],[2,4,9]])\n",
    "print(a)\n",
    "\n",
    "print('行的最大值',np.amax(a,axis=1))\n",
    "print('列的最大值',np.amax(a,axis=0))\n",
    "print('默认的最大值',np.amax(a))\n",
    "print('行最小值',np.amin(a,axis=1))\n",
    "print('列最小值',np.amin(a,axis=0))\n",
    "# a 表示排序后的中位数\n",
    "print('百分值',np.percentile(a,50))\n",
    "print('百分值',np.percentile(a,50,axis=0))\n",
    "# print(np.percentile(a,50,axis=0,keepidms=True))"
   ]
  },
  {
   "cell_type": "code",
   "execution_count": 54,
   "metadata": {},
   "outputs": [
    {
     "name": "stdout",
     "output_type": "stream",
     "text": [
      "加法 [[10. 11. 12.]\n",
      " [13. 14. 15.]\n",
      " [16. 17. 18.]]\n",
      "减法 [[-10.  -9.  -8.]\n",
      " [ -7.  -6.  -5.]\n",
      " [ -4.  -3.  -2.]]\n",
      "乘法 [[ 0. 10. 20.]\n",
      " [30. 40. 50.]\n",
      " [60. 70. 80.]]\n",
      "除法 [[0.  0.1 0.2]\n",
      " [0.3 0.4 0.5]\n",
      " [0.6 0.7 0.8]]\n",
      "[    100   10000 1000000]\n",
      "[        10      10000 1000000000]\n",
      "[4.        0.7518797 1.        0.01     ]\n"
     ]
    }
   ],
   "source": [
    "# 算法函数\n",
    "a = np.arange(9,dtype=np.float64).reshape(3,3)\n",
    "b = np.array([10,10,10])\n",
    "print('加法',np.add(a,b))\n",
    "print('减法',np.subtract(a,b))\n",
    "print('乘法',np.multiply(a,b))\n",
    "print('除法',np.divide(a,b))\n",
    "\n",
    "# 幂次方\n",
    "c = np.array([10,100,1000])\n",
    "print(np.power(c,2))  # 幂次方\n",
    "d = np.array([1,2,3])\n",
    "print(np.power(c,d))\n",
    "\n",
    "# 倒数\n",
    "e = np.array([0.25,1.33,1,100])\n",
    "print(np.reciprocal(e))"
   ]
  },
  {
   "cell_type": "code",
   "execution_count": 58,
   "metadata": {},
   "outputs": [
    {
     "name": "stdout",
     "output_type": "stream",
     "text": [
      "[20. 31. 41. 40.]\n",
      "<class 'numpy.ndarray'>\n",
      "[20. 30. 40. 40.]\n",
      "[21. 31. 41. 41.]\n"
     ]
    }
   ],
   "source": [
    "# 舍入函数\n",
    "a = np.around([20.3,30.63,40.856,40.2345])  # 四舍五入值\n",
    "print(a)\n",
    "print(type(a))\n",
    "b = np.floor([20.3,30.63,40.856,40.2345])  # 向下取整数\n",
    "print(b)\n",
    "c = np.ceil([20.3,30.63,40.856,40.2345])   #  向下取整数\n",
    "print(c)"
   ]
  },
  {
   "cell_type": "code",
   "execution_count": 73,
   "metadata": {},
   "outputs": [],
   "source": [
    "# 找出女学生中的平均身高\n",
    "dt = np.dtype([('gender','U1'),('height','f4')])\n",
    "a = loadtxt(r'E:\\大二上学期内容\\hmd\\数据分析\\课堂笔记：数据分析\\1.numpy内容\\student_data.txt',dtype=dt,skiprows=9,usecols=(1,3))\n",
    "print(a) \n",
    "isg = a['gender'] ==\"F\"\n",
    "gh = a['height'][isg]\n",
    "print('女生平均身高',np.mean(gh))\n",
    "b = np.round(np.mean(gh),2)# 保留两位小数\n",
    "print(b)"
   ]
  },
  {
   "cell_type": "code",
   "execution_count": null,
   "metadata": {},
   "outputs": [],
   "source": [
    "# 计算男生身高中位数\n",
    "dt = np.dtype([('gender','U1'),('height','f4')])\n",
    "a = loadtxt(r'E:\\大二上学期内容\\hmd\\数据分析\\课堂笔记：数据分析\\1.numpy内容\\student_data.txt',dtype=dt,skiprows=9,usecols=(1,3))\n",
    "print(a) \n",
    "boy = a['gender'] ==\"M\"\n",
    "gh = a['height'][boy]\n",
    "print('女生平均身高',np.mean(gh))\n",
    "b = np.round(np.mean(gh),2)# 保留两位小数\n",
    "print(b)"
   ]
  },
  {
   "cell_type": "code",
   "execution_count": null,
   "metadata": {},
   "outputs": [],
   "source": []
  },
  {
   "cell_type": "code",
   "execution_count": null,
   "metadata": {},
   "outputs": [],
   "source": []
  },
  {
   "cell_type": "code",
   "execution_count": null,
   "metadata": {},
   "outputs": [],
   "source": []
  },
  {
   "cell_type": "code",
   "execution_count": null,
   "metadata": {},
   "outputs": [],
   "source": []
  },
  {
   "cell_type": "code",
   "execution_count": null,
   "metadata": {},
   "outputs": [],
   "source": []
  },
  {
   "cell_type": "code",
   "execution_count": null,
   "metadata": {},
   "outputs": [],
   "source": []
  },
  {
   "cell_type": "code",
   "execution_count": null,
   "metadata": {},
   "outputs": [],
   "source": []
  },
  {
   "cell_type": "code",
   "execution_count": null,
   "metadata": {},
   "outputs": [],
   "source": []
  },
  {
   "cell_type": "code",
   "execution_count": null,
   "metadata": {},
   "outputs": [],
   "source": []
  },
  {
   "cell_type": "code",
   "execution_count": null,
   "metadata": {},
   "outputs": [],
   "source": []
  }
 ],
 "metadata": {
  "kernelspec": {
   "display_name": "Python 3",
   "language": "python",
   "name": "python3"
  },
  "language_info": {
   "codemirror_mode": {
    "name": "ipython",
    "version": 3
   },
   "file_extension": ".py",
   "mimetype": "text/x-python",
   "name": "python",
   "nbconvert_exporter": "python",
   "pygments_lexer": "ipython3",
   "version": "3.7.0"
  }
 },
 "nbformat": 4,
 "nbformat_minor": 2
}
