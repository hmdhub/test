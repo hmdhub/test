{
 "cells": [
  {
   "cell_type": "code",
   "execution_count": 4,
   "metadata": {},
   "outputs": [
    {
     "name": "stdout",
     "output_type": "stream",
     "text": [
      "1.21.6\n"
     ]
    }
   ],
   "source": [
    "import numpy as np\n",
    "print(np.__version__)   # 会输出numpy版本"
   ]
  },
  {
   "cell_type": "code",
   "execution_count": 4,
   "metadata": {},
   "outputs": [
    {
     "name": "stdout",
     "output_type": "stream",
     "text": [
      "[1 2 3 4]\n",
      "<class 'numpy.ndarray'>\n",
      "4\n",
      "[4 3 2 1]\n",
      "(4,)\n"
     ]
    }
   ],
   "source": [
    "# 一维数组\n",
    "a = np.array([1,2,3,4])\n",
    "print(a)\n",
    "print(type(a))   # 打印数据类型\n",
    "# print(a.min())   # 打印最小值\n",
    "# print(a.max())   # 打印最大值\n",
    "\n",
    "# 切片操作\n",
    "print(a[-1])   # 取最后一个值\n",
    "\n",
    "print(a[::-1])  # 进行倒叙（把1234变成4321）  ndarray不可以使用reverse\n",
    "a.sort()  #排序\n",
    "# print(a)\n",
    "\n",
    "# ndarray 自己的东西\n",
    "print(a.shape)  # 打印形状 [4列]\n"
   ]
  },
  {
   "cell_type": "code",
   "execution_count": 5,
   "metadata": {},
   "outputs": [
    {
     "name": "stdout",
     "output_type": "stream",
     "text": [
      "------------------------\n"
     ]
    },
    {
     "ename": "NameError",
     "evalue": "name 'a' is not defined",
     "output_type": "error",
     "traceback": [
      "\u001b[1;31m---------------------------------------------------------------------------\u001b[0m",
      "\u001b[1;31mNameError\u001b[0m                                 Traceback (most recent call last)",
      "\u001b[1;32m<ipython-input-5-44e045058187>\u001b[0m in \u001b[0;36m<module>\u001b[1;34m()\u001b[0m\n\u001b[0;32m      4\u001b[0m \u001b[1;31m# print(b)\u001b[0m\u001b[1;33m\u001b[0m\u001b[1;33m\u001b[0m\u001b[0m\n\u001b[0;32m      5\u001b[0m \u001b[0mprint\u001b[0m\u001b[1;33m(\u001b[0m\u001b[1;34m'------------------------'\u001b[0m\u001b[1;33m)\u001b[0m\u001b[1;33m\u001b[0m\u001b[0m\n\u001b[1;32m----> 6\u001b[1;33m \u001b[0mprint\u001b[0m\u001b[1;33m(\u001b[0m\u001b[0ma\u001b[0m\u001b[1;33m.\u001b[0m\u001b[0mshape\u001b[0m\u001b[1;33m)\u001b[0m  \u001b[1;31m# 打印形状\u001b[0m\u001b[1;33m\u001b[0m\u001b[0m\n\u001b[0m\u001b[0;32m      7\u001b[0m \u001b[0mprint\u001b[0m\u001b[1;33m(\u001b[0m\u001b[0mb\u001b[0m\u001b[1;33m.\u001b[0m\u001b[0mmin\u001b[0m\u001b[1;33m(\u001b[0m\u001b[1;33m)\u001b[0m\u001b[1;33m,\u001b[0m\u001b[0mb\u001b[0m\u001b[1;33m.\u001b[0m\u001b[0mmax\u001b[0m\u001b[1;33m(\u001b[0m\u001b[1;33m)\u001b[0m\u001b[1;33m)\u001b[0m  \u001b[1;31m# 打印最大值，最小值\u001b[0m\u001b[1;33m\u001b[0m\u001b[0m\n\u001b[0;32m      8\u001b[0m \u001b[1;31m# 索引取值\u001b[0m\u001b[1;33m\u001b[0m\u001b[1;33m\u001b[0m\u001b[0m\n",
      "\u001b[1;31mNameError\u001b[0m: name 'a' is not defined"
     ]
    }
   ],
   "source": [
    "# 二维\n",
    "\n",
    "b = np.array([[1,2,3,4],[4,6,7,8],[9,10,11,12]])\n",
    "# print(b)\n",
    "print('------------------------')\n",
    "print(a.shape)  # 打印形状\n",
    "print(b.min(),b.max())  # 打印最大值，最小值\n",
    "# 索引取值\n",
    "# print(b[0][0])  #运行结果第一行第一个元素\n",
    "# print(b[2][3])  #运行结果第三行第四个元素\n",
    "\n",
    "# 切片\n",
    "# print(b[1][:]) #[4 6 7 8]\n",
    "# print(b[:][0]) #[1 2 3 4]\n",
    "print(b[0:][:-1])  "
   ]
  },
  {
   "cell_type": "code",
   "execution_count": 6,
   "metadata": {},
   "outputs": [
    {
     "name": "stdout",
     "output_type": "stream",
     "text": [
      "[[[1 2 3]\n",
      "  [4 5 6]\n",
      "  [7 8 9]\n",
      "  [1 2 3]]]\n",
      "形状 (1, 4, 3)\n",
      "9 1\n",
      "[[1 2 3]\n",
      " [4 5 6]\n",
      " [7 8 9]\n",
      " [1 2 3]]\n",
      "[4 5 6]\n"
     ]
    }
   ],
   "source": [
    "#  三维 数组（Arrays）\n",
    "\"\"\"\n",
    "特点：1.array()把python的类型转换正np的ndarray类型\n",
    "      2.转换过数组的原始数据不变\n",
    "函数： 1.最大值 max（）\n",
    "       2.最小值 min（）\n",
    "索引和切片：\n",
    "       1. 通过元素的下标位\n",
    "       2.通过元素的start：stop\n",
    "排序： 1.sort\n",
    "       2.sorted\n",
    "获取列的值：\n",
    "     1.[1,1] 返回一个一维数组\n",
    "    2.[1,np,newaxis,1] 保留数据原本的位置返回数组\n",
    "\"\"\"\n",
    "c = np.array([[[1,2,3],[4,5,6],[7,8,9],[1,2,3]]])\n",
    "print(c)\n",
    "print('形状',c.shape) # 形状\n",
    "print(c.max(),c.min()) # 最大值，最小值\n",
    "# 切片\n",
    "# 三维数组的shape[0]代表图片上的第几行,shape[1]代表图片上的第几列, shape[2] 代表有几个通道 \n",
    "print(c[:][:][0])\n",
    "print(c[:][0][1])"
   ]
  },
  {
   "cell_type": "code",
   "execution_count": 5,
   "metadata": {},
   "outputs": [
    {
     "name": "stdout",
     "output_type": "stream",
     "text": [
      "[ 0  1  2  3  4  5  6  7  8  9 10 11 12 13 14 15 16 17 18 19]\n",
      "[ 0  1  2  3  4  5  6  7  8  9 10 11]\n",
      "[[ 0  1  2  3  4  5]\n",
      " [ 6  7  8  9 10 11]]\n",
      "[[[ 0  1  2  3]\n",
      "  [ 4  5  6  7]\n",
      "  [ 8  9 10 11]]]\n"
     ]
    },
    {
     "data": {
      "text/plain": [
       "[[[1, 2, 3, 4], [2, 3, 4, 5]]]"
      ]
     },
     "execution_count": 5,
     "metadata": {},
     "output_type": "execute_result"
    }
   ],
   "source": [
    "\"\"\"\n",
    " 创建数组 arange() 默认：一维数组\n",
    " 更多维度 reshape（）：传入一个数组（，，，）可以定制多维度的形状\n",
    "\"\"\"\n",
    "ran = np.arange(20)  # 和range（）方法对比\n",
    "print(ran)\n",
    "ran1 = np.arange(12)\n",
    "print(ran1)\n",
    "ran2 = np.arange(12).reshape((2,6))\n",
    "print(ran2)\n",
    "ran3 = np.arange(12).reshape((1,3,4))\n",
    "print(ran3)\n",
    "[[[1,2,3,4],[2,3,4,5]]]\n"
   ]
  },
  {
   "cell_type": "code",
   "execution_count": 6,
   "metadata": {},
   "outputs": [
    {
     "name": "stdout",
     "output_type": "stream",
     "text": [
      "[[0 0 0]\n",
      " [0 0 0]\n",
      " [0 0 0]]\n",
      "[[0. 0. 0.]\n",
      " [0. 0. 0.]\n",
      " [0. 0. 0.]]\n"
     ]
    },
    {
     "ename": "TypeError",
     "evalue": "ones() got an unexpected keyword argument 'detype'",
     "output_type": "error",
     "traceback": [
      "\u001b[1;31m---------------------------------------------------------------------------\u001b[0m",
      "\u001b[1;31mTypeError\u001b[0m                                 Traceback (most recent call last)",
      "\u001b[1;32m<ipython-input-6-37ad1677d01c>\u001b[0m in \u001b[0;36m<module>\u001b[1;34m()\u001b[0m\n\u001b[0;32m     12\u001b[0m \u001b[0mf\u001b[0m \u001b[1;33m=\u001b[0m \u001b[0mz\u001b[0m\u001b[1;33m.\u001b[0m\u001b[0mastype\u001b[0m\u001b[1;33m(\u001b[0m\u001b[0mnp\u001b[0m\u001b[1;33m.\u001b[0m\u001b[0mfloat64\u001b[0m\u001b[1;33m)\u001b[0m  \u001b[1;31m# 类型是浮点\u001b[0m\u001b[1;33m\u001b[0m\u001b[0m\n\u001b[0;32m     13\u001b[0m \u001b[0mprint\u001b[0m\u001b[1;33m(\u001b[0m\u001b[0mf\u001b[0m\u001b[1;33m)\u001b[0m\u001b[1;33m\u001b[0m\u001b[0m\n\u001b[1;32m---> 14\u001b[1;33m \u001b[0mone\u001b[0m \u001b[1;33m=\u001b[0m \u001b[0mnp\u001b[0m\u001b[1;33m.\u001b[0m\u001b[0mones\u001b[0m\u001b[1;33m(\u001b[0m\u001b[1;33m(\u001b[0m\u001b[1;36m3\u001b[0m\u001b[1;33m,\u001b[0m\u001b[1;36m3\u001b[0m\u001b[1;33m)\u001b[0m\u001b[1;33m,\u001b[0m\u001b[0mdetype\u001b[0m\u001b[1;33m=\u001b[0m\u001b[0mnp\u001b[0m\u001b[1;33m.\u001b[0m\u001b[0muint8\u001b[0m\u001b[1;33m)\u001b[0m \u001b[1;31m# 全部为1，类型是整型\u001b[0m\u001b[1;33m\u001b[0m\u001b[0m\n\u001b[0m\u001b[0;32m     15\u001b[0m \u001b[0mprint\u001b[0m\u001b[1;33m(\u001b[0m\u001b[0mone\u001b[0m\u001b[1;33m)\u001b[0m\u001b[1;33m\u001b[0m\u001b[0m\n",
      "\u001b[1;31mTypeError\u001b[0m: ones() got an unexpected keyword argument 'detype'"
     ]
    }
   ],
   "source": [
    "\"\"\"\n",
    "参数 元组 shape\n",
    "创建数组0填充形状的多维数组 zeros（）\n",
    "    默认类型：float\n",
    "    dtype 可以设置元素类型 np.unit8代表整数\n",
    "    astype 重置数组元素类型\n",
    "创建数组1填充形状的多维数组 ones（）\n",
    "\n",
    "\"\"\"\n",
    "z = np.zeros((3,3),dtype=np.uint8)  # 全部为0，类型是整型\n",
    "print(z)\n",
    "f = z.astype(np.float64)  # 类型是浮点\n",
    "print(f)\n",
    "one = np.ones((3,3),detype=np.uint8) # 全部为1，类型是整型\n",
    "print(one)"
   ]
  },
  {
   "cell_type": "code",
   "execution_count": 7,
   "metadata": {},
   "outputs": [
    {
     "name": "stdout",
     "output_type": "stream",
     "text": [
      "E:\\大二上学期内容\\hmd\\Numpy\n"
     ]
    }
   ],
   "source": [
    "import os\n",
    "print((os.path.abspath('.')))"
   ]
  },
  {
   "cell_type": "code",
   "execution_count": 8,
   "metadata": {},
   "outputs": [
    {
     "name": "stdout",
     "output_type": "stream",
     "text": [
      "[3 3 3 3 4 4 4 4 5 5 5 5]\n"
     ]
    }
   ],
   "source": [
    "\"\"\"\n",
    "repeat():重复元素  1.元素 \n",
    "                   2.重复次数\n",
    "\"\"\"\n",
    "f = np.repeat((3,4,5),4)\n",
    "print(f)"
   ]
  },
  {
   "cell_type": "code",
   "execution_count": 9,
   "metadata": {},
   "outputs": [
    {
     "name": "stdout",
     "output_type": "stream",
     "text": [
      "[ 10  40  90 160]\n",
      "[[ 2  4  6]\n",
      " [11 12 13]\n",
      " [21 22 23]\n",
      " [31 32 33]]\n",
      "**************************\n",
      "[[[ 2  4  6]\n",
      "  [ 8 10 12]]]\n"
     ]
    }
   ],
   "source": [
    "\"\"\"\n",
    "广播（Broadcasting）\n",
    "     广播是一种强大的机制，它允许numpy在执行算术运算时使用不同形状的数组\n",
    "     s.shape = b.shape 形状相同\n",
    "\"\"\"\n",
    "# 形状相同\n",
    "a = np.array([1,2,3,4])\n",
    "b = np.array([10,20,30,40])\n",
    "c = a*b\n",
    "print(c)   # 运行结果为  对应位置相乘[ 10  40  90 160]\n",
    "\n",
    "# 形状不同的\n",
    "num1 = np.array([[1,2,3],[10,10,10],[20,20,20],[30,30,30]])\n",
    "num2 = np.array([1,2,3])\n",
    "num3 = num1+num2\n",
    "print(num3)  #运行结果为： num1中的都与num2中相加\n",
    "print(\"**************************\")\n",
    "# 二维加三维\n",
    "n1 = np.array([[1,2,3],[4,5,6]])\n",
    "n2 = np.array([[[1,2,3],[4,5,6]]])\n",
    "n3 = n1+n2\n",
    "print(n3)"
   ]
  },
  {
   "cell_type": "code",
   "execution_count": 10,
   "metadata": {},
   "outputs": [
    {
     "name": "stdout",
     "output_type": "stream",
     "text": [
      "[[3 7 5]\n",
      " [8 4 3]\n",
      " [2 4 9]]\n",
      "行最大值 [7 8 9]\n",
      "列最大值 [8 7 9]\n",
      "默认最大值 9\n",
      "行最小值 [3 3 2]\n",
      "行最小值 [2 4 3]\n",
      "*************************************\n",
      "百分值 4.0\n",
      "百分值 4.0\n",
      "百分值 [3. 4. 5.]\n"
     ]
    },
    {
     "ename": "TypeError",
     "evalue": "percentile() got an unexpected keyword argument 'keepidms'",
     "output_type": "error",
     "traceback": [
      "\u001b[1;31m---------------------------------------------------------------------------\u001b[0m",
      "\u001b[1;31mTypeError\u001b[0m                                 Traceback (most recent call last)",
      "\u001b[1;32m<ipython-input-10-022d27ae584e>\u001b[0m in \u001b[0;36m<module>\u001b[1;34m()\u001b[0m\n\u001b[0;32m     27\u001b[0m \u001b[0mprint\u001b[0m\u001b[1;33m(\u001b[0m\u001b[1;34m'百分值'\u001b[0m\u001b[1;33m,\u001b[0m\u001b[0mnp\u001b[0m\u001b[1;33m.\u001b[0m\u001b[0mpercentile\u001b[0m\u001b[1;33m(\u001b[0m\u001b[0ma\u001b[0m\u001b[1;33m,\u001b[0m\u001b[1;36m50\u001b[0m\u001b[1;33m)\u001b[0m\u001b[1;33m)\u001b[0m\u001b[1;33m\u001b[0m\u001b[0m\n\u001b[0;32m     28\u001b[0m \u001b[0mprint\u001b[0m\u001b[1;33m(\u001b[0m\u001b[1;34m'百分值'\u001b[0m\u001b[1;33m,\u001b[0m\u001b[0mnp\u001b[0m\u001b[1;33m.\u001b[0m\u001b[0mpercentile\u001b[0m\u001b[1;33m(\u001b[0m\u001b[0ma\u001b[0m\u001b[1;33m,\u001b[0m\u001b[1;36m50\u001b[0m\u001b[1;33m,\u001b[0m\u001b[0maxis\u001b[0m\u001b[1;33m=\u001b[0m\u001b[1;36m0\u001b[0m\u001b[1;33m)\u001b[0m\u001b[1;33m)\u001b[0m\u001b[1;33m\u001b[0m\u001b[0m\n\u001b[1;32m---> 29\u001b[1;33m \u001b[0mprint\u001b[0m\u001b[1;33m(\u001b[0m\u001b[1;34m'百分值 维持数组形状保持不变'\u001b[0m\u001b[1;33m,\u001b[0m\u001b[0mnp\u001b[0m\u001b[1;33m.\u001b[0m\u001b[0mpercentile\u001b[0m\u001b[1;33m(\u001b[0m\u001b[0ma\u001b[0m\u001b[1;33m,\u001b[0m\u001b[1;36m50\u001b[0m\u001b[1;33m,\u001b[0m\u001b[0maxis\u001b[0m\u001b[1;33m=\u001b[0m\u001b[1;36m0\u001b[0m\u001b[1;33m,\u001b[0m\u001b[0mkeepidms\u001b[0m\u001b[1;33m=\u001b[0m\u001b[1;32mTrue\u001b[0m\u001b[1;33m)\u001b[0m\u001b[1;33m)\u001b[0m\u001b[1;33m\u001b[0m\u001b[0m\n\u001b[0m\u001b[0;32m     30\u001b[0m \u001b[1;33m\u001b[0m\u001b[0m\n",
      "\u001b[1;31mTypeError\u001b[0m: percentile() got an unexpected keyword argument 'keepidms'"
     ]
    }
   ],
   "source": [
    "\"\"\"\n",
    "统计函数： 从数组中快速查询最小，最大，百分位标准差，方差等\n",
    "amin()参数：axis 1行，0列\n",
    "amax()\n",
    "ptp() 最大值-最小值的差\n",
    "percentile（） 度量，百分比 1.数组 2.半分比 0-100 3.axis\n",
    "median() 计算数组的（中位数）中值\n",
    "mean（） 算数平均值\n",
    "std() 标准差 sqrt(mean(x-x.mean())**2)\n",
    "      标准差是一组数组的平均值分散成都的一种变量\n",
    "var（） 方差 mean（（x-x.mean()**2））\n",
    "         平均数之差的平方的平均数\n",
    "加权平均数 ：average（）各个数值乘以相应的权数，然后总求和得到总体值，再除以总数\n",
    "参数：weights：权重系数（可选参数，默认为一）\n",
    "\n",
    "\"\"\"\n",
    "a = np.array([[3,7,5],[8,4,3],[2,4,9]])\n",
    "print(a)\n",
    "print('行最大值',np.amax(a,axis=1))\n",
    "print('列最大值',np.amax(a,axis=0))\n",
    "print('默认最大值',np.amax(a))\n",
    "print('行最小值',np.amin(a,axis=1))\n",
    "print('行最小值',np.amin(a,axis=0))\n",
    "print(\"*************************************\")\n",
    "# 百分值 50%的分位数，a排序后的中位数\n",
    "print('百分值',np.percentile(a,50))\n",
    "print('百分值',np.percentile(a,50))\n",
    "print('百分值',np.percentile(a,50,axis=0))\n",
    "print('百分值 维持数组形状保持不变',np.percentile(a,50,axis=0,keepidms=True))\n",
    "\n",
    "\n"
   ]
  },
  {
   "cell_type": "code",
   "execution_count": 11,
   "metadata": {},
   "outputs": [
    {
     "name": "stdout",
     "output_type": "stream",
     "text": [
      "中位数 4.0\n",
      "行中位数 [5. 4. 4.]\n",
      "列中位数 [3. 4. 5.]\n"
     ]
    }
   ],
   "source": [
    "# 中位数\n",
    "print('中位数',np.median(a))\n",
    "print('行中位数',np.median(a,axis=1))\n",
    "print('列中位数',np.median(a,axis=0))"
   ]
  },
  {
   "cell_type": "code",
   "execution_count": null,
   "metadata": {},
   "outputs": [],
   "source": []
  }
 ],
 "metadata": {
  "kernelspec": {
   "display_name": "Python 3",
   "language": "python",
   "name": "python3"
  },
  "language_info": {
   "codemirror_mode": {
    "name": "ipython",
    "version": 3
   },
   "file_extension": ".py",
   "mimetype": "text/x-python",
   "name": "python",
   "nbconvert_exporter": "python",
   "pygments_lexer": "ipython3",
   "version": "3.7.0"
  }
 },
 "nbformat": 4,
 "nbformat_minor": 2
}
