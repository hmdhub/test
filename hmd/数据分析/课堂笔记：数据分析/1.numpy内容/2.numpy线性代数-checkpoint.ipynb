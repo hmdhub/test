{
 "cells": [
  {
   "cell_type": "code",
   "execution_count": 1,
   "metadata": {},
   "outputs": [],
   "source": [
    "import numpy as np"
   ]
  },
  {
   "cell_type": "code",
   "execution_count": 2,
   "metadata": {},
   "outputs": [
    {
     "data": {
      "text/plain": [
       "'\\n数组 ： 一维[]\\n       既不是行向量，也不是列向量\\n向量\\n矩阵\\n\\n线性函数：\\n        dot 两个数组的点积，元素队应相乘\\n            1.a数组\\n            2.b数组\\n            3.out选择是否使用dot保存结果\\n        vdot \\n'"
      ]
     },
     "execution_count": 2,
     "metadata": {},
     "output_type": "execute_result"
    }
   ],
   "source": [
    "\"\"\"\n",
    "数组 ： 一维[]\n",
    "       既不是行向量，也不是列向量\n",
    "向量\n",
    "矩阵\n",
    "\n",
    "线性函数：\n",
    "        dot 两个数组的点积，元素队应相乘\n",
    "            1.a数组\n",
    "            2.b数组\n",
    "            3.out选择是否使用dot保存结果\n",
    "        vdot \n",
    "\"\"\"\n"
   ]
  },
  {
   "cell_type": "code",
   "execution_count": null,
   "metadata": {},
   "outputs": [],
   "source": [
    "\"\"\"\n",
    "    dot 一维，计算两个数组对应下标位置元素的乘积和\n",
    "        二维，计算数组的矩阵乘积，交叉元素乘积和\n",
    "        公式：1*11 + 2*12 + 3*13 + 4*14\n",
    "\"\"\"\n",
    "a = np.array([[1,2],[3,4]])\n",
    "b = np.array([[11,22],[13,14]])\n",
    "print(a)\n",
    "print(b)\n",
    "print('数组点积',np.dot(a,b))"
   ]
  },
  {
   "cell_type": "code",
   "execution_count": null,
   "metadata": {},
   "outputs": [],
   "source": []
  },
  {
   "cell_type": "code",
   "execution_count": null,
   "metadata": {},
   "outputs": [],
   "source": []
  },
  {
   "cell_type": "code",
   "execution_count": null,
   "metadata": {},
   "outputs": [],
   "source": []
  }
 ],
 "metadata": {
  "kernelspec": {
   "display_name": "Python 3",
   "language": "python",
   "name": "python3"
  },
  "language_info": {
   "codemirror_mode": {
    "name": "ipython",
    "version": 3
   },
   "file_extension": ".py",
   "mimetype": "text/x-python",
   "name": "python",
   "nbconvert_exporter": "python",
   "pygments_lexer": "ipython3",
   "version": "3.7.0"
  }
 },
 "nbformat": 4,
 "nbformat_minor": 2
}
