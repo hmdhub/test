{
 "cells": [
  {
   "cell_type": "code",
   "execution_count": 1,
   "metadata": {},
   "outputs": [],
   "source": [
    "import numpy as np"
   ]
  },
  {
   "cell_type": "code",
   "execution_count": 2,
   "metadata": {},
   "outputs": [
    {
     "name": "stdout",
     "output_type": "stream",
     "text": [
      "4行2列 [[0.07115257 0.63574843]\n",
      " [0.59313578 0.52854083]\n",
      " [0.95309549 0.75365045]\n",
      " [0.73051745 0.63596014]]\n",
      "3行3列 [[0.45254254 0.13624164 0.47934687]\n",
      " [0.11557834 0.67398634 0.08062677]\n",
      " [0.86821078 0.23176029 0.92155547]]\n"
     ]
    }
   ],
   "source": [
    "\"\"\"\n",
    "   rand\n",
    "   \n",
    "\"\"\"\n",
    "\n",
    "# 创建一个4行2列的随机数据\n",
    "a = np.random.rand(4,2)  #可以取到0取不到1\n",
    "print('4行2列',a)\n",
    "\n",
    "# 3行3列的\n",
    "b = np.random.rand(3,3)\n",
    "print('3行3列',b)"
   ]
  },
  {
   "cell_type": "code",
   "execution_count": 3,
   "metadata": {},
   "outputs": [
    {
     "name": "stdout",
     "output_type": "stream",
     "text": [
      "6\n"
     ]
    },
    {
     "data": {
      "text/plain": [
       "(array([0., 0., 0., 0., 0., 1., 0., 0., 0., 0.]),\n",
       " array([5.5, 5.6, 5.7, 5.8, 5.9, 6. , 6.1, 6.2, 6.3, 6.4, 6.5]),\n",
       " <a list of 10 Patch objects>)"
      ]
     },
     "execution_count": 3,
     "metadata": {},
     "output_type": "execute_result"
    }
   ],
   "source": [
    "\"\"\"\n",
    "   numpy.random.randon()\n",
    "\"\"\"\n",
    "\n",
    "from matplotlib import  pyplot as plt\n",
    "# a = np.random.randint(low,high=50,size=100,dtype='1')\n",
    "a = np.random.randint(10)\n",
    "print(a)    # 一维  以0为均值以1为标准差\n",
    "\n",
    "# 绘制直方图\n",
    "plt.hist(a)"
   ]
  },
  {
   "cell_type": "code",
   "execution_count": 4,
   "metadata": {},
   "outputs": [
    {
     "name": "stdout",
     "output_type": "stream",
     "text": [
      "一维 [9 0 6 7 7]\n",
      "一维 [6 8 8 6 2]\n",
      "二维 [[5 2 3 7 3]\n",
      " [9 4 7 7 8]]\n",
      "三维 [[[3 5 8 7 3]\n",
      "  [5 2 9 6 5]]\n",
      "\n",
      " [[3 2 9 7 6]\n",
      "  [6 5 6 3 9]]]\n",
      "负数 [[-1  2]\n",
      " [ 2  2]]\n"
     ]
    }
   ],
   "source": [
    "\"\"\"\n",
    "   numpy.random.randint()\n",
    "   返回随机整数，范围区间为[low，high]，包含low，不包含high\n",
    "   参数：low为最小值，high为最大值，size维数组维度大小，dtype为数据类型，默认的数据类型是np.int\n",
    "   high没有填写时，默认生成随机数的范围是[1，low)\n",
    "\n",
    "\"\"\"\n",
    "# 指定最小值，没有最大值（0--最小值）\n",
    "a = np.random.randint(10,size=5)\n",
    "print('一维',a)\n",
    "# 指定最大值和最小值\n",
    "b = np.random.randint(2,10,size=5)\n",
    "print('一维',b)\n",
    "# 生成二维\n",
    "c = np.random.randint(2,10,size=(2,5))  # 二维\n",
    "print('二维',c)\n",
    "#生成三维\n",
    "d = np.random.randint(2,10,size=(2,2,5))\n",
    "print('三维',d)\n",
    "# 负数\n",
    "num= np.random.randint(-1,5,size=(2,2))\n",
    "print('负数',num)"
   ]
  },
  {
   "cell_type": "code",
   "execution_count": 5,
   "metadata": {},
   "outputs": [
    {
     "name": "stdout",
     "output_type": "stream",
     "text": [
      "[[0.04335586 0.51320409 0.14731393]\n",
      " [0.37425213 0.8066883  0.28766819]]\n"
     ]
    }
   ],
   "source": [
    "\"\"\"\n",
    "返回半开区间的随机浮点数[0.0,1.0]\n",
    "numpy.random.samply(size=None)\n",
    "\"\"\"\n",
    "\n",
    "\n",
    "# 生成2行3列\n",
    "a = np.random.sample((2,3))\n",
    "print(a)\n",
    "\n",
    "# 生成2块   2行3列 ---------三维\n",
    "b = np.random.sample()"
   ]
  },
  {
   "cell_type": "code",
   "execution_count": 6,
   "metadata": {},
   "outputs": [
    {
     "name": "stdout",
     "output_type": "stream",
     "text": [
      "a [[-0.41675785 -0.05626683 -2.1361961 ]\n",
      " [ 1.64027081 -1.79343559 -0.84174737]\n",
      " [ 0.50288142 -1.24528809 -1.05795222]]\n",
      "b [[-0.41675785 -0.05626683 -2.1361961 ]\n",
      " [ 1.64027081 -1.79343559 -0.84174737]\n",
      " [ 0.50288142 -1.24528809 -1.05795222]]\n"
     ]
    }
   ],
   "source": [
    "\"\"\"\n",
    "   随机种子：numpy.random.seed()  \n",
    "   seed（）值每一次生成都要一样，不一样没有效果\n",
    "\n",
    "\"\"\"\n",
    "np.random.seed(2)\n",
    "a = np.random.randn(3,3)\n",
    "np.random.seed(2)\n",
    "b = np.random.randn(3,3)\n",
    "print('a',b)\n",
    "print('b',b)"
   ]
  },
  {
   "cell_type": "code",
   "execution_count": 7,
   "metadata": {},
   "outputs": [
    {
     "name": "stdout",
     "output_type": "stream",
     "text": [
      "[[-0.90900761  0.55145404]\n",
      " [ 2.29220801  0.04153939]\n",
      " [-1.11792545  0.53905832]]\n",
      "[[-0.7884791   0.94260851]\n",
      " [ 4.52500366 -1.24361285]\n",
      " [ 1.02707575 -1.63432368]]\n"
     ]
    }
   ],
   "source": [
    "\"\"\"\n",
    "正态分布： numpy.random.normal()\n",
    "numpy.random.normal(loc=0.0，scale=1.0，size=None)\n",
    "作用：\n",
    "    返回一个由size指定形状的数组，数组中的值服从μ=loc，标准差σ=scale的正态分布\n",
    "参数：\n",
    "    loc：float型或者float型的类数组对象\n",
    "    scale：指定标准差σ\n",
    "    size：int型或int型的元组，指定数组的形状。如果不提供size，且loc和scale为标量\n",
    "         （不是类数组对象），则服从一个该分布的随机函数\n",
    "\"\"\"\n",
    "# 均值为0，标准差为1\n",
    "a = np.random.normal(0,1,(3,2))\n",
    "print(a)\n",
    "# 自定义均值和标准差\n",
    "# 均值为1，标准差为3\n",
    "b = np.random.normal(1,3,(3,2))\n",
    "# 符合正态分布的情况\n",
    "print(b)\n"
   ]
  },
  {
   "cell_type": "code",
   "execution_count": 8,
   "metadata": {},
   "outputs": [
    {
     "name": "stdout",
     "output_type": "stream",
     "text": [
      "[[1 2 3]\n",
      " [4 5 6]]\n",
      "[[1 2 3]\n",
      " [4 5 6]\n",
      " [1 2 3]]\n",
      "[[1 2 3]\n",
      " [4 5 6]\n",
      " [1 2 3]]\n"
     ]
    }
   ],
   "source": [
    "\"\"\"\n",
    "数组的其他函数：numpy.resize()返回指定形状的新数组\n",
    "           1.numpy.resize(arr,shape)：有返回值，返回复制内容；如果维度不够，会使用原数组数据补齐\n",
    "           2.ndarray.resize(shape,refcheck=False):修改原数组，不会返回数据；如果维度不够，会使用0补齐\n",
    "\"\"\"\n",
    "h = np.array([[1,2,3],[4,5,6]])\n",
    "print(h)\n",
    "#  numpy.resize(arr,shape)\n",
    "a =  np.resize(h,(3,3))\n",
    "print(a)\n",
    "# ndarray.resize(shape,refcheck=False)\n",
    "a.resize((3,3),refcheck=False)\n",
    "print(a)"
   ]
  },
  {
   "cell_type": "code",
   "execution_count": 9,
   "metadata": {},
   "outputs": [
    {
     "name": "stdout",
     "output_type": "stream",
     "text": [
      "[[1 2 3]\n",
      " [4 5 6]]\n",
      "添加元素： [1 2 3 4 5 6 7 8 9]\n",
      "添加元素 行\n",
      "[[1 2 3]\n",
      " [4 5 6]\n",
      " [7 8 9]]\n",
      "添加元素 列\n",
      "[[1 2 3 5 5 5]\n",
      " [4 5 6 7 8 9]]\n"
     ]
    }
   ],
   "source": [
    "\"\"\"\n",
    "numpy.append(arr，values，axis=None) 在数组末尾添加值，返回一个一维数组\n",
    "参数：\n",
    "     arr：输入的数组\n",
    "     values：向arr数组中添加的值，需要和arr数组的形状一致\n",
    "     axis：默认为None，返回的是一维数组；\n",
    "           当axis = 0 时，追加的值会添加到行，列保持不变\n",
    "           axis=1时，则恰好相反\n",
    "\"\"\"\n",
    "\n",
    "h = np.array([[1,2,3],[4,5,6]])  # 二维\n",
    "print(h)\n",
    "print('添加元素：',np.append(h,[7,8,9]))\n",
    "# 指定 axis=0 行\n",
    "print('添加元素 行')\n",
    "print(np.append(h,[[7,8,9]],axis=0)) #与h保持一致是二维\n",
    "# 指定axis=1 列\n",
    "print('添加元素 列') # 在指定列时要加上行\n",
    "print(np.append(h,[[5,5,5],[7,8,9]],axis=1))#[[5,5,5]行,[7,8,9]列]"
   ]
  },
  {
   "cell_type": "code",
   "execution_count": 10,
   "metadata": {},
   "outputs": [
    {
     "name": "stdout",
     "output_type": "stream",
     "text": [
      "[[1 2]\n",
      " [3 4]\n",
      " [5 6]]\n",
      "[ 1  2  3 11 12  4  5  6]\n",
      "指定行 [[ 1  2]\n",
      " [11 11]\n",
      " [ 3  4]\n",
      " [ 5  6]]\n",
      "指定列 [[ 1 11  2]\n",
      " [ 3 11  4]\n",
      " [ 5 11  6]]\n"
     ]
    }
   ],
   "source": [
    "\"\"\"\n",
    "numpy.insert(arr,obj,value,axis)\n",
    "参数：\n",
    "    arr：要输入的数组\n",
    "    obj：索引值，在索引值之前插入values值\n",
    "    values：要插入的值\n",
    "    axis：指定的轴，如果没有则输入数组会展开为一维数组\n",
    "\"\"\"\n",
    "\n",
    "a = np.array([[1,2],[3,4],[5,6]])  #原数组\n",
    "print(a)\n",
    "# 不指定\n",
    "print(np.insert(a,3,[11,12]))  # 在3和4之间切开了\n",
    "# 指定axis=0 行 \n",
    "print('指定行',np.insert(a,1,11,axis=0))\n",
    "# 指定axis=1\n",
    "print('指定列',np.insert(a,1,11,axis=1))"
   ]
  },
  {
   "cell_type": "code",
   "execution_count": null,
   "metadata": {},
   "outputs": [],
   "source": []
  },
  {
   "cell_type": "code",
   "execution_count": null,
   "metadata": {},
   "outputs": [],
   "source": []
  },
  {
   "cell_type": "code",
   "execution_count": null,
   "metadata": {},
   "outputs": [],
   "source": []
  },
  {
   "cell_type": "code",
   "execution_count": null,
   "metadata": {},
   "outputs": [],
   "source": []
  }
 ],
 "metadata": {
  "kernelspec": {
   "display_name": "Python 3",
   "language": "python",
   "name": "python3"
  },
  "language_info": {
   "codemirror_mode": {
    "name": "ipython",
    "version": 3
   },
   "file_extension": ".py",
   "mimetype": "text/x-python",
   "name": "python",
   "nbconvert_exporter": "python",
   "pygments_lexer": "ipython3",
   "version": "3.7.0"
  }
 },
 "nbformat": 4,
 "nbformat_minor": 2
}
