{
 "cells": [
  {
   "cell_type": "code",
   "execution_count": 1,
   "metadata": {},
   "outputs": [
    {
     "name": "stdout",
     "output_type": "stream",
     "text": [
      "1.15.1\n"
     ]
    }
   ],
   "source": [
    "import numpy as np\n",
    "print(np.__version__)  # 会输出numpy版本"
   ]
  },
  {
   "cell_type": "code",
   "execution_count": 2,
   "metadata": {},
   "outputs": [
    {
     "name": "stdout",
     "output_type": "stream",
     "text": [
      "[1. 2. 3. 4.]\n",
      "[False  True  True  True  True]\n",
      "['0' '1' '2' '3' '4']\n",
      "[b'0' b'1' b'2' b'3' b'4']\n",
      "['我们' '1' '2' '3' '4' '5' '56']\n"
     ]
    }
   ],
   "source": [
    "a = np.array([1,2,3,4])\n",
    "# 把数组的类型存储为浮点型\n",
    "a = a.astype(dtype='float64')  # 浮点型\n",
    "a = np.array([1,2,3,4],dtype=np.float64)  # 两种写法\n",
    "print(a)\n",
    "\n",
    "# 布尔 bool\n",
    "b = np.array([0,1,2,3,4],dtype = np.bool_)\n",
    "print(b)\n",
    "\n",
    "# 字符串  string\n",
    "str1 = np.array([0,1,2,3,4],dtype = np.str_)\n",
    "str2 = np.array([0,1,2,3,4],dtype = np.string_)\n",
    "print(str1)  #结果为['0' '1' '2' '3' '4']\n",
    "print(str2)  # 运行结果为字节形式[b'0' b'1' b'2' b'3' b'4']\n",
    "str3 = np.array(['我们',1,2,3,4,5,56],dtype = np.str_)\n",
    "print(str3)"
   ]
  },
  {
   "cell_type": "code",
   "execution_count": 3,
   "metadata": {},
   "outputs": [
    {
     "name": "stdout",
     "output_type": "stream",
     "text": [
      "[('age', '<U1')]\n",
      "[('我',) ('1',)] [('age', '<U1')]\n",
      "['我' '1']\n"
     ]
    }
   ],
   "source": [
    "# 结构化数据类型\n",
    "dt = np.dtype([('age','U1')]) # 数据类型 # U为Unicode\n",
    "print(dt)\n",
    "stu = np.array([(\"我们\"),(128)],dtype = dt)\n",
    "print(stu,stu.dtype)\n",
    "print(stu['age'])"
   ]
  },
  {
   "cell_type": "code",
   "execution_count": 4,
   "metadata": {},
   "outputs": [
    {
     "name": "stdout",
     "output_type": "stream",
     "text": [
      "[('hyy', 18, 23499.455) ('hmd', 12, 99999.8  )]\n",
      "['hyy' 'hmd']\n",
      "[18 12]\n",
      "[23499.455 99999.8  ]\n"
     ]
    }
   ],
   "source": [
    "'''\n",
    "老师的三个特征： 姓名， 年龄， 工资\n",
    "              str字段 name\n",
    "              int字段 年龄\n",
    "              float字段 工资\n",
    "'''\n",
    "teacher = np.dtype([('name',np.str_,3),('age','i1'),('salary','f4')])\n",
    "a = np.array([('hyy',18,23499.456),\n",
    "              ('hmd',12,99999.80)],dtype = teacher)\n",
    "print(a)\n",
    "print(a['name'])\n",
    "print(a['age'])\n",
    "print(a['salary'])"
   ]
  },
  {
   "cell_type": "code",
   "execution_count": null,
   "metadata": {},
   "outputs": [],
   "source": []
  },
  {
   "cell_type": "code",
   "execution_count": null,
   "metadata": {},
   "outputs": [],
   "source": []
  },
  {
   "cell_type": "code",
   "execution_count": null,
   "metadata": {},
   "outputs": [],
   "source": []
  }
 ],
 "metadata": {
  "kernelspec": {
   "display_name": "Python 3",
   "language": "python",
   "name": "python3"
  },
  "language_info": {
   "codemirror_mode": {
    "name": "ipython",
    "version": 3
   },
   "file_extension": ".py",
   "mimetype": "text/x-python",
   "name": "python",
   "nbconvert_exporter": "python",
   "pygments_lexer": "ipython3",
   "version": "3.7.0"
  }
 },
 "nbformat": 4,
 "nbformat_minor": 2
}
