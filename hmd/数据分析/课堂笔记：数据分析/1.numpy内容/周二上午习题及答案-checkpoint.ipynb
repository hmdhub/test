{
 "cells": [
  {
   "cell_type": "code",
   "execution_count": 1,
   "metadata": {},
   "outputs": [
    {
     "name": "stdout",
     "output_type": "stream",
     "text": [
      "1.15.1\n"
     ]
    }
   ],
   "source": [
    "import numpy as np\n",
    "print(np.__version__)  # 会输出numpy版本"
   ]
  },
  {
   "cell_type": "code",
   "execution_count": 2,
   "metadata": {},
   "outputs": [
    {
     "name": "stdout",
     "output_type": "stream",
     "text": [
      "[ 1  3  5  7  9 11]\n",
      "[ 1  3  5  7  9 11]\n",
      "[ 0  2  4  6  8 10]\n",
      "[[ 0 -1  2]\n",
      " [-1  4 -1]\n",
      " [ 6 -1  8]\n",
      " [-1 10 -1]]\n"
     ]
    }
   ],
   "source": [
    "x = np.array([[0,1,2],[3,4,5],[6,7,8],[9,10,11]])\n",
    "# 提取出数组中所有奇数（两个方法）\n",
    "h = (x[x%2==1])  # 方法一\n",
    "print(h)\n",
    "hm = (x[x%2!=0])# 方法二\n",
    "print(hm)\n",
    "even = (x[x%2==0])     # 提取数据中的所有偶数\n",
    "print(even)\n",
    "x[x % 2 == 1] = -1  # 修改奇数值为-1\n",
    "print(x)"
   ]
  },
  {
   "cell_type": "code",
   "execution_count": null,
   "metadata": {},
   "outputs": [],
   "source": [
    "# 分别反转练习五 二维数组的列和行\n",
    "# 反转行：第一行变成最后一行，第二行变成倒数第二行\n",
    "# 反转列：第一列变成最后一，第二列变成倒数第二列\n",
    "a = np.arange(0,20).reshape(4,5)\n",
    "print('原数组',a)\n",
    "# 反转行\n",
    "print('反转行',a[::-1])\n",
    "# 反转列\n",
    "print('反转列',a[:,::-1])"
   ]
  }
 ],
 "metadata": {
  "kernelspec": {
   "display_name": "Python 3",
   "language": "python",
   "name": "python3"
  },
  "language_info": {
   "codemirror_mode": {
    "name": "ipython",
    "version": 3
   },
   "file_extension": ".py",
   "mimetype": "text/x-python",
   "name": "python",
   "nbconvert_exporter": "python",
   "pygments_lexer": "ipython3",
   "version": "3.7.0"
  }
 },
 "nbformat": 4,
 "nbformat_minor": 2
}
