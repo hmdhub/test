{
 "cells": [
  {
   "cell_type": "code",
   "execution_count": 5,
   "metadata": {},
   "outputs": [
    {
     "name": "stdout",
     "output_type": "stream",
     "text": [
      "E:\\大二上学期内容\\hmd\\Numpy\\,\n"
     ]
    }
   ],
   "source": [
    "import os\n",
    "print(os.path.abspath(','))"
   ]
  },
  {
   "cell_type": "code",
   "execution_count": null,
   "metadata": {},
   "outputs": [],
   "source": [
    "a = np.array([1,2,3,4])\n",
    "# 把数组的类型存储为浮点型\n",
    "a = a.astype(dtype='float64')  # 浮点型\n",
    "a = np.array([1,2,3,4],dtype=np.float64)  # 两种写法\n",
    "print(a)\n",
    "\n",
    "# 布尔 bool\n",
    "b = np.array([0,1,2,3,4],dtype = np.bool_)\n",
    "print(b)\n",
    "\n",
    "# 字符串  string\n",
    "str1 = np.array([0,1,2,3,4],dtype = np.str_)\n",
    "str2 = np.array([0,1,2,3,4],dtype = np.string_)\n",
    "print(str1)  #结果为['0' '1' '2' '3' '4']\n",
    "print(str2)  # 运行结果为字节形式[b'0' b'1' b'2' b'3' b'4']\n",
    "str3 = np.array(['我们',1,2,3,4,5,56],dtype = np.str_)\n",
    "print(str3)"
   ]
  },
  {
   "cell_type": "code",
   "execution_count": null,
   "metadata": {},
   "outputs": [],
   "source": [
    "# 结构化数据类型\n",
    "dt = np.dtype([('age','U1')]) # 数据类型 # U为Unicode\n",
    "print(dt)\n",
    "stu = np.array([(\"我们\"),(128)],dtype = dt)\n",
    "print(stu,stu.dtype)\n",
    "print(stu['age'])"
   ]
  },
  {
   "cell_type": "code",
   "execution_count": null,
   "metadata": {},
   "outputs": [],
   "source": [
    "'''\n",
    "老师的三个特征： 姓名， 年龄， 工资\n",
    "              str字段 name\n",
    "              int字段 年龄\n",
    "              float字段 工资\n",
    "'''\n",
    "teacher = np.dtype([('name',np.str_,3),('age','i1'),('salary','f4')])\n",
    "a = np.array([('hyy',18,23499.456),\n",
    "              ('hmd',12,99999.80)],dtype = teacher)\n",
    "print(a)\n",
    "print(a['name'])\n",
    "print(a['age'])\n",
    "print(a['salary'])"
   ]
  },
  {
   "cell_type": "code",
   "execution_count": 4,
   "metadata": {},
   "outputs": [
    {
     "name": "stdout",
     "output_type": "stream",
     "text": [
      "我们今天很开心\n"
     ]
    }
   ],
   "source": [
    "data = np.loadtxt('文字.txt',encoding='utf-8',dtype='str_')\n",
    "print(data)"
   ]
  },
  {
   "cell_type": "code",
   "execution_count": 6,
   "metadata": {},
   "outputs": [
    {
     "name": "stdout",
     "output_type": "stream",
     "text": [
      "E:\\大二上学期内容\\hmd\\Numpy\\,\n"
     ]
    }
   ],
   "source": [
    "import os\n",
    "print(os.path.abspath(','))  # 查找我的路径在哪"
   ]
  },
  {
   "cell_type": "code",
   "execution_count": 3,
   "metadata": {},
   "outputs": [],
   "source": [
    "import numpy as np"
   ]
  }
 ],
 "metadata": {
  "kernelspec": {
   "display_name": "Python 3",
   "language": "python",
   "name": "python3"
  },
  "language_info": {
   "codemirror_mode": {
    "name": "ipython",
    "version": 3
   },
   "file_extension": ".py",
   "mimetype": "text/x-python",
   "name": "python",
   "nbconvert_exporter": "python",
   "pygments_lexer": "ipython3",
   "version": "3.7.0"
  }
 },
 "nbformat": 4,
 "nbformat_minor": 2
}
