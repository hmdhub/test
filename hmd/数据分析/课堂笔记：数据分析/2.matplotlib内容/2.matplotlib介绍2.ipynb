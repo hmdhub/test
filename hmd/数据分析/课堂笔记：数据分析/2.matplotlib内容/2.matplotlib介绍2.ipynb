{
 "cells": [
  {
   "cell_type": "code",
   "execution_count": 18,
   "metadata": {},
   "outputs": [
    {
     "name": "stdout",
     "output_type": "stream",
     "text": [
      "3.5.3\n"
     ]
    }
   ],
   "source": [
    "import matplotlib\n",
    "print(matplotlib.__version__)\n",
    "from matplotlib import pyplot as plt\n",
    "import numpy as np"
   ]
  },
  {
   "cell_type": "code",
   "execution_count": 19,
   "metadata": {},
   "outputs": [
    {
     "data": {
      "text/plain": [
       "<matplotlib.legend.Legend at 0x2056271e400>"
      ]
     },
     "execution_count": 19,
     "metadata": {},
     "output_type": "execute_result"
    },
    {
     "name": "stderr",
     "output_type": "stream",
     "text": [
      "D:\\code\\lib\\site-packages\\IPython\\core\\events.py:88: UserWarning: Glyph 24180 (\\N{CJK UNIFIED IDEOGRAPH-5E74}) missing from current font.\n",
      "  func(*args, **kwargs)\n",
      "D:\\code\\lib\\site-packages\\IPython\\core\\events.py:88: UserWarning: Glyph 24230 (\\N{CJK UNIFIED IDEOGRAPH-5EA6}) missing from current font.\n",
      "  func(*args, **kwargs)\n",
      "D:\\code\\lib\\site-packages\\IPython\\core\\events.py:88: UserWarning: Glyph 38144 (\\N{CJK UNIFIED IDEOGRAPH-9500}) missing from current font.\n",
      "  func(*args, **kwargs)\n",
      "D:\\code\\lib\\site-packages\\IPython\\core\\events.py:88: UserWarning: Glyph 37327 (\\N{CJK UNIFIED IDEOGRAPH-91CF}) missing from current font.\n",
      "  func(*args, **kwargs)\n",
      "D:\\code\\lib\\site-packages\\IPython\\core\\events.py:88: UserWarning: Glyph 32447 (\\N{CJK UNIFIED IDEOGRAPH-7EBF}) missing from current font.\n",
      "  func(*args, **kwargs)\n",
      "D:\\code\\lib\\site-packages\\IPython\\core\\events.py:88: UserWarning: Glyph 24418 (\\N{CJK UNIFIED IDEOGRAPH-5F62}) missing from current font.\n",
      "  func(*args, **kwargs)\n",
      "D:\\code\\lib\\site-packages\\IPython\\core\\events.py:88: UserWarning: Glyph 22270 (\\N{CJK UNIFIED IDEOGRAPH-56FE}) missing from current font.\n",
      "  func(*args, **kwargs)\n",
      "D:\\code\\lib\\site-packages\\IPython\\core\\events.py:88: UserWarning: Glyph 20221 (\\N{CJK UNIFIED IDEOGRAPH-4EFD}) missing from current font.\n",
      "  func(*args, **kwargs)\n",
      "D:\\code\\lib\\site-packages\\IPython\\core\\pylabtools.py:125: UserWarning: Glyph 24180 (\\N{CJK UNIFIED IDEOGRAPH-5E74}) missing from current font.\n",
      "  fig.canvas.print_figure(bytes_io, **kw)\n",
      "D:\\code\\lib\\site-packages\\IPython\\core\\pylabtools.py:125: UserWarning: Glyph 24230 (\\N{CJK UNIFIED IDEOGRAPH-5EA6}) missing from current font.\n",
      "  fig.canvas.print_figure(bytes_io, **kw)\n",
      "D:\\code\\lib\\site-packages\\IPython\\core\\pylabtools.py:125: UserWarning: Glyph 38144 (\\N{CJK UNIFIED IDEOGRAPH-9500}) missing from current font.\n",
      "  fig.canvas.print_figure(bytes_io, **kw)\n",
      "D:\\code\\lib\\site-packages\\IPython\\core\\pylabtools.py:125: UserWarning: Glyph 37327 (\\N{CJK UNIFIED IDEOGRAPH-91CF}) missing from current font.\n",
      "  fig.canvas.print_figure(bytes_io, **kw)\n",
      "D:\\code\\lib\\site-packages\\IPython\\core\\pylabtools.py:125: UserWarning: Glyph 32447 (\\N{CJK UNIFIED IDEOGRAPH-7EBF}) missing from current font.\n",
      "  fig.canvas.print_figure(bytes_io, **kw)\n",
      "D:\\code\\lib\\site-packages\\IPython\\core\\pylabtools.py:125: UserWarning: Glyph 24418 (\\N{CJK UNIFIED IDEOGRAPH-5F62}) missing from current font.\n",
      "  fig.canvas.print_figure(bytes_io, **kw)\n",
      "D:\\code\\lib\\site-packages\\IPython\\core\\pylabtools.py:125: UserWarning: Glyph 22270 (\\N{CJK UNIFIED IDEOGRAPH-56FE}) missing from current font.\n",
      "  fig.canvas.print_figure(bytes_io, **kw)\n",
      "D:\\code\\lib\\site-packages\\IPython\\core\\pylabtools.py:125: UserWarning: Glyph 20221 (\\N{CJK UNIFIED IDEOGRAPH-4EFD}) missing from current font.\n",
      "  fig.canvas.print_figure(bytes_io, **kw)\n"
     ]
    },
    {
     "data": {
      "image/png": "[encoded data removed]",
      "text/plain": [
       "<Figure size 432x288 with 1 Axes>"
      ]
     },
     "metadata": {
      "needs_background": "light"
     },
     "output_type": "display_data"
    }
   ],
   "source": [
    "#  已知数据为2000年到2020年20年之间的销售情况\n",
    "# sales = [109,150,172,260,273,333,347,393,402,446,466,481,499,504,513,563,815,900,930,961]要求：\n",
    "# 1.绘制年度销量线形图x轴为年份，y轴为销量\n",
    "# 2.显示图例\n",
    "\n",
    "times = np.arange(2000,2020).astype(np.str_)\n",
    "sales = [109,150,172,260,273,333,347,393,402,446,466,481,499,504,513,563,815,900,930,961]\n",
    "# 设置标题\n",
    "plt.title('年度销量线形图')\n",
    "plt.xlabel('年份')\n",
    "plt.ylabel('销量')\n",
    "# 绘图\n",
    "plt.plot(times,sales,label='销量')\n",
    "#  添加图例\n",
    "plt.legend()"
   ]
  },
  {
   "cell_type": "code",
   "execution_count": 20,
   "metadata": {},
   "outputs": [
    {
     "data": {
      "text/plain": [
       "<BarContainer object of 5 artists>"
      ]
     },
     "execution_count": 20,
     "metadata": {},
     "output_type": "execute_result"
    },
    {
     "name": "stderr",
     "output_type": "stream",
     "text": [
      "D:\\code\\lib\\site-packages\\IPython\\core\\events.py:88: UserWarning: Glyph 25386 (\\N{CJK UNIFIED IDEOGRAPH-632A}) missing from current font.\n",
      "  func(*args, **kwargs)\n",
      "D:\\code\\lib\\site-packages\\IPython\\core\\events.py:88: UserWarning: Glyph 23041 (\\N{CJK UNIFIED IDEOGRAPH-5A01}) missing from current font.\n",
      "  func(*args, **kwargs)\n",
      "D:\\code\\lib\\site-packages\\IPython\\core\\events.py:88: UserWarning: Glyph 24503 (\\N{CJK UNIFIED IDEOGRAPH-5FB7}) missing from current font.\n",
      "  func(*args, **kwargs)\n",
      "D:\\code\\lib\\site-packages\\IPython\\core\\events.py:88: UserWarning: Glyph 22269 (\\N{CJK UNIFIED IDEOGRAPH-56FD}) missing from current font.\n",
      "  func(*args, **kwargs)\n",
      "D:\\code\\lib\\site-packages\\IPython\\core\\events.py:88: UserWarning: Glyph 20013 (\\N{CJK UNIFIED IDEOGRAPH-4E2D}) missing from current font.\n",
      "  func(*args, **kwargs)\n",
      "D:\\code\\lib\\site-packages\\IPython\\core\\events.py:88: UserWarning: Glyph 32654 (\\N{CJK UNIFIED IDEOGRAPH-7F8E}) missing from current font.\n",
      "  func(*args, **kwargs)\n",
      "D:\\code\\lib\\site-packages\\IPython\\core\\events.py:88: UserWarning: Glyph 29790 (\\N{CJK UNIFIED IDEOGRAPH-745E}) missing from current font.\n",
      "  func(*args, **kwargs)\n",
      "D:\\code\\lib\\site-packages\\IPython\\core\\events.py:88: UserWarning: Glyph 20856 (\\N{CJK UNIFIED IDEOGRAPH-5178}) missing from current font.\n",
      "  func(*args, **kwargs)\n",
      "D:\\code\\lib\\site-packages\\IPython\\core\\pylabtools.py:125: UserWarning: Glyph 25386 (\\N{CJK UNIFIED IDEOGRAPH-632A}) missing from current font.\n",
      "  fig.canvas.print_figure(bytes_io, **kw)\n",
      "D:\\code\\lib\\site-packages\\IPython\\core\\pylabtools.py:125: UserWarning: Glyph 23041 (\\N{CJK UNIFIED IDEOGRAPH-5A01}) missing from current font.\n",
      "  fig.canvas.print_figure(bytes_io, **kw)\n",
      "D:\\code\\lib\\site-packages\\IPython\\core\\pylabtools.py:125: UserWarning: Glyph 24503 (\\N{CJK UNIFIED IDEOGRAPH-5FB7}) missing from current font.\n",
      "  fig.canvas.print_figure(bytes_io, **kw)\n",
      "D:\\code\\lib\\site-packages\\IPython\\core\\pylabtools.py:125: UserWarning: Glyph 22269 (\\N{CJK UNIFIED IDEOGRAPH-56FD}) missing from current font.\n",
      "  fig.canvas.print_figure(bytes_io, **kw)\n",
      "D:\\code\\lib\\site-packages\\IPython\\core\\pylabtools.py:125: UserWarning: Glyph 20013 (\\N{CJK UNIFIED IDEOGRAPH-4E2D}) missing from current font.\n",
      "  fig.canvas.print_figure(bytes_io, **kw)\n",
      "D:\\code\\lib\\site-packages\\IPython\\core\\pylabtools.py:125: UserWarning: Glyph 32654 (\\N{CJK UNIFIED IDEOGRAPH-7F8E}) missing from current font.\n",
      "  fig.canvas.print_figure(bytes_io, **kw)\n",
      "D:\\code\\lib\\site-packages\\IPython\\core\\pylabtools.py:125: UserWarning: Glyph 29790 (\\N{CJK UNIFIED IDEOGRAPH-745E}) missing from current font.\n",
      "  fig.canvas.print_figure(bytes_io, **kw)\n",
      "D:\\code\\lib\\site-packages\\IPython\\core\\pylabtools.py:125: UserWarning: Glyph 20856 (\\N{CJK UNIFIED IDEOGRAPH-5178}) missing from current font.\n",
      "  fig.canvas.print_figure(bytes_io, **kw)\n"
     ]
    },
    {
     "data": {
      "image/png": "[encoded data removed]",
      "text/plain": [
       "<Figure size 432x288 with 1 Axes>"
      ]
     },
     "metadata": {
      "needs_background": "light"
     },
     "output_type": "display_data"
    }
   ],
   "source": [
    " # 国家（x轴名称）\n",
    "countries = ['挪威','德国','中国','美国','瑞典']\n",
    "# 金牌\n",
    "gold_medal = [16,9,12,15,9]\n",
    "# 银牌\n",
    "silver_medal = [11,10,8,1,5]\n",
    "# 铜牌\n",
    "bronze_medal = [10,9,5,10,4]\n",
    "plt.barh(countries,width=gold_medal,color='pink',height=0.3)"
   ]
  }
 ],
 "metadata": {
  "kernelspec": {
   "display_name": "Python 3",
   "language": "python",
   "name": "python3"
  },
  "language_info": {
   "codemirror_mode": {
    "name": "ipython",
    "version": 3
   },
   "file_extension": ".py",
   "mimetype": "text/x-python",
   "name": "python",
   "nbconvert_exporter": "python",
   "pygments_lexer": "ipython3",
   "version": "3.7.0"
  }
 },
 "nbformat": 4,
 "nbformat_minor": 2
}
