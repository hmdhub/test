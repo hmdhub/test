{
 "cells": [
  {
   "cell_type": "code",
   "execution_count": 1,
   "metadata": {},
   "outputs": [],
   "source": [
    "from matplotlib import pyplot as plt\n",
    "import numpy as np"
   ]
  },
  {
   "cell_type": "code",
   "execution_count": 2,
   "metadata": {},
   "outputs": [],
   "source": [
    "# 1.中文配置\n",
    "plt.rcParams['font.sans-serif']=['SimHei']\n",
    "# 负号显示\n",
    "plt.rcParams['axes.unicode_minus']=False"
   ]
  },
  {
   "cell_type": "code",
   "execution_count": 4,
   "metadata": {},
   "outputs": [
    {
     "data": {
      "text/plain": [
       "Text(0.5, 0, '身高')"
      ]
     },
     "execution_count": 4,
     "metadata": {},
     "output_type": "execute_result"
    },
    {
     "data": {
      "image/png": "[encoded data removed]",
      "text/plain": [
       "<Figure size 432x288 with 1 Axes>"
      ]
     },
     "metadata": {
      "needs_background": "light"
     },
     "output_type": "display_data"
    }
   ],
   "source": [
    "# 使用numpy随机生成300个随机数据\n",
    "x_value = np.random.randint(169,180,300)\n",
    "plt.hist(x_value,bins=10,edgecolor='white')\n",
    "plt.title('数据设计')\n",
    "plt.xlabel('身高')"
   ]
  },
  {
   "cell_type": "code",
   "execution_count": 11,
   "metadata": {},
   "outputs": [
    {
     "name": "stdout",
     "output_type": "stream",
     "text": [
      "num表示直方图的值: [23. 32. 29. 30. 20. 34. 24. 22. 30. 56.]\n",
      "bins_limit表示各个bin的区间范围: [169. 170. 171. 172. 173. 174. 175. 176. 177. 178. 179.]\n",
      "patches: <BarContainer object of 10 artists>\n",
      "Rectangle(xy=(169, 0), width=1, height=23, angle=0)\n",
      "169.0\n",
      "0.0\n",
      "1.0\n",
      "Rectangle(xy=(170, 0), width=1, height=32, angle=0)\n",
      "170.0\n",
      "0.0\n",
      "1.0\n",
      "Rectangle(xy=(171, 0), width=1, height=29, angle=0)\n",
      "171.0\n",
      "0.0\n",
      "1.0\n",
      "Rectangle(xy=(172, 0), width=1, height=30, angle=0)\n",
      "172.0\n",
      "0.0\n",
      "1.0\n",
      "Rectangle(xy=(173, 0), width=1, height=20, angle=0)\n",
      "173.0\n",
      "0.0\n",
      "1.0\n",
      "Rectangle(xy=(174, 0), width=1, height=34, angle=0)\n",
      "174.0\n",
      "0.0\n",
      "1.0\n",
      "Rectangle(xy=(175, 0), width=1, height=24, angle=0)\n",
      "175.0\n",
      "0.0\n",
      "1.0\n",
      "Rectangle(xy=(176, 0), width=1, height=22, angle=0)\n",
      "176.0\n",
      "0.0\n",
      "1.0\n",
      "Rectangle(xy=(177, 0), width=1, height=30, angle=0)\n",
      "177.0\n",
      "0.0\n",
      "1.0\n",
      "Rectangle(xy=(178, 0), width=1, height=56, angle=0)\n",
      "178.0\n",
      "0.0\n",
      "1.0\n"
     ]
    },
    {
     "data": {
      "text/plain": [
       "([<matplotlib.axis.XTick at 0x201daf68c88>,\n",
       "  <matplotlib.axis.XTick at 0x201daf684e0>,\n",
       "  <matplotlib.axis.XTick at 0x201daf69be0>,\n",
       "  <matplotlib.axis.XTick at 0x201daf282b0>,\n",
       "  <matplotlib.axis.XTick at 0x201daf28400>,\n",
       "  <matplotlib.axis.XTick at 0x201daf28a20>,\n",
       "  <matplotlib.axis.XTick at 0x201dafc2080>,\n",
       "  <matplotlib.axis.XTick at 0x201dafc26a0>,\n",
       "  <matplotlib.axis.XTick at 0x201dafcb1d0>,\n",
       "  <matplotlib.axis.XTick at 0x201dafc2908>,\n",
       "  <matplotlib.axis.XTick at 0x201daf28ac8>],\n",
       " [Text(0, 0, ''),\n",
       "  Text(0, 0, ''),\n",
       "  Text(0, 0, ''),\n",
       "  Text(0, 0, ''),\n",
       "  Text(0, 0, ''),\n",
       "  Text(0, 0, ''),\n",
       "  Text(0, 0, ''),\n",
       "  Text(0, 0, ''),\n",
       "  Text(0, 0, ''),\n",
       "  Text(0, 0, ''),\n",
       "  Text(0, 0, '')])"
      ]
     },
     "execution_count": 11,
     "metadata": {},
     "output_type": "execute_result"
    },
    {
     "data": {
      "image/png": "[encoded data removed]",
      "text/plain": [
       "<Figure size 432x288 with 1 Axes>"
      ]
     },
     "metadata": {
      "needs_background": "light"
     },
     "output_type": "display_data"
    }
   ],
   "source": [
    "\"\"\"\n",
    "返回值：\n",
    "    n：数组或数组列表\n",
    "       直方图的值\n",
    "    bins：数组\n",
    "        返回各个bin的区间范围\n",
    "    patches：列表的列表或列表-返回每个bin里面包含的数据，是一个list\n",
    "\"\"\"\n",
    "# plt.hist():返回三个数据\n",
    "\n",
    "# 使用numpy随机生成300个随机数据\n",
    "x_value = np.random.randint(169,180,300)\n",
    "num,bins_limit,patches = plt.hist(x_value,bins=10,edgecolor='white')\n",
    "\n",
    "plt.title('数据设计')\n",
    "plt.xlabel('身高')\n",
    "print('num表示直方图的值:',num)\n",
    "print('bins_limit表示各个bin的区间范围:',bins_limit)\n",
    "print('patches:',patches)\n",
    "for item in patches:\n",
    "    print(item)\n",
    "    print(item.get_x())\n",
    "    print(item.get_y())\n",
    "    print(item.get_width())\n",
    "plt.xticks(bins_limit,rotation=45)\n",
    "# num表示直方图的值，bins_limit表示柱状图，,patches表示统计图的信息长宽高角度"
   ]
  },
  {
   "cell_type": "code",
   "execution_count": 16,
   "metadata": {},
   "outputs": [
    {
     "name": "stdout",
     "output_type": "stream",
     "text": [
      "[44. 26. 20. 40. 25. 16. 23. 24. 27. 55.]\n",
      "[169. 170. 171. 172. 173. 174. 175. 176. 177. 178. 179.]\n"
     ]
    },
    {
     "data": {
      "text/plain": [
       "[<matplotlib.lines.Line2D at 0x201db1026d8>]"
      ]
     },
     "execution_count": 16,
     "metadata": {},
     "output_type": "execute_result"
    },
    {
     "data": {
      "image/png": "[encoded data removed]",
      "text/plain": [
       "<Figure size 432x288 with 1 Axes>"
      ]
     },
     "metadata": {
      "needs_background": "light"
     },
     "output_type": "display_data"
    }
   ],
   "source": [
    "# 使用numpy随机生成300个随机数据\n",
    "x_value = np.random.randint(168,180,300)\n",
    "# 创建画布\n",
    "fig,ax = plt.subplots()\n",
    "# 绘制直方图\n",
    "num,bin_limit,patches = ax.hist(x_value,bins=10,edgecolor='r')\n",
    "# 注意num返回个数10，bin_limit返回11个\n",
    "print(num)\n",
    "print(bins_limit)\n",
    "# 设置x轴\n",
    "plt.xticks(bin_limit,rotation=45)\n",
    "# 绘制折线图\n",
    "ax.plot(bins_limit[:10],num,'--',marker='o')"
   ]
  },
  {
   "cell_type": "code",
   "execution_count": 22,
   "metadata": {},
   "outputs": [
    {
     "data": {
      "text/plain": [
       "Text(0.5, 1.0, '不等距分组')"
      ]
     },
     "execution_count": 22,
     "metadata": {},
     "output_type": "execute_result"
    },
    {
     "data": {
      "image/png": "[encoded data removed]",
      "text/plain": [
       "<Figure size 432x288 with 1 Axes>"
      ]
     },
     "metadata": {
      "needs_background": "light"
     },
     "output_type": "display_data"
    }
   ],
   "source": [
    "\"\"\"\n",
    "不等距分组：\n",
    "  面的直方图都是等距的，但有时不需要等距，这时只要确定分组上下限，并指定histtype='bar'即可\n",
    "\"\"\"\n",
    "fig,ax = plt.subplots()\n",
    "x = np.random.normal(100,20,100) # 均值，标准差\n",
    "bins = [50,60,70,90,100,110,140,150,170]\n",
    "num,bins_limit,pa = ax.hist(x,bins=bins,color='g',edgecolor='r')\n",
    "ax.set_title('不等距分组')\n"
   ]
  },
  {
   "cell_type": "code",
   "execution_count": 25,
   "metadata": {},
   "outputs": [
    {
     "data": {
      "text/plain": [
       "Text(0.5, 1.0, '多类型直方图')"
      ]
     },
     "execution_count": 25,
     "metadata": {},
     "output_type": "execute_result"
    },
    {
     "data": {
      "image/png": "[encoded data removed]",
      "text/plain": [
       "<Figure size 432x288 with 1 Axes>"
      ]
     },
     "metadata": {
      "needs_background": "light"
     },
     "output_type": "display_data"
    }
   ],
   "source": [
    "\"\"\"\n",
    "多类型直方图\n",
    "\"\"\"\n",
    "fig,ax = plt.subplots()\n",
    "# 分别生成10000,5000,2000个值\n",
    "x_value = [np.random.randn(n) for n in [10000,5000,2000]]\n",
    "ax.hist(x_value,bins=10,edgecolor='red',histtype='bar')\n",
    "ax.set_title('多类型直方图')# 起个名字"
   ]
  },
  {
   "cell_type": "code",
   "execution_count": 32,
   "metadata": {},
   "outputs": [
    {
     "data": {
      "text/plain": [
       "(array([[26., 18., 19., 13., 19., 17., 25., 21., 15., 27.],\n",
       "        [46., 43., 40., 31., 39., 37., 42., 45., 31., 46.]]),\n",
       " array([140. , 143.9, 147.8, 151.7, 155.6, 159.5, 163.4, 167.3, 171.2,\n",
       "        175.1, 179. ]),\n",
       " <a list of 2 BarContainer objects>)"
      ]
     },
     "execution_count": 32,
     "metadata": {},
     "output_type": "execute_result"
    },
    {
     "data": {
      "image/png": "[encoded data removed]",
      "text/plain": [
       "<Figure size 432x288 with 1 Axes>"
      ]
     },
     "metadata": {
      "needs_background": "light"
     },
     "output_type": "display_data"
    }
   ],
   "source": [
    "\"\"\"\n",
    "堆叠直方图\n",
    "\"\"\"\n",
    "x1_value = np.random.randint(140,180,200)\n",
    "x2_value = np.random.randint(140,180,200)\n",
    "# plt.hist([x1_value,x2_value],bins=10,stacked=False)\n",
    "plt.hist([x1_value,x2_value],bins=10,stacked=True)  # stacked=True默认为true是堆叠图"
   ]
  },
  {
   "cell_type": "code",
   "execution_count": null,
   "metadata": {},
   "outputs": [],
   "source": [
    "# 直方图属性data：以列表的形式传入两组数据\n",
    "# 设置直方图stacked为True，允许数据覆盖"
   ]
  }
 ],
 "metadata": {
  "kernelspec": {
   "display_name": "Python 3",
   "language": "python",
   "name": "python3"
  },
  "language_info": {
   "codemirror_mode": {
    "name": "ipython",
    "version": 3
   },
   "file_extension": ".py",
   "mimetype": "text/x-python",
   "name": "python",
   "nbconvert_exporter": "python",
   "pygments_lexer": "ipython3",
   "version": "3.7.0"
  }
 },
 "nbformat": 4,
 "nbformat_minor": 2
}
