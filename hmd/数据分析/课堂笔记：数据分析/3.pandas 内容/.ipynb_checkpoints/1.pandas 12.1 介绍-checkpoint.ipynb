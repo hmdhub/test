{
 "cells": [
  {
   "cell_type": "code",
   "execution_count": 8,
   "metadata": {},
   "outputs": [],
   "source": [
    "import numpy as np\n",
    "import pandas as pd"
   ]
  },
  {
   "cell_type": "code",
   "execution_count": 9,
   "metadata": {},
   "outputs": [
    {
     "name": "stdout",
     "output_type": "stream",
     "text": [
      "<class 'list'>\n",
      "0     3\n",
      "1    10\n",
      "2     4\n",
      "3     5\n",
      "4     6\n",
      "5     7\n",
      "dtype: int64\n",
      "<class 'pandas.core.series.Series'>\n"
     ]
    }
   ],
   "source": [
    "# 1.创建\n",
    "# 1）列表作为数据创建Series\n",
    "# 列表创建 series\n",
    "ar_list = [3,10,4,5,6,7]\n",
    "print(type(ar_list))\n",
    "s1 = pd.Series(ar_list)\n",
    "print(s1)\n",
    "print(type(s1))\n",
    "\"\"\"\n",
    "标签  数据源\n",
    "0     3\n",
    "1    10\n",
    "2     4\n",
    "3     5\n",
    "4     6\n",
    "5     7\n",
    "dtype: int64  类型\n",
    "\n",
    "\"\"\""
   ]
  },
  {
   "cell_type": "code",
   "execution_count": 10,
   "metadata": {},
   "outputs": [
    {
     "name": "stdout",
     "output_type": "stream",
     "text": [
      "<class 'numpy.ndarray'>\n",
      "0    1\n",
      "1    2\n",
      "2    3\n",
      "3    4\n",
      "4    5\n",
      "dtype: int32\n"
     ]
    }
   ],
   "source": [
    "# 2) 使用数组创建\n",
    "np_arr =np.arange(1,6)\n",
    "print(type(np_arr))  #<class 'numpy.ndarray'>\n",
    "s2 = pd.Series(np_arr)\n",
    "print(s2)  # 结果有标签、数据、类型\n",
    "\"\"\"\n",
    "标签  原数据\n",
    "0    1\n",
    "1    2\n",
    "2    3\n",
    "3    4\n",
    "4    5\n",
    "dtype: int32  数据类型\n",
    "\n",
    "\"\"\""
   ]
  },
  {
   "cell_type": "code",
   "execution_count": 11,
   "metadata": {},
   "outputs": [
    {
     "data": {
      "text/plain": [
       "4"
      ]
     },
     "execution_count": 11,
     "metadata": {},
     "output_type": "execute_result"
    }
   ],
   "source": [
    "\"\"\"\n",
    "通过index和values属性取得对应的标签和值\n",
    "\"\"\"\n",
    "s2[3] # 通过标签取值\n"
   ]
  },
  {
   "cell_type": "code",
   "execution_count": 44,
   "metadata": {},
   "outputs": [
    {
     "data": {
      "text/plain": [
       "array([1, 'pppp', 3, 4, 'a', 100], dtype=object)"
      ]
     },
     "execution_count": 44,
     "metadata": {},
     "output_type": "execute_result"
    }
   ],
   "source": [
    "# 打印所有标签\n",
    "s2.index\n",
    "list(s2.index)  # 标签\n",
    "# 获取所有数据\n",
    "s2.values"
   ]
  },
  {
   "cell_type": "code",
   "execution_count": 41,
   "metadata": {},
   "outputs": [
    {
     "data": {
      "text/plain": [
       "'a'"
      ]
     },
     "execution_count": 41,
     "metadata": {},
     "output_type": "execute_result"
    }
   ],
   "source": [
    "# 赋值\n",
    "s2[4]='a'\n",
    "s2[4]"
   ]
  },
  {
   "cell_type": "code",
   "execution_count": 23,
   "metadata": {},
   "outputs": [
    {
     "data": {
      "text/plain": [
       "'pppp'"
      ]
     },
     "execution_count": 23,
     "metadata": {},
     "output_type": "execute_result"
    }
   ],
   "source": [
    "# 修改\n",
    "s2[1]='pppp'\n",
    "s2[1]"
   ]
  },
  {
   "cell_type": "code",
   "execution_count": 27,
   "metadata": {},
   "outputs": [
    {
     "data": {
      "text/plain": [
       " 0         1\n",
       " 1      pppp\n",
       " 2         3\n",
       " 3         4\n",
       " 4    dkamca\n",
       "-1       100\n",
       "dtype: object"
      ]
     },
     "execution_count": 27,
     "metadata": {},
     "output_type": "execute_result"
    }
   ],
   "source": [
    "# s2[-1]  # 不能使用负数取值不可以倒着取值\n",
    "s2[-1]=100 # 但是可以赋值\n",
    "s2\n",
    "\n",
    "s2[4] = 'dkamca'  # 索引类型和值的类型都不变\n",
    "s2"
   ]
  },
  {
   "cell_type": "code",
   "execution_count": 33,
   "metadata": {},
   "outputs": [
    {
     "data": {
      "text/plain": [
       "3"
      ]
     },
     "execution_count": 33,
     "metadata": {},
     "output_type": "execute_result"
    }
   ],
   "source": [
    "# 2.使用字典作为数据创建Series\n",
    "d = {'a':1,'b':2,'c':3}\n",
    "ser1 = pd.Series(d)\n",
    "ser1\n",
    "# 如果是字典，标签值（a,b,c）就是字典的key\n",
    "# index 对应的标签进行取值\n",
    "# 获取标签\n",
    "ser1.index\n",
    "# 获取值\n",
    "ser1.values\n",
    "# 获取指定值\n",
    "ser1['a']\n",
    "# 修改\n",
    "ser1['a'] = '12sf'\n",
    "ser1['a']\n",
    "# 如果标签是非数字型，可以使用标签的下标取值   必须全部都是\n",
    "ser1[0]\n",
    "ser1['a']==ser1[0]\n",
    "ser1[-1]  # 不报错  -1是标签的下标【索引】"
   ]
  },
  {
   "cell_type": "code",
   "execution_count": 34,
   "metadata": {},
   "outputs": [
    {
     "name": "stdout",
     "output_type": "stream",
     "text": [
      "q    1\n",
      "5    3\n",
      "d    5\n",
      "dtype: int64\n"
     ]
    }
   ],
   "source": [
    "dr2 = {'q':1,5:3,'d':5}\n",
    "ser4 = pd.Series(dr2)\n",
    "print(ser4)"
   ]
  },
  {
   "cell_type": "code",
   "execution_count": 35,
   "metadata": {},
   "outputs": [
    {
     "name": "stdout",
     "output_type": "stream",
     "text": [
      "3\n",
      "5\n"
     ]
    }
   ],
   "source": [
    "# 取值\n",
    "print(ser4[5])\n",
    "print(ser4[-1])  # 报错  不可以根据索引取值，因为不是全部都是非数字类型"
   ]
  },
  {
   "cell_type": "code",
   "execution_count": 36,
   "metadata": {},
   "outputs": [
    {
     "name": "stdout",
     "output_type": "stream",
     "text": [
      "name       hmd\n",
      "sex      woman\n",
      "hobby      eat\n",
      "dtype: object\n"
     ]
    }
   ],
   "source": [
    "f = {'name':'hmd',\"sex\":'woman',\"hobby\":'eat'}\n",
    "ser5 = pd.Series(f)\n",
    "print(ser5)"
   ]
  },
  {
   "cell_type": "code",
   "execution_count": 38,
   "metadata": {},
   "outputs": [
    {
     "name": "stdout",
     "output_type": "stream",
     "text": [
      "hmd\n",
      "hmd\n",
      "eat\n"
     ]
    }
   ],
   "source": [
    "print(ser5['name'])\n",
    "print(ser5[0])\n",
    "print(ser5[-1])"
   ]
  }
 ],
 "metadata": {
  "kernelspec": {
   "display_name": "Python 3",
   "language": "python",
   "name": "python3"
  },
  "language_info": {
   "codemirror_mode": {
    "name": "ipython",
    "version": 3
   },
   "file_extension": ".py",
   "mimetype": "text/x-python",
   "name": "python",
   "nbconvert_exporter": "python",
   "pygments_lexer": "ipython3",
   "version": "3.7.0"
  }
 },
 "nbformat": 4,
 "nbformat_minor": 2
}
