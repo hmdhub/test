{
 "cells": [
  {
   "cell_type": "code",
   "execution_count": 8,
   "metadata": {},
   "outputs": [],
   "source": [
    "import numpy as np\n",
    "import pandas as pd"
   ]
  },
  {
   "cell_type": "code",
   "execution_count": 9,
   "metadata": {},
   "outputs": [
    {
     "name": "stdout",
     "output_type": "stream",
     "text": [
      "0    a\n",
      "1    b\n",
      "2    c\n",
      "3    d\n",
      "dtype: object\n"
     ]
    }
   ],
   "source": [
    "# 二. 参数说明\n",
    "# 1.a.index参数\n",
    "data = np.array(['a','b','c','d'])\n",
    "ser1 = pd.Series(data)\n",
    "print(ser1)"
   ]
  },
  {
   "cell_type": "code",
   "execution_count": 10,
   "metadata": {},
   "outputs": [
    {
     "name": "stdout",
     "output_type": "stream",
     "text": [
      "0    a\n",
      "1    b\n",
      "2    c\n",
      "3    d\n",
      "dtype: object\n"
     ]
    }
   ],
   "source": [
    "# 使用“显示索引”的方法定义索引标签\n",
    "data = np.array(['a','b','c','d'])\n",
    "ser1 = pd.Series(data)\n",
    "print(ser1)"
   ]
  },
  {
   "cell_type": "code",
   "execution_count": 11,
   "metadata": {},
   "outputs": [
    {
     "name": "stdout",
     "output_type": "stream",
     "text": [
      "100    a\n",
      "101    b\n",
      "102    c\n",
      "103    d\n",
      "dtype: object\n"
     ]
    }
   ],
   "source": [
    "data = np.array(['a','b','c','d'])\n",
    "ser2 = pd.Series(data,index=[100,101,102,103])\n",
    "print(ser2)"
   ]
  },
  {
   "cell_type": "code",
   "execution_count": 12,
   "metadata": {},
   "outputs": [
    {
     "data": {
      "text/plain": [
       "a    1\n",
       "b    2\n",
       "c    3\n",
       "dtype: int64"
      ]
     },
     "execution_count": 12,
     "metadata": {},
     "output_type": "execute_result"
    }
   ],
   "source": [
    "d = {'a':1,'b':2,'c':3}\n",
    "ser3 = pd.Series(d,index=['a','b','c'])\n",
    "ser3"
   ]
  },
  {
   "cell_type": "code",
   "execution_count": 13,
   "metadata": {},
   "outputs": [
    {
     "data": {
      "text/plain": [
       "x    NaN\n",
       "b    2.0\n",
       "z    NaN\n",
       "dtype: float64"
      ]
     },
     "execution_count": 13,
     "metadata": {},
     "output_type": "execute_result"
    }
   ],
   "source": [
    "# 从指定索引的字典构造序列\n",
    "# 当传递的索引值未匹配对应的字典的键时，使用NaN（非数字）填充\n",
    "d = {'a':1,'b':2,'c':3}\n",
    "ser4 = pd.Series(d,index=['x','b','z'])  # 这是键['x','b','z'])\n",
    "ser4"
   ]
  },
  {
   "cell_type": "code",
   "execution_count": 14,
   "metadata": {},
   "outputs": [
    {
     "data": {
      "text/plain": [
       "c    3\n",
       "a    1\n",
       "b    2\n",
       "dtype: int64"
      ]
     },
     "execution_count": 14,
     "metadata": {},
     "output_type": "execute_result"
    }
   ],
   "source": [
    "# 通过匹配的索引值，改变创建Series数据的顺序\n",
    "d = {'a':1,'b':2,'c':3}\n",
    "ser5 = pd.Series(d,index=['c','a','b'])\n",
    "ser5"
   ]
  },
  {
   "cell_type": "code",
   "execution_count": 15,
   "metadata": {},
   "outputs": [
    {
     "ename": "NameError",
     "evalue": "name 'b' is not defined",
     "output_type": "error",
     "traceback": [
      "\u001b[1;31m---------------------------------------------------------------------------\u001b[0m",
      "\u001b[1;31mNameError\u001b[0m                                 Traceback (most recent call last)",
      "\u001b[1;32m<ipython-input-15-9875b584ce9a>\u001b[0m in \u001b[0;36m<module>\u001b[1;34m()\u001b[0m\n\u001b[1;32m----> 1\u001b[1;33m \u001b[0mb\u001b[0m\u001b[1;33m.\u001b[0m\u001b[0mname参数\u001b[0m\u001b[1;33m\u001b[0m\u001b[0m\n\u001b[0m",
      "\u001b[1;31mNameError\u001b[0m: name 'b' is not defined"
     ]
    }
   ],
   "source": [
    "b.name参数\n"
   ]
  },
  {
   "cell_type": "code",
   "execution_count": 16,
   "metadata": {},
   "outputs": [
    {
     "data": {
      "text/plain": [
       "bj    2200\n",
       "sh    2500\n",
       "sz    1700\n",
       "dtype: int64"
      ]
     },
     "execution_count": 16,
     "metadata": {},
     "output_type": "execute_result"
    }
   ],
   "source": [
    "dict_data1 = {\n",
    "    'bj':2200,\n",
    "    'sh':2500,\n",
    "    'sz':1700\n",
    "}\n",
    "data1 = pd.Series(dict_data1)\n",
    "data1"
   ]
  },
  {
   "cell_type": "code",
   "execution_count": 17,
   "metadata": {},
   "outputs": [
    {
     "name": "stdout",
     "output_type": "stream",
     "text": [
      "City_name\n",
      "bj    2200\n",
      "sh    2500\n",
      "sz    1700\n",
      "Name: City_Data, dtype: int64\n"
     ]
    }
   ],
   "source": [
    "dict_data1 = {\n",
    "    'bj':2200,\n",
    "    'sh':2500,\n",
    "    'sz':1700\n",
    "}\n",
    "data1.name = 'City_Data'\n",
    "data1.index.name = 'City_name'\n",
    "print(data1)"
   ]
  },
  {
   "cell_type": "code",
   "execution_count": 18,
   "metadata": {},
   "outputs": [
    {
     "data": {
      "text/plain": [
       "'City_Data'"
      ]
     },
     "execution_count": 18,
     "metadata": {},
     "output_type": "execute_result"
    }
   ],
   "source": [
    "data1.name"
   ]
  },
  {
   "cell_type": "code",
   "execution_count": 19,
   "metadata": {},
   "outputs": [
    {
     "data": {
      "text/plain": [
       "'City_name'"
      ]
     },
     "execution_count": 19,
     "metadata": {},
     "output_type": "execute_result"
    }
   ],
   "source": [
    "data1.index.name"
   ]
  },
  {
   "cell_type": "code",
   "execution_count": 20,
   "metadata": {},
   "outputs": [
    {
     "ename": "SyntaxError",
     "evalue": "invalid syntax (<ipython-input-20-81246c4cbb8d>, line 1)",
     "output_type": "error",
     "traceback": [
      "\u001b[1;36m  File \u001b[1;32m\"<ipython-input-20-81246c4cbb8d>\"\u001b[1;36m, line \u001b[1;32m1\u001b[0m\n\u001b[1;33m    2.c.copy参数\u001b[0m\n\u001b[1;37m      ^\u001b[0m\n\u001b[1;31mSyntaxError\u001b[0m\u001b[1;31m:\u001b[0m invalid syntax\n"
     ]
    }
   ],
   "source": [
    "2.c.copy参数"
   ]
  },
  {
   "cell_type": "code",
   "execution_count": 21,
   "metadata": {},
   "outputs": [
    {
     "data": {
      "text/plain": [
       "0    1\n",
       "1    2\n",
       "2    3\n",
       "3    4\n",
       "4    5\n",
       "dtype: int32"
      ]
     },
     "execution_count": 21,
     "metadata": {},
     "output_type": "execute_result"
    }
   ],
   "source": [
    "# s 数据源 是数组\n",
    "np_li = np.arange(1,6)\n",
    "sers1 = pd.Series(np_li)\n",
    "sers1"
   ]
  },
  {
   "cell_type": "code",
   "execution_count": 22,
   "metadata": {},
   "outputs": [
    {
     "name": "stdout",
     "output_type": "stream",
     "text": [
      "[ 1 58  3  4  5]\n"
     ]
    }
   ],
   "source": [
    "# 改变标签为一的值\n",
    "sers1[1]=58\n",
    "sers1\n",
    "print(np_li)"
   ]
  },
  {
   "cell_type": "code",
   "execution_count": 23,
   "metadata": {},
   "outputs": [
    {
     "data": {
      "text/plain": [
       "'\\n标签  原数据\\n0    1\\n1    2\\n2    3\\n3    4\\n4    5\\n5    6\\n6    7\\n7    8\\n\\ndtype: int64  数据类型\\n'"
      ]
     },
     "execution_count": 23,
     "metadata": {},
     "output_type": "execute_result"
    }
   ],
   "source": [
    "# 当原数据非Series和ndarray时\n",
    "li = [1,2,3,4,5,6,7,8]\n",
    "sers2 = pd.Series(li)\n",
    "sers2\n",
    "\"\"\"\n",
    "标签  原数据\n",
    "0    1\n",
    "1    2\n",
    "2    3\n",
    "3    4\n",
    "4    5\n",
    "5    6\n",
    "6    7\n",
    "7    8\n",
    "\n",
    "dtype: int64  数据类型\n",
    "\"\"\""
   ]
  },
  {
   "cell_type": "code",
   "execution_count": 24,
   "metadata": {},
   "outputs": [],
   "source": [
    "sers2[1]=66"
   ]
  },
  {
   "cell_type": "code",
   "execution_count": 25,
   "metadata": {},
   "outputs": [
    {
     "data": {
      "text/plain": [
       "[1, 2, 3, 4, 5, 6, 7, 8]"
      ]
     },
     "execution_count": 25,
     "metadata": {},
     "output_type": "execute_result"
    }
   ],
   "source": [
    "li"
   ]
  },
  {
   "cell_type": "code",
   "execution_count": 26,
   "metadata": {},
   "outputs": [
    {
     "ename": "SyntaxError",
     "evalue": "invalid syntax (<ipython-input-26-e865a5c72b42>, line 1)",
     "output_type": "error",
     "traceback": [
      "\u001b[1;36m  File \u001b[1;32m\"<ipython-input-26-e865a5c72b42>\"\u001b[1;36m, line \u001b[1;32m1\u001b[0m\n\u001b[1;33m    Series 的索引/切片\u001b[0m\n\u001b[1;37m             ^\u001b[0m\n\u001b[1;31mSyntaxError\u001b[0m\u001b[1;31m:\u001b[0m invalid syntax\n"
     ]
    }
   ],
   "source": [
    "Series 的索引/切片"
   ]
  },
  {
   "cell_type": "code",
   "execution_count": 27,
   "metadata": {},
   "outputs": [
    {
     "name": "stdout",
     "output_type": "stream",
     "text": [
      "0    0.096082\n",
      "1    0.004102\n",
      "2    0.890578\n",
      "3    0.650765\n",
      "4    0.906943\n",
      "dtype: float64\n",
      "0.6507654054569159 <class 'numpy.float64'> float64\n"
     ]
    }
   ],
   "source": [
    "# 1.下标索引\n",
    "s = pd.Series(np.random.rand(5))\n",
    "print(s)\n",
    "print(s[3],type(s[3]),s[3].dtype)"
   ]
  },
  {
   "cell_type": "code",
   "execution_count": 28,
   "metadata": {},
   "outputs": [
    {
     "name": "stdout",
     "output_type": "stream",
     "text": [
      "a    0.695517\n",
      "b    0.513304\n",
      "c    0.562059\n",
      "d    0.570979\n",
      "e    0.700709\n",
      "dtype: float64\n",
      "0.6955169262468821 <class 'numpy.float64'> float64\n"
     ]
    }
   ],
   "source": [
    "# 使用索标签访问单个元素值\n",
    "s1 = pd.Series(np.random.rand(5),index=list('abcde'))\n",
    "print(s1)\n",
    "print(s1['a'],type(s1['a']),s1['a'].dtype)"
   ]
  },
  {
   "cell_type": "code",
   "execution_count": 29,
   "metadata": {},
   "outputs": [
    {
     "name": "stdout",
     "output_type": "stream",
     "text": [
      "a    0.154935\n",
      "b    0.445929\n",
      "c    0.652983\n",
      "d    0.540914\n",
      "e    0.581962\n",
      "dtype: float64\n",
      "a    0.154935\n",
      "e    0.581962\n",
      "dtype: float64\n"
     ]
    }
   ],
   "source": [
    "# 使用索引标签 访问多个元素值\n",
    "s1 = pd.Series(np.random.rand(5),index=list('abcde'))\n",
    "print(s1)\n",
    "# 需要选择多个标签的时候要用两个中括号【【】】（相当于中括号里是一个列表）\n",
    "print(s1[['a','e']])"
   ]
  },
  {
   "cell_type": "code",
   "execution_count": 30,
   "metadata": {},
   "outputs": [
    {
     "name": "stdout",
     "output_type": "stream",
     "text": [
      "a    0.626735\n",
      "b    0.145523\n",
      "c    0.938585\n",
      "d    0.377688\n",
      "e    0.358209\n",
      "dtype: float64\n",
      "a     0.626735\n",
      "b    10.000000\n",
      "c     0.938585\n",
      "dtype: float64\n"
     ]
    }
   ],
   "source": [
    "# 多标签会创建一个新的数组\n",
    "s1 = pd.Series(np.random.rand(5),index=list('abcde'))\n",
    "print(s1)\n",
    "s2 = s1[['a','b','c']]\n",
    "s2['b']=10\n",
    "print(s2)"
   ]
  },
  {
   "cell_type": "code",
   "execution_count": 31,
   "metadata": {},
   "outputs": [],
   "source": [
    "# 3.切片"
   ]
  },
  {
   "cell_type": "code",
   "execution_count": 32,
   "metadata": {},
   "outputs": [
    {
     "name": "stdout",
     "output_type": "stream",
     "text": [
      "a     6\n",
      "b     7\n",
      "c     8\n",
      "d     9\n",
      "e    10\n",
      "dtype: int64\n"
     ]
    }
   ],
   "source": [
    "series1 = pd.Series([6,7,8,9,10],index=['a','b','c','d','e'])\n",
    "print(series1)\n"
   ]
  },
  {
   "cell_type": "code",
   "execution_count": 33,
   "metadata": {},
   "outputs": [
    {
     "data": {
      "text/plain": [
       "b    7\n",
       "c    8\n",
       "d    9\n",
       "dtype: int64"
      ]
     },
     "execution_count": 33,
     "metadata": {},
     "output_type": "execute_result"
    }
   ],
   "source": [
    "# 使用标签切片，包含末尾\n",
    "series1['b':'d']  # b 到 d 之间的数"
   ]
  },
  {
   "cell_type": "code",
   "execution_count": 34,
   "metadata": {},
   "outputs": [
    {
     "name": "stdout",
     "output_type": "stream",
     "text": [
      "b    7\n",
      "c    8\n",
      "dtype: int64\n",
      "c     8\n",
      "d     9\n",
      "e    10\n",
      "dtype: int64\n"
     ]
    }
   ],
   "source": [
    "# 使用标签下标，就不包含末尾\n",
    "series1[1:3]\n",
    "print(series1[1:3])\n",
    "print(series1[-3:])"
   ]
  },
  {
   "cell_type": "code",
   "execution_count": 35,
   "metadata": {},
   "outputs": [
    {
     "ename": "SyntaxError",
     "evalue": "invalid character in identifier (<ipython-input-35-2fa0f69ca042>, line 1)",
     "output_type": "error",
     "traceback": [
      "\u001b[1;36m  File \u001b[1;32m\"<ipython-input-35-2fa0f69ca042>\"\u001b[1;36m, line \u001b[1;32m1\u001b[0m\n\u001b[1;33m    位置索引：index的下标\u001b[0m\n\u001b[1;37m                ^\u001b[0m\n\u001b[1;31mSyntaxError\u001b[0m\u001b[1;31m:\u001b[0m invalid character in identifier\n"
     ]
    }
   ],
   "source": [
    "位置索引：index的下标\n",
    "标签索引：index"
   ]
  },
  {
   "cell_type": "code",
   "execution_count": 36,
   "metadata": {},
   "outputs": [],
   "source": [
    "# Series数据结构 基本技巧\n",
    "# 1.查看\n"
   ]
  },
  {
   "cell_type": "code",
   "execution_count": 37,
   "metadata": {},
   "outputs": [
    {
     "name": "stdout",
     "output_type": "stream",
     "text": [
      "0    0.096082\n",
      "1    0.004102\n",
      "2    0.890578\n",
      "3    0.650765\n",
      "4    0.906943\n",
      "dtype: float64\n",
      "*****************************\n",
      "0    0.096082\n",
      "dtype: float64\n"
     ]
    }
   ],
   "source": [
    "\n",
    "# head()方法: 默认显示前5条数据 \n",
    "print(s.head())\n",
    "print('*****************************')\n",
    "print(s.head(1))  # 显示第一条数据"
   ]
  },
  {
   "cell_type": "code",
   "execution_count": 38,
   "metadata": {},
   "outputs": [
    {
     "name": "stdout",
     "output_type": "stream",
     "text": [
      "0    0.096082\n",
      "1    0.004102\n",
      "2    0.890578\n",
      "3    0.650765\n",
      "4    0.906943\n",
      "dtype: float64\n"
     ]
    }
   ],
   "source": [
    "# tail(): 默认显示后5条五条数据\n",
    "print(s.tail()) "
   ]
  },
  {
   "cell_type": "code",
   "execution_count": 39,
   "metadata": {},
   "outputs": [
    {
     "name": "stdout",
     "output_type": "stream",
     "text": [
      "a    0.225240\n",
      "b    0.658433\n",
      "c    0.872350\n",
      "d    0.582009\n",
      "e    0.856121\n",
      "dtype: float64\n",
      "-----------------\n",
      "c    0.872350\n",
      "d    0.582009\n",
      "e    0.856121\n",
      "dtype: float64\n",
      "*********************\n",
      "a    0.225240\n",
      "b    0.658433\n",
      "c    0.872350\n",
      "d    0.582009\n",
      "e    0.856121\n",
      "dtype: float64\n"
     ]
    }
   ],
   "source": [
    "# 2.重新索引：reindex\n",
    "s1 = pd.Series(np.random.rand(5),index=list('abcde'))\n",
    "print(s1)\n",
    "print('-----------------')\n",
    "# 重新指定索引\n",
    "s2 = s1.reindex(list('cde'))\n",
    "print(s2)\n",
    "print('*********************')\n",
    "print(s1)"
   ]
  },
  {
   "cell_type": "code",
   "execution_count": 40,
   "metadata": {},
   "outputs": [
    {
     "data": {
      "text/plain": [
       "c    0.872350\n",
       "d    0.582009\n",
       "e    0.856121\n",
       "1    0.000000\n",
       "2    0.000000\n",
       "dtype: float64"
      ]
     },
     "execution_count": 40,
     "metadata": {},
     "output_type": "execute_result"
    }
   ],
   "source": [
    "s3 = s1.reindex(list('cde12'),fill_value=0)\n",
    "s3"
   ]
  },
  {
   "cell_type": "code",
   "execution_count": 45,
   "metadata": {},
   "outputs": [
    {
     "name": "stdout",
     "output_type": "stream",
     "text": [
      "a    0.790179\n",
      "b    0.078264\n",
      "c    0.114060\n",
      "dtype: float64\n",
      "*********************\n",
      "b    0.886786\n",
      "a    0.189074\n",
      "d    0.485105\n",
      "dtype: float64\n",
      "####################\n",
      "a    0.979253\n",
      "b    0.965050\n",
      "c         NaN\n",
      "d         NaN\n",
      "dtype: float64\n"
     ]
    }
   ],
   "source": [
    "\"\"\"\n",
    "3.对齐运算: \n",
    "      是数据清洗的重要过程，可以按索引进行计算，如果没对齐的位置则补NaN，最后可填充NaN\n",
    "\"\"\"\n",
    "s1 = pd.Series(np.random.rand(3),index=['a','b','c'])\n",
    "print(s1)\n",
    "print('*********************')\n",
    "s2 = pd.Series(np.random.rand(3),index=['b','a','d'])\n",
    "print(s2)\n",
    "print('####################')\n",
    "print(s1 + s2)  # 没有的东西用NaN 填充"
   ]
  },
  {
   "cell_type": "code",
   "execution_count": 62,
   "metadata": {},
   "outputs": [
    {
     "name": "stdout",
     "output_type": "stream",
     "text": [
      "a       0.877401\n",
      "b       0.912396\n",
      "c       0.722391\n",
      "d       0.702796\n",
      "e       0.975576\n",
      "f    1000.000000\n",
      "dtype: float64\n",
      "*******************\n",
      "None\n",
      "*****************\n",
      "a    0.679441\n",
      "c    0.416457\n",
      "d    0.859122\n",
      "e    0.511204\n",
      "dtype: float64\n"
     ]
    }
   ],
   "source": [
    "\"\"\"\n",
    "4.删除和添加\n",
    "\"\"\"\n",
    "# 删除\n",
    "a = pd.Series(np.random.rand(5),index=list('abcde'))\n",
    "print(s)\n",
    "# drop 返回删除后得值，但是原来的值不变，默认inplace=False\n",
    "a1 = a.drop('b',inplace=False)  \n",
    "# 默认inplace=True时，返回值为None，原值发生变化\n",
    "a1 = a.drop('b',inplace=True) \n",
    "print('*******************')\n",
    "print(a1)\n",
    "print('*****************')\n",
    "print(a)"
   ]
  },
  {
   "cell_type": "code",
   "execution_count": 60,
   "metadata": {},
   "outputs": [
    {
     "name": "stdout",
     "output_type": "stream",
     "text": [
      "a    0.877401\n",
      "b    0.912396\n",
      "c    0.722391\n",
      "d    0.702796\n",
      "e    0.975576\n",
      "dtype: float64\n",
      "0.8774009978863188\n",
      "*************************\n",
      "0.9755757305091179\n",
      "***********************\n",
      "a       0.877401\n",
      "b       0.912396\n",
      "c       0.722391\n",
      "d       0.702796\n",
      "e       0.975576\n",
      "f    1000.000000\n",
      "dtype: float64\n"
     ]
    }
   ],
   "source": [
    "# 添加\n",
    "s = pd.Series(np.random.rand(5),index=list('abcde'))\n",
    "print(s)\n",
    "print(s['a']) # 查找s中的a\n",
    "print('*************************')\n",
    "print(s[-1])\n",
    "s['f']=1000   # 添加值（增加f值）,通过标签添加，给一个没有的值进行添加\n",
    "print('***********************')\n",
    "print(s)"
   ]
  },
  {
   "cell_type": "code",
   "execution_count": 87,
   "metadata": {},
   "outputs": [
    {
     "name": "stdout",
     "output_type": "stream",
     "text": [
      "zhangsan    90.0\n",
      "wangwu      89.5\n",
      "lilei       68.0\n",
      "Name: 作业一, dtype: float64\n",
      "!!!!!!!!!!!!!!!!!!!!!!!!!\n",
      "zhangsan    90.0\n",
      "wangwu      89.5\n",
      "lilei       68.0\n",
      "Name: 作业一, dtype: float64\n"
     ]
    }
   ],
   "source": [
    "\"\"\"\n",
    "课堂作业:\n",
    "1.分别通过字典/数组的方式,创建以下要求的Series\n",
    "Zhangsan 90.0 wangwu 89.5 lilei 68.0 Name:作业1, dtye:float64\n",
    "\n",
    "\"\"\"\n",
    "\n",
    "# 1.通过数组创建series\n",
    "# 方法一\n",
    "a = [90.0,89.5,68.0]\n",
    "a1 = pd.Series(np.array(a),index=['zhangsan','wangwu','lilei'])\n",
    "a1.name = '作业一'\n",
    "print(a1)\n",
    "print('!!!!!!!!!!!!!!!!!!!!!!!!!')\n",
    "\n",
    "# 方法二: 1.通过字典创建series\n",
    "a = {'zhangsan':90.0,'wangwu':89.5,'lilei':68.0}\n",
    "aa = pd.Series(a)\n",
    "aa.name = '作业一'\n",
    "print(aa)"
   ]
  },
  {
   "cell_type": "code",
   "execution_count": 127,
   "metadata": {},
   "outputs": [
    {
     "name": "stdout",
     "output_type": "stream",
     "text": [
      "a    36\n",
      "b    76\n",
      "c    11\n",
      "d    39\n",
      "e    96\n",
      "f    82\n",
      "g    21\n",
      "h    95\n",
      "i    97\n",
      "j    42\n",
      "dtype: int32\n",
      "*****************\n",
      "76\n",
      "11\n",
      "11111111111111111111111\n",
      "39\n",
      "*********************\n",
      "96\n",
      "*********************\n",
      "82\n",
      "*********************\n",
      "b    76\n",
      "e    96\n",
      "f    82\n",
      "h    95\n",
      "i    97\n",
      "dtype: int32\n",
      "**************\n",
      "76\n",
      "96\n",
      "82\n",
      "95\n",
      "97\n"
     ]
    }
   ],
   "source": [
    "\"\"\"\n",
    "  2.创建一个Series,包含1组元素,且每个值为0-100的均匀分布随机值,index为a-j,请分别筛选出\n",
    " - ① 标签为b,c的值为多少\n",
    " - ②.Series中第4到第6个值是那些\n",
    " - ③ Series中大于50 的值有那些\n",
    "\"\"\"\n",
    "# h = np.random.randint(100,size=(10,))  # 两个h任选一个\n",
    "h = pd.Series(np.random.randint(0,101,size=10),index=list('abcdefghij'))\n",
    "print(h)\n",
    "print('*****************')\n",
    "\n",
    "h1 = pd.Series(h,index=list('abcdefghij'))\n",
    "#  ① 标签为b,c的值为多少\n",
    "print(h1['b'])  \n",
    "print(h1['c'])\n",
    "print('11111111111111111111111')\n",
    "\n",
    "# ②.Series中第4到第6个值是那些\n",
    "for i in h1[3:6]:  # 前不等后等\n",
    "    print(i)\n",
    "    print('*********************')\n",
    "    \n",
    "# - ③ Series中大于50 的值有那些\n",
    "for i in h1:\n",
    "    if i >50:\n",
    "        print(i)\n",
    "# h.values获取所有的数据，判断是否大于50返回bool，再用bool索引取值\n",
    "print(h[h.values > 50])\n",
    "print('**************')"
   ]
  },
  {
   "cell_type": "code",
   "execution_count": 130,
   "metadata": {},
   "outputs": [
    {
     "name": "stdout",
     "output_type": "stream",
     "text": [
      "a    0\n",
      "b    1\n",
      "c    2\n",
      "d    3\n",
      "e    4\n",
      "f    5\n",
      "g    6\n",
      "h    7\n",
      "i    8\n",
      "j    9\n",
      "dtype: int64\n",
      "*******************\n",
      "a    100\n",
      "c      2\n",
      "d      3\n",
      "e    100\n",
      "f    100\n",
      "g      6\n",
      "i      8\n",
      "j      9\n",
      "dtype: int64\n"
     ]
    }
   ],
   "source": [
    "\"\"\"\n",
    " 3.创建以下Series 并按照要求修改得到的结果 创建s: a 0 b 1 c 2 d 3 e 4 f 5 g 6 h 7 i 8 j 9 dtype:int32\n",
    "s修改后: a 100 c 2 d 3 e 100 f 100 g 6 i 8 j 9\n",
    "dtype:int3\n",
    "\"\"\"\n",
    "s = pd.Series([0,1,2,3,4,5,6,7,8,9],index=list('abcdefghij'))\n",
    "print(s)\n",
    "print('*******************')\n",
    "s['a']=100\n",
    "s['e']=100\n",
    "s['f']=100\n",
    "s = s.drop('b')\n",
    "s = s.drop('h')\n",
    "print(s)"
   ]
  }
 ],
 "metadata": {
  "kernelspec": {
   "display_name": "Python 3",
   "language": "python",
   "name": "python3"
  },
  "language_info": {
   "codemirror_mode": {
    "name": "ipython",
    "version": 3
   },
   "file_extension": ".py",
   "mimetype": "text/x-python",
   "name": "python",
   "nbconvert_exporter": "python",
   "pygments_lexer": "ipython3",
   "version": "3.7.0"
  }
 },
 "nbformat": 4,
 "nbformat_minor": 2
}
