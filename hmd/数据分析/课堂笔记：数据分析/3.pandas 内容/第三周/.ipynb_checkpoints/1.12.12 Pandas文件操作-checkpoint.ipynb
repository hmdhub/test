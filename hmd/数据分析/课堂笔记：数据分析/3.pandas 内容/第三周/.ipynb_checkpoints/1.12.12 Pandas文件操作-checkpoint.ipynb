{
 "cells": [
  {
   "cell_type": "code",
   "execution_count": 1,
   "metadata": {},
   "outputs": [],
   "source": [
    "import numpy as np\n",
    "import pandas as pd"
   ]
  },
  {
   "cell_type": "code",
   "execution_count": 2,
   "metadata": {},
   "outputs": [
    {
     "name": "stdout",
     "output_type": "stream",
     "text": [
      "   id name address gender    birthday\n",
      "0   1   张三     地球村      女   2004/11/2\n",
      "1   2   李四     月亮星      女    2003/8/7\n",
      "2   3   王五     艾尔星      女   2004/11/2\n",
      "3   4   赵六     克哈星      男  2003/10/11\n",
      "4   5   小明     查尔星      男   2002/6/12\n",
      "5   6   小花    塔桑尼斯      男   2002/2/12\n"
     ]
    }
   ],
   "source": [
    "# 1)names没赋值，header也没赋值\n",
    "df = pd.read_csv('E:\\panda\\students_whitespace.txt',delim_whitespace=True) \n",
    "df\n",
    "print(df)"
   ]
  },
  {
   "cell_type": "code",
   "execution_count": 3,
   "metadata": {},
   "outputs": [
    {
     "data": {
      "text/html": [
       "<div>\n",
       "<style scoped>\n",
       "    .dataframe tbody tr th:only-of-type {\n",
       "        vertical-align: middle;\n",
       "    }\n",
       "\n",
       "    .dataframe tbody tr th {\n",
       "        vertical-align: top;\n",
       "    }\n",
       "\n",
       "    .dataframe thead th {\n",
       "        text-align: right;\n",
       "    }\n",
       "</style>\n",
       "<table border=\"1\" class=\"dataframe\">\n",
       "  <thead>\n",
       "    <tr style=\"text-align: right;\">\n",
       "      <th></th>\n",
       "      <th>编号</th>\n",
       "      <th>姓名</th>\n",
       "      <th>地址</th>\n",
       "      <th>性别</th>\n",
       "      <th>出生日期</th>\n",
       "    </tr>\n",
       "  </thead>\n",
       "  <tbody>\n",
       "    <tr>\n",
       "      <th>0</th>\n",
       "      <td>id</td>\n",
       "      <td>name</td>\n",
       "      <td>address</td>\n",
       "      <td>gender</td>\n",
       "      <td>birthday</td>\n",
       "    </tr>\n",
       "    <tr>\n",
       "      <th>1</th>\n",
       "      <td>1</td>\n",
       "      <td>张三</td>\n",
       "      <td>地球村</td>\n",
       "      <td>女</td>\n",
       "      <td>2004/11/2</td>\n",
       "    </tr>\n",
       "    <tr>\n",
       "      <th>2</th>\n",
       "      <td>2</td>\n",
       "      <td>李四</td>\n",
       "      <td>月亮星</td>\n",
       "      <td>女</td>\n",
       "      <td>2003/8/7</td>\n",
       "    </tr>\n",
       "    <tr>\n",
       "      <th>3</th>\n",
       "      <td>3</td>\n",
       "      <td>王五</td>\n",
       "      <td>艾尔星</td>\n",
       "      <td>女</td>\n",
       "      <td>2004/11/2</td>\n",
       "    </tr>\n",
       "    <tr>\n",
       "      <th>4</th>\n",
       "      <td>4</td>\n",
       "      <td>赵六</td>\n",
       "      <td>克哈星</td>\n",
       "      <td>男</td>\n",
       "      <td>2003/10/11</td>\n",
       "    </tr>\n",
       "    <tr>\n",
       "      <th>5</th>\n",
       "      <td>5</td>\n",
       "      <td>小明</td>\n",
       "      <td>查尔星</td>\n",
       "      <td>男</td>\n",
       "      <td>2002/6/12</td>\n",
       "    </tr>\n",
       "    <tr>\n",
       "      <th>6</th>\n",
       "      <td>6</td>\n",
       "      <td>小花</td>\n",
       "      <td>塔桑尼斯</td>\n",
       "      <td>男</td>\n",
       "      <td>2002/2/12</td>\n",
       "    </tr>\n",
       "  </tbody>\n",
       "</table>\n",
       "</div>"
      ],
      "text/plain": [
       "   编号    姓名       地址      性别        出生日期\n",
       "0  id  name  address  gender    birthday\n",
       "1   1    张三      地球村       女   2004/11/2\n",
       "2   2    李四      月亮星       女    2003/8/7\n",
       "3   3    王五      艾尔星       女   2004/11/2\n",
       "4   4    赵六      克哈星       男  2003/10/11\n",
       "5   5    小明      查尔星       男   2002/6/12\n",
       "6   6    小花     塔桑尼斯       男   2002/2/12"
      ]
     },
     "execution_count": 3,
     "metadata": {},
     "output_type": "execute_result"
    }
   ],
   "source": [
    "# 2）names被赋值，header没有被赋值\n",
    "# 当names被赋值，会把names作为表头，header=None(names适用于没有表头的情况)\n",
    "df = pd.read_csv('E:\\panda\\students_whitespace.txt',\n",
    "                 delim_whitespace=True,\n",
    "                 names=['编号','姓名','地址','性别','出生日期'],)\n",
    "df"
   ]
  },
  {
   "cell_type": "code",
   "execution_count": 4,
   "metadata": {},
   "outputs": [
    {
     "data": {
      "text/html": [
       "<div>\n",
       "<style scoped>\n",
       "    .dataframe tbody tr th:only-of-type {\n",
       "        vertical-align: middle;\n",
       "    }\n",
       "\n",
       "    .dataframe tbody tr th {\n",
       "        vertical-align: top;\n",
       "    }\n",
       "\n",
       "    .dataframe thead th {\n",
       "        text-align: right;\n",
       "    }\n",
       "</style>\n",
       "<table border=\"1\" class=\"dataframe\">\n",
       "  <thead>\n",
       "    <tr style=\"text-align: right;\">\n",
       "      <th></th>\n",
       "      <th>编号</th>\n",
       "      <th>姓名</th>\n",
       "      <th>地址</th>\n",
       "      <th>性别</th>\n",
       "      <th>出生日期</th>\n",
       "    </tr>\n",
       "  </thead>\n",
       "  <tbody>\n",
       "    <tr>\n",
       "      <th>0</th>\n",
       "      <td>1</td>\n",
       "      <td>张三</td>\n",
       "      <td>地球村</td>\n",
       "      <td>女</td>\n",
       "      <td>2004/11/2</td>\n",
       "    </tr>\n",
       "    <tr>\n",
       "      <th>1</th>\n",
       "      <td>2</td>\n",
       "      <td>李四</td>\n",
       "      <td>月亮星</td>\n",
       "      <td>女</td>\n",
       "      <td>2003/8/7</td>\n",
       "    </tr>\n",
       "    <tr>\n",
       "      <th>2</th>\n",
       "      <td>3</td>\n",
       "      <td>王五</td>\n",
       "      <td>艾尔星</td>\n",
       "      <td>女</td>\n",
       "      <td>2004/11/2</td>\n",
       "    </tr>\n",
       "    <tr>\n",
       "      <th>3</th>\n",
       "      <td>4</td>\n",
       "      <td>赵六</td>\n",
       "      <td>克哈星</td>\n",
       "      <td>男</td>\n",
       "      <td>2003/10/11</td>\n",
       "    </tr>\n",
       "    <tr>\n",
       "      <th>4</th>\n",
       "      <td>5</td>\n",
       "      <td>小明</td>\n",
       "      <td>查尔星</td>\n",
       "      <td>男</td>\n",
       "      <td>2002/6/12</td>\n",
       "    </tr>\n",
       "    <tr>\n",
       "      <th>5</th>\n",
       "      <td>6</td>\n",
       "      <td>小花</td>\n",
       "      <td>塔桑尼斯</td>\n",
       "      <td>男</td>\n",
       "      <td>2002/2/12</td>\n",
       "    </tr>\n",
       "  </tbody>\n",
       "</table>\n",
       "</div>"
      ],
      "text/plain": [
       "   编号  姓名    地址 性别        出生日期\n",
       "0   1  张三   地球村  女   2004/11/2\n",
       "1   2  李四   月亮星  女    2003/8/7\n",
       "2   3  王五   艾尔星  女   2004/11/2\n",
       "3   4  赵六   克哈星  男  2003/10/11\n",
       "4   5  小明   查尔星  男   2002/6/12\n",
       "5   6  小花  塔桑尼斯  男   2002/2/12"
      ]
     },
     "execution_count": 4,
     "metadata": {},
     "output_type": "execute_result"
    }
   ],
   "source": [
    "# 3）names 和 header都被赋值\n",
    "df = pd.read_csv('E:\\panda\\students_whitespace.txt',\n",
    "                 delim_whitespace=True,\n",
    "                 names=['编号','姓名','地址','性别','出生日期'],\n",
    "                header=0)\n",
    "df"
   ]
  },
  {
   "cell_type": "code",
   "execution_count": 5,
   "metadata": {},
   "outputs": [
    {
     "data": {
      "text/html": [
       "<div>\n",
       "<style scoped>\n",
       "    .dataframe tbody tr th:only-of-type {\n",
       "        vertical-align: middle;\n",
       "    }\n",
       "\n",
       "    .dataframe tbody tr th {\n",
       "        vertical-align: top;\n",
       "    }\n",
       "\n",
       "    .dataframe thead th {\n",
       "        text-align: right;\n",
       "    }\n",
       "</style>\n",
       "<table border=\"1\" class=\"dataframe\">\n",
       "  <thead>\n",
       "    <tr style=\"text-align: right;\">\n",
       "      <th></th>\n",
       "      <th>1</th>\n",
       "      <th>张三</th>\n",
       "      <th>地球村</th>\n",
       "      <th>女</th>\n",
       "      <th>2004/11/2</th>\n",
       "    </tr>\n",
       "  </thead>\n",
       "  <tbody>\n",
       "    <tr>\n",
       "      <th>0</th>\n",
       "      <td>2</td>\n",
       "      <td>李四</td>\n",
       "      <td>月亮星</td>\n",
       "      <td>女</td>\n",
       "      <td>2003/8/7</td>\n",
       "    </tr>\n",
       "    <tr>\n",
       "      <th>1</th>\n",
       "      <td>3</td>\n",
       "      <td>王五</td>\n",
       "      <td>艾尔星</td>\n",
       "      <td>女</td>\n",
       "      <td>2004/11/2</td>\n",
       "    </tr>\n",
       "    <tr>\n",
       "      <th>2</th>\n",
       "      <td>4</td>\n",
       "      <td>赵六</td>\n",
       "      <td>克哈星</td>\n",
       "      <td>男</td>\n",
       "      <td>2003/10/11</td>\n",
       "    </tr>\n",
       "    <tr>\n",
       "      <th>3</th>\n",
       "      <td>5</td>\n",
       "      <td>小明</td>\n",
       "      <td>查尔星</td>\n",
       "      <td>男</td>\n",
       "      <td>2002/6/12</td>\n",
       "    </tr>\n",
       "    <tr>\n",
       "      <th>4</th>\n",
       "      <td>6</td>\n",
       "      <td>小花</td>\n",
       "      <td>塔桑尼斯</td>\n",
       "      <td>男</td>\n",
       "      <td>2002/2/12</td>\n",
       "    </tr>\n",
       "  </tbody>\n",
       "</table>\n",
       "</div>"
      ],
      "text/plain": [
       "   1  张三   地球村  女   2004/11/2\n",
       "0  2  李四   月亮星  女    2003/8/7\n",
       "1  3  王五   艾尔星  女   2004/11/2\n",
       "2  4  赵六   克哈星  男  2003/10/11\n",
       "3  5  小明   查尔星  男   2002/6/12\n",
       "4  6  小花  塔桑尼斯  男   2002/2/12"
      ]
     },
     "execution_count": 5,
     "metadata": {},
     "output_type": "execute_result"
    }
   ],
   "source": [
    "# 4）names没有被赋值，header被赋值\n",
    "# header=1，拿数据第二行作为表头\n",
    "df = pd.read_csv('E:\\panda\\students_whitespace.txt',delim_whitespace=True,header=1)\n",
    "df"
   ]
  },
  {
   "cell_type": "code",
   "execution_count": 6,
   "metadata": {},
   "outputs": [
    {
     "data": {
      "text/plain": [
       "'\\nnames 和 header的使用场景如下：\\n  1）csv文件有表头并且是第一行，那names和header都无需指定；\\n  2）csv文件有表头、但表头不是第一行，可能从下面几行才是真正的表头和数据，这时指定header\\n  即可\\n  3）csv文件没表头，全部是纯数据，那我们可以通过names手动生成表头\\n  4）csv文件没表头，但是这个表头你不想用，这个时候同时指定names 和header。先用header选出的\\n  表头和数据，然后再用names将表头其换掉，就等价于将数据读取后再对列名进行rename\\n'"
      ]
     },
     "execution_count": 6,
     "metadata": {},
     "output_type": "execute_result"
    }
   ],
   "source": [
    "\"\"\"\n",
    "names 和 header的使用场景如下：\n",
    "  1）csv文件有表头并且是第一行，那names和header都无需指定；\n",
    "  2）csv文件有表头、但表头不是第一行，可能从下面几行才是真正的表头和数据，这时指定header\n",
    "  即可\n",
    "  3）csv文件没表头，全部是纯数据，那我们可以通过names手动生成表头\n",
    "  4）csv文件没表头，但是这个表头你不想用，这个时候同时指定names 和header。先用header选出的\n",
    "  表头和数据，然后再用names将表头其换掉，就等价于将数据读取后再对列名进行rename\n",
    "\"\"\""
   ]
  },
  {
   "cell_type": "code",
   "execution_count": null,
   "metadata": {},
   "outputs": [],
   "source": []
  },
  {
   "cell_type": "code",
   "execution_count": 7,
   "metadata": {},
   "outputs": [
    {
     "name": "stdout",
     "output_type": "stream",
     "text": [
      "            id name address gender\n",
      "birthday                          \n",
      "2004/11/2    1  蔡梦丹     地球村      女\n",
      "2003/8/7     2  杨萌渝     月亮星      女\n",
      "2004/11/2    3  何晶晶     艾尔星      女\n",
      "2003/10/11   4   张怡     克哈星      男\n",
      "2002/6/12    5  郭志阳     查尔星      男\n",
      "2002/2/12    6  马成功    塔桑尼斯      男\n",
      "-------------------------\n",
      "Index(['2004/11/2', '2003/8/7', '2004/11/2', '2003/10/11', '2002/6/12',\n",
      "       '2002/2/12'],\n",
      "      dtype='object', name='birthday')\n"
     ]
    }
   ],
   "source": [
    "# 4.index_col:在读取文件后所得到的DataFrames\n",
    "df = pd.read_csv('E:\\panda\\students1.csv',encoding='gbk',index_col='birthday')\n",
    "df\n",
    "print(df)\n",
    "print('-------------------------')\n",
    "a = df.index\n",
    "print(a)"
   ]
  },
  {
   "cell_type": "code",
   "execution_count": 8,
   "metadata": {},
   "outputs": [
    {
     "data": {
      "text/plain": [
       "DatetimeIndex(['2004-11-02', '2003-08-07', '2004-11-02', '2003-10-11',\n",
       "               '2002-06-12', '2002-02-12'],\n",
       "              dtype='datetime64[ns]', name='birthday', freq=None)"
      ]
     },
     "execution_count": 8,
     "metadata": {},
     "output_type": "execute_result"
    }
   ],
   "source": [
    "#  把这个数据类型dtype='object'转化成时间操作\n",
    "df.index = pd.to_datetime(df.index)\n",
    "df.index"
   ]
  },
  {
   "cell_type": "code",
   "execution_count": 9,
   "metadata": {},
   "outputs": [
    {
     "data": {
      "text/html": [
       "<div>\n",
       "<style scoped>\n",
       "    .dataframe tbody tr th:only-of-type {\n",
       "        vertical-align: middle;\n",
       "    }\n",
       "\n",
       "    .dataframe tbody tr th {\n",
       "        vertical-align: top;\n",
       "    }\n",
       "\n",
       "    .dataframe thead th {\n",
       "        text-align: right;\n",
       "    }\n",
       "</style>\n",
       "<table border=\"1\" class=\"dataframe\">\n",
       "  <thead>\n",
       "    <tr style=\"text-align: right;\">\n",
       "      <th></th>\n",
       "      <th>id</th>\n",
       "      <th>name</th>\n",
       "      <th>address</th>\n",
       "      <th>gender</th>\n",
       "    </tr>\n",
       "    <tr>\n",
       "      <th>birthday</th>\n",
       "      <th></th>\n",
       "      <th></th>\n",
       "      <th></th>\n",
       "      <th></th>\n",
       "    </tr>\n",
       "  </thead>\n",
       "  <tbody>\n",
       "    <tr>\n",
       "      <th>2004-11-02</th>\n",
       "      <td>1</td>\n",
       "      <td>蔡梦丹</td>\n",
       "      <td>地球村</td>\n",
       "      <td>女</td>\n",
       "    </tr>\n",
       "    <tr>\n",
       "      <th>2004-11-02</th>\n",
       "      <td>3</td>\n",
       "      <td>何晶晶</td>\n",
       "      <td>艾尔星</td>\n",
       "      <td>女</td>\n",
       "    </tr>\n",
       "  </tbody>\n",
       "</table>\n",
       "</div>"
      ],
      "text/plain": [
       "            id name address gender\n",
       "birthday                          \n",
       "2004-11-02   1  蔡梦丹     地球村      女\n",
       "2004-11-02   3  何晶晶     艾尔星      女"
      ]
     },
     "execution_count": 9,
     "metadata": {},
     "output_type": "execute_result"
    }
   ],
   "source": [
    "df['2004']\n",
    "    \n",
    "df.loc['2004-11-2']"
   ]
  },
  {
   "cell_type": "code",
   "execution_count": 10,
   "metadata": {},
   "outputs": [
    {
     "data": {
      "text/html": [
       "<div>\n",
       "<style scoped>\n",
       "    .dataframe tbody tr th:only-of-type {\n",
       "        vertical-align: middle;\n",
       "    }\n",
       "\n",
       "    .dataframe tbody tr th {\n",
       "        vertical-align: top;\n",
       "    }\n",
       "\n",
       "    .dataframe thead th {\n",
       "        text-align: right;\n",
       "    }\n",
       "</style>\n",
       "<table border=\"1\" class=\"dataframe\">\n",
       "  <thead>\n",
       "    <tr style=\"text-align: right;\">\n",
       "      <th></th>\n",
       "      <th>id</th>\n",
       "      <th>name</th>\n",
       "      <th>address</th>\n",
       "      <th>gender</th>\n",
       "      <th>birthday</th>\n",
       "    </tr>\n",
       "  </thead>\n",
       "  <tbody>\n",
       "    <tr>\n",
       "      <th>0</th>\n",
       "      <td>1</td>\n",
       "      <td>蔡梦丹</td>\n",
       "      <td>地球村</td>\n",
       "      <td>女</td>\n",
       "      <td>2004/11/2</td>\n",
       "    </tr>\n",
       "    <tr>\n",
       "      <th>1</th>\n",
       "      <td>2</td>\n",
       "      <td>杨萌渝</td>\n",
       "      <td>月亮星</td>\n",
       "      <td>女</td>\n",
       "      <td>2003/8/7</td>\n",
       "    </tr>\n",
       "    <tr>\n",
       "      <th>2</th>\n",
       "      <td>3</td>\n",
       "      <td>何晶晶</td>\n",
       "      <td>艾尔星</td>\n",
       "      <td>女</td>\n",
       "      <td>2004/11/2</td>\n",
       "    </tr>\n",
       "    <tr>\n",
       "      <th>3</th>\n",
       "      <td>4</td>\n",
       "      <td>张怡</td>\n",
       "      <td>克哈星</td>\n",
       "      <td>男</td>\n",
       "      <td>2003/10/11</td>\n",
       "    </tr>\n",
       "    <tr>\n",
       "      <th>4</th>\n",
       "      <td>5</td>\n",
       "      <td>郭志阳</td>\n",
       "      <td>查尔星</td>\n",
       "      <td>男</td>\n",
       "      <td>2002/6/12</td>\n",
       "    </tr>\n",
       "    <tr>\n",
       "      <th>5</th>\n",
       "      <td>6</td>\n",
       "      <td>马成功</td>\n",
       "      <td>塔桑尼斯</td>\n",
       "      <td>男</td>\n",
       "      <td>2002/2/12</td>\n",
       "    </tr>\n",
       "  </tbody>\n",
       "</table>\n",
       "</div>"
      ],
      "text/plain": [
       "   id name address gender    birthday\n",
       "0   1  蔡梦丹     地球村      女   2004/11/2\n",
       "1   2  杨萌渝     月亮星      女    2003/8/7\n",
       "2   3  何晶晶     艾尔星      女   2004/11/2\n",
       "3   4   张怡     克哈星      男  2003/10/11\n",
       "4   5  郭志阳     查尔星      男   2002/6/12\n",
       "5   6  马成功    塔桑尼斯      男   2002/2/12"
      ]
     },
     "execution_count": 10,
     "metadata": {},
     "output_type": "execute_result"
    }
   ],
   "source": [
    "df = pd.read_csv('E:\\panda\\students1.csv',encoding='gbk')\n",
    "df"
   ]
  },
  {
   "cell_type": "code",
   "execution_count": 11,
   "metadata": {},
   "outputs": [
    {
     "name": "stdout",
     "output_type": "stream",
     "text": [
      "        address gender    birthday\n",
      "id name                           \n",
      "1  蔡梦丹      地球村      女   2004/11/2\n",
      "2  杨萌渝      月亮星      女    2003/8/7\n",
      "3  何晶晶      艾尔星      女   2004/11/2\n",
      "4  张怡       克哈星      男  2003/10/11\n",
      "5  郭志阳      查尔星      男   2002/6/12\n",
      "6  马成功     塔桑尼斯      男   2002/2/12\n",
      "---------------------------\n",
      "address           地球村\n",
      "gender              女\n",
      "birthday    2004/11/2\n",
      "Name: (1, 蔡梦丹), dtype: object\n",
      "&&&&&&&&&&&&\n",
      "<class 'pandas.core.series.Series'>\n",
      "#################################\n",
      "     address gender   birthday\n",
      "name                          \n",
      "蔡梦丹      地球村      女  2004/11/2\n",
      "<class 'pandas.core.frame.DataFrame'>\n"
     ]
    }
   ],
   "source": [
    "df = pd.read_csv('E:\\panda\\students1.csv',encoding='gbk',index_col=['id','name'])\n",
    "df\n",
    "print(df)\n",
    "print('---------------------------')\n",
    "a = df.loc[1,'蔡梦丹']  \n",
    "print(a)\n",
    "print('&&&&&&&&&&&&')\n",
    "print(type(a)) # 数据类型是Series\n",
    "print(\"#################################\")\n",
    "b = df.loc[1]\n",
    "print(b)\n",
    "print(type(b))# 数据类型是DataFrames"
   ]
  },
  {
   "cell_type": "code",
   "execution_count": 12,
   "metadata": {},
   "outputs": [
    {
     "name": "stdout",
     "output_type": "stream",
     "text": [
      "   id name address gender    birthday\n",
      "0   1  蔡梦丹     地球村      女   2004/11/2\n",
      "1   2  杨萌渝     月亮星      女    2003/8/7\n",
      "2   3  何晶晶     艾尔星      女   2004/11/2\n",
      "3   4   张怡     克哈星      男  2003/10/11\n",
      "4   5  郭志阳     查尔星      男   2002/6/12\n",
      "5   6  马成功    塔桑尼斯      男   2002/2/12\n"
     ]
    },
    {
     "data": {
      "text/html": [
       "<div>\n",
       "<style scoped>\n",
       "    .dataframe tbody tr th:only-of-type {\n",
       "        vertical-align: middle;\n",
       "    }\n",
       "\n",
       "    .dataframe tbody tr th {\n",
       "        vertical-align: top;\n",
       "    }\n",
       "\n",
       "    .dataframe thead th {\n",
       "        text-align: right;\n",
       "    }\n",
       "</style>\n",
       "<table border=\"1\" class=\"dataframe\">\n",
       "  <thead>\n",
       "    <tr style=\"text-align: right;\">\n",
       "      <th></th>\n",
       "      <th>name</th>\n",
       "      <th>gender</th>\n",
       "    </tr>\n",
       "  </thead>\n",
       "  <tbody>\n",
       "    <tr>\n",
       "      <th>0</th>\n",
       "      <td>蔡梦丹</td>\n",
       "      <td>女</td>\n",
       "    </tr>\n",
       "    <tr>\n",
       "      <th>1</th>\n",
       "      <td>杨萌渝</td>\n",
       "      <td>女</td>\n",
       "    </tr>\n",
       "    <tr>\n",
       "      <th>2</th>\n",
       "      <td>何晶晶</td>\n",
       "      <td>女</td>\n",
       "    </tr>\n",
       "    <tr>\n",
       "      <th>3</th>\n",
       "      <td>张怡</td>\n",
       "      <td>男</td>\n",
       "    </tr>\n",
       "    <tr>\n",
       "      <th>4</th>\n",
       "      <td>郭志阳</td>\n",
       "      <td>男</td>\n",
       "    </tr>\n",
       "    <tr>\n",
       "      <th>5</th>\n",
       "      <td>马成功</td>\n",
       "      <td>男</td>\n",
       "    </tr>\n",
       "  </tbody>\n",
       "</table>\n",
       "</div>"
      ],
      "text/plain": [
       "  name gender\n",
       "0  蔡梦丹      女\n",
       "1  杨萌渝      女\n",
       "2  何晶晶      女\n",
       "3   张怡      男\n",
       "4  郭志阳      男\n",
       "5  马成功      男"
      ]
     },
     "execution_count": 12,
     "metadata": {},
     "output_type": "execute_result"
    }
   ],
   "source": [
    "# usecols:返回列的子集。\n",
    "# 原数据\n",
    "df = pd.read_csv('E:\\panda\\students1.csv',encoding='gbk')\n",
    "print(df)\n",
    "# 只要name 和gender\n",
    "df1 = pd.read_csv('E:\\panda\\students1.csv',encoding='gbk',usecols=['name','gender'])\n",
    "df1"
   ]
  },
  {
   "cell_type": "code",
   "execution_count": 13,
   "metadata": {},
   "outputs": [
    {
     "name": "stdout",
     "output_type": "stream",
     "text": [
      "0    1\n",
      "1    2\n",
      "2    3\n",
      "3    4\n",
      "4    5\n",
      "5    6\n",
      "Name: id, dtype: int64\n",
      "--------------------------\n",
      "    id name address gender    birthday\n",
      "0  1.0  蔡梦丹     地球村      女   2004/11/2\n",
      "1  2.0  杨萌渝     月亮星      女    2003/8/7\n",
      "2  3.0  何晶晶     艾尔星      女   2004/11/2\n",
      "3  4.0   张怡     克哈星      男  2003/10/11\n",
      "4  5.0  郭志阳     查尔星      男   2002/6/12\n",
      "5  6.0  马成功    塔桑尼斯      男   2002/2/12\n"
     ]
    }
   ],
   "source": [
    "# 二.通用解析参数  enconding：编码格式 utf-8  gbk\n",
    "c = df['id']\n",
    "print(c)\n",
    "print('--------------------------')\n",
    "df = pd.read_csv('E:\\panda\\students1.csv',encoding='gbk',dtype={'id':float})\n",
    "print(df)"
   ]
  },
  {
   "cell_type": "code",
   "execution_count": 14,
   "metadata": {},
   "outputs": [
    {
     "data": {
      "text/plain": [
       "0    蔡梦丹\n",
       "1    杨萌渝\n",
       "2    何晶晶\n",
       "3     张怡\n",
       "4    郭志阳\n",
       "5    马成功\n",
       "Name: name, dtype: object"
      ]
     },
     "execution_count": 14,
     "metadata": {},
     "output_type": "execute_result"
    }
   ],
   "source": [
    "# 设置数据类型str现实就是object\n",
    "df = pd.read_csv('E:\\panda\\students1.csv',encoding='gbk',dtype={'id':float,'name':str})\n",
    "# print(df)\n",
    "df['id']\n",
    "df['name']"
   ]
  },
  {
   "cell_type": "code",
   "execution_count": 15,
   "metadata": {},
   "outputs": [
    {
     "name": "stdout",
     "output_type": "stream",
     "text": [
      "   id name address gender    birthday\n",
      "0   1  蔡梦丹     地球村      女   2004/11/2\n",
      "1   2  杨萌渝     月亮星      女    2003/8/7\n",
      "2   3  何晶晶     艾尔星      女   2004/11/2\n",
      "3   4   张怡     克哈星      男  2003/10/11\n",
      "4   5  郭志阳     查尔星      男   2002/6/12\n",
      "5   6  马成功    塔桑尼斯      男   2002/2/12\n",
      "---------------------------\n",
      "   id name address gender    birthday\n",
      "0  11  蔡梦丹     地球村      女   2004/11/2\n",
      "1  12  杨萌渝     月亮星      女    2003/8/7\n",
      "2  13  何晶晶     艾尔星      女   2004/11/2\n",
      "3  14   张怡     克哈星      男  2003/10/11\n",
      "4  15  郭志阳     查尔星      男   2002/6/12\n",
      "5  16  马成功    塔桑尼斯      男   2002/2/12\n"
     ]
    }
   ],
   "source": [
    "# 3.converters:在读取数据的时候对列数据进行变换.例如：将id增加10，但注意int（x），\n",
    "# 在使用converters参数时，解析器默认所有列的类型为str，所以需要进行类型转换\n",
    "# 原数据\n",
    "df = pd.read_csv('E:\\panda\\students1.csv',encoding='gbk')\n",
    "print(df)\n",
    "print('---------------------------')\n",
    "# 变换后的\n",
    "df = pd.read_csv('E:\\panda\\students1.csv',encoding='gbk',converters={'id':lambda x:int(x) + 10})\n",
    "print(df)"
   ]
  },
  {
   "cell_type": "code",
   "execution_count": 16,
   "metadata": {},
   "outputs": [
    {
     "name": "stdout",
     "output_type": "stream",
     "text": [
      "   id name address gender    birthday\n",
      "0   1  蔡梦丹     地球村      女   2004/11/2\n",
      "1   2  杨萌渝     月亮星      女    2003/8/7\n",
      "2   3  何晶晶     艾尔星      女   2004/11/2\n",
      "3   4   张怡     克哈星      男  2003/10/11\n",
      "4   5  郭志阳     查尔星      男   2002/6/12\n",
      "5   6  马成功    塔桑尼斯      男   2002/2/12\n",
      "---------------------------\n"
     ]
    },
    {
     "data": {
      "text/html": [
       "<div>\n",
       "<style scoped>\n",
       "    .dataframe tbody tr th:only-of-type {\n",
       "        vertical-align: middle;\n",
       "    }\n",
       "\n",
       "    .dataframe tbody tr th {\n",
       "        vertical-align: top;\n",
       "    }\n",
       "\n",
       "    .dataframe thead th {\n",
       "        text-align: right;\n",
       "    }\n",
       "</style>\n",
       "<table border=\"1\" class=\"dataframe\">\n",
       "  <thead>\n",
       "    <tr style=\"text-align: right;\">\n",
       "      <th></th>\n",
       "      <th>id</th>\n",
       "      <th>name</th>\n",
       "      <th>address</th>\n",
       "      <th>gender</th>\n",
       "      <th>birthday</th>\n",
       "    </tr>\n",
       "  </thead>\n",
       "  <tbody>\n",
       "    <tr>\n",
       "      <th>0</th>\n",
       "      <td>1</td>\n",
       "      <td>蔡梦丹</td>\n",
       "      <td>地球村</td>\n",
       "      <td>女</td>\n",
       "      <td>2004/11/2</td>\n",
       "    </tr>\n",
       "    <tr>\n",
       "      <th>1</th>\n",
       "      <td>2</td>\n",
       "      <td>杨萌渝</td>\n",
       "      <td>月亮星</td>\n",
       "      <td>女</td>\n",
       "      <td>2003/8/7</td>\n",
       "    </tr>\n",
       "    <tr>\n",
       "      <th>2</th>\n",
       "      <td>3</td>\n",
       "      <td>何晶晶</td>\n",
       "      <td>艾尔星</td>\n",
       "      <td>女</td>\n",
       "      <td>2004/11/2</td>\n",
       "    </tr>\n",
       "    <tr>\n",
       "      <th>3</th>\n",
       "      <td>4</td>\n",
       "      <td>张怡</td>\n",
       "      <td>克哈星</td>\n",
       "      <td>男</td>\n",
       "      <td>2003/10/11</td>\n",
       "    </tr>\n",
       "    <tr>\n",
       "      <th>4</th>\n",
       "      <td>5</td>\n",
       "      <td>郭志阳</td>\n",
       "      <td>查尔星</td>\n",
       "      <td>男</td>\n",
       "      <td>2002/6/12</td>\n",
       "    </tr>\n",
       "    <tr>\n",
       "      <th>5</th>\n",
       "      <td>6</td>\n",
       "      <td>马成功</td>\n",
       "      <td>塔桑尼斯</td>\n",
       "      <td>男</td>\n",
       "      <td>2002/2/12</td>\n",
       "    </tr>\n",
       "  </tbody>\n",
       "</table>\n",
       "</div>"
      ],
      "text/plain": [
       "   id name address gender    birthday\n",
       "0   1  蔡梦丹     地球村      女   2004/11/2\n",
       "1   2  杨萌渝     月亮星      女    2003/8/7\n",
       "2   3  何晶晶     艾尔星      女   2004/11/2\n",
       "3   4   张怡     克哈星      男  2003/10/11\n",
       "4   5  郭志阳     查尔星      男   2002/6/12\n",
       "5   6  马成功    塔桑尼斯      男   2002/2/12"
      ]
     },
     "execution_count": 16,
     "metadata": {},
     "output_type": "execute_result"
    }
   ],
   "source": [
    "# 4.true_values 和 false_values：指定哪些值应该被清洗为True，哪些值被清洗为False\n",
    "# 原数据\n",
    "df = pd.read_csv('E:\\panda\\students1.csv',encoding='gbk')\n",
    "print(df)\n",
    "print('---------------------------')\n",
    "# 想将男生清洗为True，女生清洗为False\n",
    "df1 = pd.read_csv('E:\\panda\\students1.csv',encoding='gbk',true_values=['男'],false_values=['女'])\n",
    "df1"
   ]
  },
  {
   "cell_type": "code",
   "execution_count": 24,
   "metadata": {},
   "outputs": [
    {
     "name": "stdout",
     "output_type": "stream",
     "text": [
      "   col1 col2  col3    col4      col5\n",
      "0     2    a   1.4   apple  2022/1/1\n",
      "1     3    b   3.4  banana  2022/1/2\n",
      "2     6    a   2.5  orange  2022/1/5\n",
      "3     5    b   3.2   grape  2022/1/7\n"
     ]
    },
    {
     "data": {
      "text/html": [
       "<div>\n",
       "<style scoped>\n",
       "    .dataframe tbody tr th:only-of-type {\n",
       "        vertical-align: middle;\n",
       "    }\n",
       "\n",
       "    .dataframe tbody tr th {\n",
       "        vertical-align: top;\n",
       "    }\n",
       "\n",
       "    .dataframe thead th {\n",
       "        text-align: right;\n",
       "    }\n",
       "</style>\n",
       "<table border=\"1\" class=\"dataframe\">\n",
       "  <thead>\n",
       "    <tr style=\"text-align: right;\">\n",
       "      <th></th>\n",
       "      <th>col1</th>\n",
       "      <th>col2</th>\n",
       "      <th>col3</th>\n",
       "      <th>col4</th>\n",
       "      <th>col5</th>\n",
       "    </tr>\n",
       "  </thead>\n",
       "  <tbody>\n",
       "    <tr>\n",
       "      <th>0</th>\n",
       "      <td>2</td>\n",
       "      <td>True</td>\n",
       "      <td>1.4</td>\n",
       "      <td>apple</td>\n",
       "      <td>2022/1/1</td>\n",
       "    </tr>\n",
       "    <tr>\n",
       "      <th>1</th>\n",
       "      <td>3</td>\n",
       "      <td>False</td>\n",
       "      <td>3.4</td>\n",
       "      <td>banana</td>\n",
       "      <td>2022/1/2</td>\n",
       "    </tr>\n",
       "    <tr>\n",
       "      <th>2</th>\n",
       "      <td>6</td>\n",
       "      <td>True</td>\n",
       "      <td>2.5</td>\n",
       "      <td>orange</td>\n",
       "      <td>2022/1/5</td>\n",
       "    </tr>\n",
       "    <tr>\n",
       "      <th>3</th>\n",
       "      <td>5</td>\n",
       "      <td>False</td>\n",
       "      <td>3.2</td>\n",
       "      <td>grape</td>\n",
       "      <td>2022/1/7</td>\n",
       "    </tr>\n",
       "  </tbody>\n",
       "</table>\n",
       "</div>"
      ],
      "text/plain": [
       "   col1   col2  col3    col4      col5\n",
       "0     2   True   1.4   apple  2022/1/1\n",
       "1     3  False   3.4  banana  2022/1/2\n",
       "2     6   True   2.5  orange  2022/1/5\n",
       "3     5  False   3.2   grape  2022/1/7"
      ]
     },
     "execution_count": 24,
     "metadata": {},
     "output_type": "execute_result"
    }
   ],
   "source": [
    "# 原数据\n",
    "df = pd.read_csv('E:\\panda\\my.csv')\n",
    "print(df)\n",
    "# 清洗过的\n",
    "df = pd.read_csv('E:\\panda\\my.csv',true_values=['a'],false_values=['b'])\n",
    "df"
   ]
  },
  {
   "cell_type": "code",
   "execution_count": 17,
   "metadata": {},
   "outputs": [
    {
     "name": "stdout",
     "output_type": "stream",
     "text": [
      "   id name address gender    birthday\n",
      "0   1  蔡梦丹     地球村      女   2004/11/2\n",
      "1   2  杨萌渝     月亮星      女    2003/8/7\n",
      "2   3  何晶晶     艾尔星      女   2004/11/2\n",
      "3   4   张怡     克哈星      男  2003/10/11\n",
      "4   5  郭志阳     查尔星      男   2002/6/12\n",
      "5   6  马成功    塔桑尼斯      男   2002/2/12\n",
      "+++++++++++++++++++++++++++++\n",
      "   1  蔡梦丹   地球村  女   2004/11/2\n",
      "0  2  杨萌渝   月亮星  女    2003/8/7\n",
      "1  4   张怡   克哈星  男  2003/10/11\n",
      "2  5  郭志阳   查尔星  男   2002/6/12\n",
      "3  6  马成功  塔桑尼斯  男   2002/2/12\n"
     ]
    },
    {
     "data": {
      "text/plain": [
       "'这是把第一行过滤掉了，因为第一行是表头，所以在过滤之后第二行就变成了表头，当然里面除了\\n传入具体的数值，来表明为过滤掉哪些行，还可以传入一个函数'"
      ]
     },
     "execution_count": 17,
     "metadata": {},
     "output_type": "execute_result"
    }
   ],
   "source": [
    "# 5.skiprows:表示过滤行，想过滤掉哪些行，就写在一个列表里面传递给skiprows即可 \n",
    "# 原数据\n",
    "df = pd.read_csv('E:\\panda\\students1.csv',encoding='gbk')\n",
    "print(df)\n",
    "print('+++++++++++++++++++++++++++++')\n",
    "# 过滤后的\n",
    "df1 = pd.read_csv('E:\\panda\\students1.csv',encoding='gbk',skiprows=[0,3])\n",
    "print(df1)\n",
    "\"\"\"这是把第一行过滤掉了，因为第一行是表头，所以在过滤之后第二行就变成了表头，当然里面除了\n",
    "传入具体的数值，来表明为过滤掉哪些行，还可以传入一个函数\"\"\""
   ]
  },
  {
   "cell_type": "code",
   "execution_count": 19,
   "metadata": {},
   "outputs": [
    {
     "name": "stdout",
     "output_type": "stream",
     "text": [
      "   id name address gender   birthday\n",
      "0   1  蔡梦丹     地球村      女  2004/11/2\n",
      "1   3  何晶晶     艾尔星      女  2004/11/2\n",
      "2   5  郭志阳     查尔星      男  2002/6/12\n"
     ]
    },
    {
     "data": {
      "text/plain": [
       "'由于索引从0开始，所以凡是索引大于0、并且%2等于0的记录都过滤掉。索引大于0，\\n是为了保证表头不被过滤掉'"
      ]
     },
     "execution_count": 19,
     "metadata": {},
     "output_type": "execute_result"
    }
   ],
   "source": [
    "df = pd.read_csv('E:\\panda\\students1.csv',encoding='gbk',skiprows=lambda x: x>0 and x %2==0 )\n",
    "print(df)\n",
    "\"\"\"由于索引从0开始，所以凡是索引大于0、并且%2等于0的记录都过滤掉。索引大于0，\n",
    "是为了保证表头不被过滤掉\"\"\""
   ]
  },
  {
   "cell_type": "code",
   "execution_count": null,
   "metadata": {},
   "outputs": [],
   "source": []
  },
  {
   "cell_type": "code",
   "execution_count": null,
   "metadata": {},
   "outputs": [],
   "source": []
  }
 ],
 "metadata": {
  "kernelspec": {
   "display_name": "Python 3",
   "language": "python",
   "name": "python3"
  },
  "language_info": {
   "codemirror_mode": {
    "name": "ipython",
    "version": 3
   },
   "file_extension": ".py",
   "mimetype": "text/x-python",
   "name": "python",
   "nbconvert_exporter": "python",
   "pygments_lexer": "ipython3",
   "version": "3.7.0"
  }
 },
 "nbformat": 4,
 "nbformat_minor": 2
}
