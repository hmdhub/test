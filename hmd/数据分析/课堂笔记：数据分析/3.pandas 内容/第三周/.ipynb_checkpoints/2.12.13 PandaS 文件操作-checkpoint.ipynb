{
 "cells": [
  {
   "cell_type": "code",
   "execution_count": 1,
   "metadata": {},
   "outputs": [],
   "source": [
    "import numpy as np\n",
    "import pandas as pd"
   ]
  },
  {
   "cell_type": "code",
   "execution_count": 12,
   "metadata": {},
   "outputs": [
    {
     "name": "stdout",
     "output_type": "stream",
     "text": [
      "   id name address gender    birthday\n",
      "0   1  蔡梦丹     地球村      女   2004/11/2\n",
      "1   2  杨萌渝     月亮星      女    2003/8/7\n",
      "2   3  何晶晶     艾尔星      女   2004/11/2\n",
      "3   4   张怡     克哈星      男  2003/10/11\n",
      "4   5  郭志阳     查尔星      男   2002/6/12\n",
      "5   6  马成功    塔桑尼斯      男   2002/2/12\n",
      "---------------------------\n",
      "   id name address gender    birthday\n",
      "0   1  蔡梦丹     地球村      女   2004/11/2\n",
      "1   2  杨萌渝     月亮星      女    2003/8/7\n",
      "2   3  何晶晶     艾尔星      女   2004/11/2\n",
      "3   4   张怡     克哈星      男  2003/10/11\n",
      "!!!!!!!!!!!!!!!!!!!!!!!!!!!!!!!!!\n",
      "   id name address gender    birthday\n",
      "0   1  蔡梦丹     地球村      女   2004/11/2\n",
      "1   2  杨萌渝     月亮星      女    2003/8/7\n",
      "2   3  何晶晶     艾尔星      女   2004/11/2\n",
      "3   4   张怡     克哈星      男  2003/10/11\n"
     ]
    },
    {
     "name": "stderr",
     "output_type": "stream",
     "text": [
      "D:\\code\\lib\\site-packages\\ipykernel_launcher.py:7: ParserWarning: Falling back to the 'python' engine because the 'c' engine does not support skipfooter; you can avoid this warning by specifying engine='python'.\n",
      "  import sys\n"
     ]
    }
   ],
   "source": [
    "# 6.skipfooter:从文件末尾过滤行  （从文档末尾省略数据，删除后几行）\n",
    "# 原数据\n",
    "df = pd.read_csv('E:\\panda\\students1.csv',encoding='gbk')\n",
    "print(df)\n",
    "print('---------------------------')\n",
    "# 过滤过的\n",
    "df = pd.read_csv('E:\\panda\\students1.csv',encoding='gbk',skipfooter=2)\n",
    "print(df)\n",
    "print('!!!!!!!!!!!!!!!!!!!!!!!!!!!!!!!!!')\n",
    "\n",
    "# pandas解析数据时用的引擎，目前解析引擎有两种：默认为c，也可指定python，但c解析更快，但没python引擎全\n",
    "df1 = pd.read_csv('E:\\panda\\students1.csv',encoding='gbk',\n",
    "                  skipfooter=2,engine='python')\n",
    "print(df1)"
   ]
  },
  {
   "cell_type": "code",
   "execution_count": 7,
   "metadata": {},
   "outputs": [
    {
     "data": {
      "text/html": [
       "<div>\n",
       "<style scoped>\n",
       "    .dataframe tbody tr th:only-of-type {\n",
       "        vertical-align: middle;\n",
       "    }\n",
       "\n",
       "    .dataframe tbody tr th {\n",
       "        vertical-align: top;\n",
       "    }\n",
       "\n",
       "    .dataframe thead th {\n",
       "        text-align: right;\n",
       "    }\n",
       "</style>\n",
       "<table border=\"1\" class=\"dataframe\">\n",
       "  <thead>\n",
       "    <tr style=\"text-align: right;\">\n",
       "      <th></th>\n",
       "      <th>id</th>\n",
       "      <th>name</th>\n",
       "      <th>address</th>\n",
       "      <th>gender</th>\n",
       "      <th>birthday</th>\n",
       "    </tr>\n",
       "  </thead>\n",
       "  <tbody>\n",
       "    <tr>\n",
       "      <th>0</th>\n",
       "      <td>1</td>\n",
       "      <td>蔡梦丹</td>\n",
       "      <td>地球村</td>\n",
       "      <td>女</td>\n",
       "      <td>2004/11/2</td>\n",
       "    </tr>\n",
       "    <tr>\n",
       "      <th>1</th>\n",
       "      <td>2</td>\n",
       "      <td>杨萌渝</td>\n",
       "      <td>月亮星</td>\n",
       "      <td>女</td>\n",
       "      <td>2003/8/7</td>\n",
       "    </tr>\n",
       "    <tr>\n",
       "      <th>2</th>\n",
       "      <td>3</td>\n",
       "      <td>何晶晶</td>\n",
       "      <td>艾尔星</td>\n",
       "      <td>女</td>\n",
       "      <td>2004/11/2</td>\n",
       "    </tr>\n",
       "    <tr>\n",
       "      <th>3</th>\n",
       "      <td>4</td>\n",
       "      <td>张怡</td>\n",
       "      <td>克哈星</td>\n",
       "      <td>男</td>\n",
       "      <td>2003/10/11</td>\n",
       "    </tr>\n",
       "    <tr>\n",
       "      <th>4</th>\n",
       "      <td>5</td>\n",
       "      <td>郭志阳</td>\n",
       "      <td>查尔星</td>\n",
       "      <td>男</td>\n",
       "      <td>2002/6/12</td>\n",
       "    </tr>\n",
       "    <tr>\n",
       "      <th>5</th>\n",
       "      <td>6</td>\n",
       "      <td>马成功</td>\n",
       "      <td>塔桑尼斯</td>\n",
       "      <td>男</td>\n",
       "      <td>2002/2/12</td>\n",
       "    </tr>\n",
       "  </tbody>\n",
       "</table>\n",
       "</div>"
      ],
      "text/plain": [
       "   id name address gender    birthday\n",
       "0   1  蔡梦丹     地球村      女   2004/11/2\n",
       "1   2  杨萌渝     月亮星      女    2003/8/7\n",
       "2   3  何晶晶     艾尔星      女   2004/11/2\n",
       "3   4   张怡     克哈星      男  2003/10/11\n",
       "4   5  郭志阳     查尔星      男   2002/6/12\n",
       "5   6  马成功    塔桑尼斯      男   2002/2/12"
      ]
     },
     "execution_count": 7,
     "metadata": {},
     "output_type": "execute_result"
    }
   ],
   "source": [
    "# nrows:设置一次性读入的文件行数，在读入大文件时很有用（上千条数据）\n",
    "df = pd.read_csv('E:\\panda\\students1.csv',encoding='gbk',nrows=50)\n",
    "df"
   ]
  },
  {
   "cell_type": "code",
   "execution_count": null,
   "metadata": {},
   "outputs": [],
   "source": []
  },
  {
   "cell_type": "code",
   "execution_count": null,
   "metadata": {},
   "outputs": [],
   "source": []
  },
  {
   "cell_type": "code",
   "execution_count": null,
   "metadata": {},
   "outputs": [],
   "source": []
  }
 ],
 "metadata": {
  "kernelspec": {
   "display_name": "Python 3",
   "language": "python",
   "name": "python3"
  },
  "language_info": {
   "codemirror_mode": {
    "name": "ipython",
    "version": 3
   },
   "file_extension": ".py",
   "mimetype": "text/x-python",
   "name": "python",
   "nbconvert_exporter": "python",
   "pygments_lexer": "ipython3",
   "version": "3.7.0"
  }
 },
 "nbformat": 4,
 "nbformat_minor": 2
}
