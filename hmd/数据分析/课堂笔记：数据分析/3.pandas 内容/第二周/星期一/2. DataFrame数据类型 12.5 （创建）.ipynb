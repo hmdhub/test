{
 "cells": [
  {
   "cell_type": "code",
   "execution_count": 3,
   "metadata": {},
   "outputs": [],
   "source": [
    "# 引入numpy和pandas包\n",
    "import numpy as np\n",
    "import pandas as pd"
   ]
  },
  {
   "cell_type": "code",
   "execution_count": 18,
   "metadata": {},
   "outputs": [
    {
     "name": "stdout",
     "output_type": "stream",
     "text": [
      "   0\n",
      "0  1\n",
      "1  2\n",
      "2  3\n",
      "3  4\n",
      "4  5\n",
      "*********************\n",
      "0    1\n",
      "1    2\n",
      "2    3\n",
      "3    4\n",
      "4    5\n",
      "dtype: int64\n"
     ]
    }
   ],
   "source": [
    "# 1.使用普通列表创建\n",
    "data = [1,2,3,4,5]\n",
    "a = pd.DataFrame(data)\n",
    "print(a)\n",
    "\"\"\"\n",
    "         \n",
    "         列标签\n",
    "行标签   0\n",
    "         数据\n",
    "0        1\n",
    "1        2\n",
    "2        3\n",
    "3        4\n",
    "4        5\n",
    "\n",
    "\"\"\"\n",
    "print('*********************')\n",
    "data = [1,2,3,4,5]\n",
    "a = pd.Series(data)\n",
    "print(a)"
   ]
  },
  {
   "cell_type": "code",
   "execution_count": 5,
   "metadata": {},
   "outputs": [
    {
     "name": "stdout",
     "output_type": "stream",
     "text": [
      "     0   1\n",
      "0  hmd  20\n",
      "1  hyy  17\n",
      "2   ls  21\n"
     ]
    }
   ],
   "source": [
    "# 2.使用嵌套列表创建\n",
    "data = [['hmd',20],['hyy',17],['ls',21]] # 列表中的每一个元素代表一行数据\n",
    "a = pd.DataFrame(data)\n",
    "print(a)"
   ]
  },
  {
   "cell_type": "code",
   "execution_count": 6,
   "metadata": {},
   "outputs": [
    {
     "name": "stdout",
     "output_type": "stream",
     "text": [
      "  name  age\n",
      "0  hmd   20\n",
      "1  hyy   17\n",
      "2   ls   21\n"
     ]
    }
   ],
   "source": [
    "data = [['hmd',20],['hyy',17],['ls',21]] # 列表中的每一个元素代表一行数据\n",
    "# 指定列标签\n",
    "a = pd.DataFrame(data,columns=['name','age'])\n",
    "print(a)"
   ]
  },
  {
   "cell_type": "code",
   "execution_count": 12,
   "metadata": {},
   "outputs": [
    {
     "name": "stdout",
     "output_type": "stream",
     "text": [
      "  name  age sex\n",
      "0  hmd   20   女\n",
      "1  hyy   17   男\n",
      "2   ls   21   男\n"
     ]
    }
   ],
   "source": [
    "# 3.指定数值元素的数据类型为float\n",
    "# 注意：dtype只能设置一个，设置多个列的数据类型，需要使用其他方式\n",
    "data = [['hmd',20,'女'],['hyy',17,'男'],['ls',21,'男']] # 列表中的每一个元素代表一行数据\n",
    "# 指定列标签\n",
    "a = pd.DataFrame(data,columns=['name','age','sex'],dtype=int)  # dtype=int指定数据类型\n",
    "# int 满足某列特征，会自动使用，不满足会自动识别\n",
    "print(a)"
   ]
  },
  {
   "cell_type": "code",
   "execution_count": 14,
   "metadata": {},
   "outputs": [
    {
     "name": "stdout",
     "output_type": "stream",
     "text": [
      "int32\n",
      "object\n"
     ]
    }
   ],
   "source": [
    "print(a['age'].dtype)\n",
    "print(a['name'].dtype)"
   ]
  },
  {
   "cell_type": "code",
   "execution_count": 26,
   "metadata": {},
   "outputs": [
    {
     "name": "stdout",
     "output_type": "stream",
     "text": [
      "  name  age\n",
      "0  hmd   20\n",
      "1  hyy   21\n",
      "2   ls   22\n",
      "[0, 1, 2]\n"
     ]
    }
   ],
   "source": [
    "# 4.字典嵌套列表创建\n",
    "\"\"\"\n",
    "data字典中，键对应的值的元素长度必须相同（列表长度相同），如果传递了索引，则索引的长度=数组的长度\n",
    "无索引，则默认数组的长度\n",
    "\"\"\"\n",
    "data = {'name':['hmd','hyy','ls'],'age':[20,21,22]}\n",
    "h = pd.DataFrame(data)\n",
    "print(h)\n",
    "print(list(h.index))"
   ]
  },
  {
   "cell_type": "code",
   "execution_count": 29,
   "metadata": {},
   "outputs": [
    {
     "name": "stdout",
     "output_type": "stream",
     "text": [
      "     name  age\n",
      "stu   hmd   20\n",
      "stu1  hyy   21\n",
      "stu2   ls   22\n",
      "['stu', 'stu1', 'stu2']\n"
     ]
    }
   ],
   "source": [
    "# 5.添加自定义的行标签\n",
    "data = {'name':['hmd','hyy','ls'],'age':[20,21,22]}\n",
    "# 添加行标签\n",
    "df = pd.DataFrame(data,index=['stu','stu1','stu2'])\n",
    "print(df)\n",
    "print(list(df.index))"
   ]
  },
  {
   "cell_type": "code",
   "execution_count": 30,
   "metadata": {},
   "outputs": [
    {
     "name": "stdout",
     "output_type": "stream",
     "text": [
      "   a  b  c    d\n",
      "0  1  2  3  NaN\n",
      "1  5  6  7  8.0\n"
     ]
    }
   ],
   "source": [
    "# 6.列表嵌套字典创建DataFrame对象\n",
    "# 列表嵌套字典\n",
    "data = [{'a':1,'b':2,'c':3},{'a':5,'b':6,'c':7,'d':8}]\n",
    "df = pd.DataFrame(data)\n",
    "print(df)\n",
    "# 没有的值会用NaN填充"
   ]
  },
  {
   "cell_type": "code",
   "execution_count": 32,
   "metadata": {},
   "outputs": [
    {
     "name": "stdout",
     "output_type": "stream",
     "text": [
      "   a  b  c    d\n",
      "0  1  2  3  NaN\n",
      "1  5  6  7  8.0\n",
      "*************************\n",
      "   a    d\n",
      "0  1  NaN\n",
      "1  5  8.0\n",
      "*********************\n",
      "   a   m\n",
      "0  1 NaN\n",
      "1  5 NaN\n"
     ]
    }
   ],
   "source": [
    "# 如何使用列表嵌套字典创建一个DataFrame对象，可以设置结果需要那些列\n",
    "data = [{'a':1,'b':2,'c':3},{'a':5,'b':6,'c':7,'d':8}]\n",
    "df = pd.DataFrame(data)\n",
    "print(df) # 没有的值会用NaN填充\n",
    "df1 = pd.DataFrame(data,columns=['a','d'])\n",
    "print('*************************')\n",
    "print(df1)\n",
    "df2 = pd.DataFrame(data,columns=['a','m'])\n",
    "print('*********************')\n",
    "print(df2)"
   ]
  },
  {
   "cell_type": "code",
   "execution_count": 36,
   "metadata": {},
   "outputs": [
    {
     "name": "stdout",
     "output_type": "stream",
     "text": [
      "   one  two\n",
      "a  1.0    1\n",
      "b  2.0    2\n",
      "c  3.0    3\n",
      "d  NaN    4\n"
     ]
    }
   ],
   "source": [
    "# 7.Series 和 Dataframe 对象\n",
    "\"\"\"\n",
    "传递一个字典形式的Series，从而建一个DataFrame对象，其输出结果的行索引是所有index的合集\n",
    "\"\"\"\n",
    "d = {'one':pd.Series([1,2,3],index=['a','b','c']),\n",
    "     'two':pd.Series([1,2,3,4],index=['a','b','c','d'])}\n",
    "\n",
    "df = pd.DataFrame(d)\n",
    "print(df)"
   ]
  },
  {
   "cell_type": "code",
   "execution_count": null,
   "metadata": {},
   "outputs": [],
   "source": []
  }
 ],
 "metadata": {
  "kernelspec": {
   "display_name": "Python 3",
   "language": "python",
   "name": "python3"
  },
  "language_info": {
   "codemirror_mode": {
    "name": "ipython",
    "version": 3
   },
   "file_extension": ".py",
   "mimetype": "text/x-python",
   "name": "python",
   "nbconvert_exporter": "python",
   "pygments_lexer": "ipython3",
   "version": "3.7.0"
  }
 },
 "nbformat": 4,
 "nbformat_minor": 2
}
