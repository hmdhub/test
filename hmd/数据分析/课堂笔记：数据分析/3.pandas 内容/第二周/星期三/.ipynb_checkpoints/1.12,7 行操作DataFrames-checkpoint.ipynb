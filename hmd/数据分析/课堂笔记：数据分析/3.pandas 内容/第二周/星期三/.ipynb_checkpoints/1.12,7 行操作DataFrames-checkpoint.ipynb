{
 "cells": [
  {
   "cell_type": "code",
   "execution_count": 1,
   "metadata": {},
   "outputs": [],
   "source": [
    "import numpy as np\n",
    "import pandas as pd"
   ]
  },
  {
   "cell_type": "code",
   "execution_count": 4,
   "metadata": {},
   "outputs": [
    {
     "name": "stdout",
     "output_type": "stream",
     "text": [
      "   one  two\n",
      "a  1.0    1\n",
      "b  2.0    2\n",
      "c  3.0    3\n",
      "d  4.0    4\n",
      "e  NaN    5\n",
      "**************************\n",
      "one    1.0\n",
      "two    1.0\n",
      "Name: a, dtype: float64\n"
     ]
    }
   ],
   "source": [
    "\"\"\"\n",
    "行操作：\n",
    "     loc：使用的是标签\n",
    "     iloc：使用的是位置标签\n",
    "注意：  两者不可混用，也不可以相反使用\n",
    "\"\"\"\n",
    "\n",
    "# 1.标签选取   ----借助loc属性完成：按标签或布尔数组访问一组行和列\n",
    "\n",
    "d = {'one':pd.Series([1,2,3,4],index=['a','b','c','d']),\n",
    "    'two':pd.Series([1,2,3,4,5],index=['a','b','c','d','e'])}\n",
    "df = pd.DataFrame(d)\n",
    "print(df)\n",
    "print('**************************')\n",
    "print(df.loc['a'])# 序列  答应出来a的这一行和a的数据类型"
   ]
  },
  {
   "cell_type": "code",
   "execution_count": 5,
   "metadata": {},
   "outputs": [
    {
     "data": {
      "text/plain": [
       "1.0"
      ]
     },
     "execution_count": 5,
     "metadata": {},
     "output_type": "execute_result"
    }
   ],
   "source": [
    "# 注意：loc允许接受两个参数分别是行和列\n",
    "# loc[]:允许接受两个参数\n",
    "df.loc['a','one']  # 要的是a和one列数据\n"
   ]
  },
  {
   "cell_type": "code",
   "execution_count": 7,
   "metadata": {},
   "outputs": [
    {
     "data": {
      "text/plain": [
       "a    1\n",
       "b    2\n",
       "c    3\n",
       "Name: two, dtype: int64"
      ]
     },
     "execution_count": 7,
     "metadata": {},
     "output_type": "execute_result"
    }
   ],
   "source": [
    "# 行和列还可以使用切片，列不可以使用切片\n",
    "df.loc['a':'c','two']# 从a开始到c结束"
   ]
  },
  {
   "cell_type": "code",
   "execution_count": 13,
   "metadata": {},
   "outputs": [
    {
     "data": {
      "text/html": [
       "<div>\n",
       "<style scoped>\n",
       "    .dataframe tbody tr th:only-of-type {\n",
       "        vertical-align: middle;\n",
       "    }\n",
       "\n",
       "    .dataframe tbody tr th {\n",
       "        vertical-align: top;\n",
       "    }\n",
       "\n",
       "    .dataframe thead th {\n",
       "        text-align: right;\n",
       "    }\n",
       "</style>\n",
       "<table border=\"1\" class=\"dataframe\">\n",
       "  <thead>\n",
       "    <tr style=\"text-align: right;\">\n",
       "      <th></th>\n",
       "      <th>one</th>\n",
       "      <th>two</th>\n",
       "    </tr>\n",
       "  </thead>\n",
       "  <tbody>\n",
       "    <tr>\n",
       "      <th>b</th>\n",
       "      <td>2.0</td>\n",
       "      <td>2</td>\n",
       "    </tr>\n",
       "    <tr>\n",
       "      <th>d</th>\n",
       "      <td>4.0</td>\n",
       "      <td>4</td>\n",
       "    </tr>\n",
       "  </tbody>\n",
       "</table>\n",
       "</div>"
      ],
      "text/plain": [
       "   one  two\n",
       "b  2.0    2\n",
       "d  4.0    4"
      ]
     },
     "execution_count": 13,
     "metadata": {},
     "output_type": "execute_result"
    }
   ],
   "source": [
    "# 两行两列\n",
    "df.loc[['b','d'],['one','two']]   # loc参数"
   ]
  },
  {
   "cell_type": "code",
   "execution_count": 23,
   "metadata": {},
   "outputs": [
    {
     "name": "stdout",
     "output_type": "stream",
     "text": [
      "   one  two\n",
      "a  1.0    1\n",
      "b  2.0    2\n",
      "c  3.0    3\n",
      "d  4.0    4\n",
      "e  NaN    5\n",
      "**************************\n",
      "!!!!!!!!!!!!!!!!!!!!!!!!!!!!!!!\n"
     ]
    },
    {
     "data": {
      "text/plain": [
       "4.0"
      ]
     },
     "execution_count": 23,
     "metadata": {},
     "output_type": "execute_result"
    }
   ],
   "source": [
    "# 2.数值型索引和切片  ----使用iloc属性\n",
    "# 直接使用索引，会优先查找列标签，找不到报错，列没有位置索引\n",
    "# iloc：行基于整数位置的按位置选择索引\n",
    "\n",
    "d = {'one':pd.Series([1,2,3,4],index=['a','b','c','d']),\n",
    "    'two':pd.Series([1,2,3,4,5],index=['a','b','c','d','e'])}\n",
    "df = pd.DataFrame(d)\n",
    "print(df)\n",
    "print('**************************')\n",
    "# 位置索引\n",
    "df.iloc[2]\n",
    "\n",
    "# 第一行和最后一行数据\n",
    "# 两者任选一个写\n",
    "df.iloc[[0,3]]\n",
    "df.iloc[[0,-1]]# 最后一行可以用-1\n",
    "print('!!!!!!!!!!!!!!!!!!!!!!!!!!!!!!!')\n",
    "\n",
    "# iloc可以使用行索引的位置和列索引的位置（都是从零开始）\n",
    "df.iloc[3,0]  # 3：是d的索引位置，0：是d行中的nan的位置\n"
   ]
  },
  {
   "cell_type": "code",
   "execution_count": 28,
   "metadata": {},
   "outputs": [
    {
     "name": "stdout",
     "output_type": "stream",
     "text": [
      "   one  two\n",
      "a  1.0    1\n",
      "b  2.0    2\n",
      "c  3.0    3\n",
      "d  4.0    4\n",
      "e  NaN    5\n",
      "***************************\n",
      "one    3.0\n",
      "two    3.0\n",
      "Name: c, dtype: float64\n",
      "------------------------\n",
      "   one  two\n",
      "b  2.0    2\n",
      "c  3.0    3\n",
      "--------------------------------\n"
     ]
    },
    {
     "data": {
      "text/html": [
       "<div>\n",
       "<style scoped>\n",
       "    .dataframe tbody tr th:only-of-type {\n",
       "        vertical-align: middle;\n",
       "    }\n",
       "\n",
       "    .dataframe tbody tr th {\n",
       "        vertical-align: top;\n",
       "    }\n",
       "\n",
       "    .dataframe thead th {\n",
       "        text-align: right;\n",
       "    }\n",
       "</style>\n",
       "<table border=\"1\" class=\"dataframe\">\n",
       "  <thead>\n",
       "    <tr style=\"text-align: right;\">\n",
       "      <th></th>\n",
       "      <th>one</th>\n",
       "      <th>two</th>\n",
       "    </tr>\n",
       "  </thead>\n",
       "  <tbody>\n",
       "    <tr>\n",
       "      <th>b</th>\n",
       "      <td>2.0</td>\n",
       "      <td>2</td>\n",
       "    </tr>\n",
       "    <tr>\n",
       "      <th>c</th>\n",
       "      <td>3.0</td>\n",
       "      <td>3</td>\n",
       "    </tr>\n",
       "  </tbody>\n",
       "</table>\n",
       "</div>"
      ],
      "text/plain": [
       "   one  two\n",
       "b  2.0    2\n",
       "c  3.0    3"
      ]
     },
     "execution_count": 28,
     "metadata": {},
     "output_type": "execute_result"
    }
   ],
   "source": [
    "# 3.切片操作多行选取     -----可以直接使用数值型切片操作行和使用iloc同样的结果\n",
    "d = {'one':pd.Series([1,2,3,4],index=['a','b','c','d']),  # index指定行标签\n",
    "    'two':pd.Series([1,2,3,4,5],index=['a','b','c','d','e'])}\n",
    "df = pd.DataFrame(d)\n",
    "print(df)\n",
    "print('***************************')\n",
    "print(df.iloc[2])\n",
    "print('------------------------')\n",
    "# 这两个是一样的\n",
    "print(df.iloc[1:3])  # 使用iloc属性\n",
    "print('--------------------------------')\n",
    "df[1:3]   # 直接使用数值切片操作"
   ]
  },
  {
   "cell_type": "code",
   "execution_count": 58,
   "metadata": {},
   "outputs": [
    {
     "name": "stdout",
     "output_type": "stream",
     "text": [
      "      Name  Age  Salary       hobby\n",
      "rank1   关羽   28    5000      python\n",
      "rank2   刘备   34    8000        jave\n",
      "rank3   张飞   29    4500          go\n",
      "rank4   曹操   42   10000  JaveScript\n"
     ]
    }
   ],
   "source": [
    "# 练习\n",
    "# 取得第3行的数据\n",
    "# 取得age列的数据\n",
    "# 取得age列和Salary列的数据\n",
    "# 取得前3行的数据\n",
    "# 取得前3行Name\\Age\\Salary的数据\n",
    "# 取得第1和第3行，列Age和Salary的数据\n",
    "data = {\n",
    "    'Name':['关羽','刘备','张飞','曹操'],\n",
    "    'Age':[28,34,29,42],\n",
    "    \"Salary\":[5000,8000,4500,10000],\n",
    "    \"hobby\":[\"python\",\"jave\",\"go\",\"JaveScript\"]\n",
    "}\n",
    "# 定义行标签\n",
    "index = [\"rank1\",\"rank2\",\"rank3\",\"rank4\"]\n",
    "# 通过字典创建DataFrames\n",
    "df = pd.DataFrame(data,index=index)\n",
    "df\n",
    "print(df)"
   ]
  },
  {
   "cell_type": "code",
   "execution_count": 56,
   "metadata": {},
   "outputs": [
    {
     "name": "stdout",
     "output_type": "stream",
     "text": [
      "      Name  Age  Salary   hobby\n",
      "rank1   关羽   28    5000  python\n",
      "rank2   刘备   34    8000    jave\n",
      "rank3   张飞   29    4500      go\n"
     ]
    }
   ],
   "source": [
    "#  取得前3行的数据\n",
    "print(df.iloc[0:3])"
   ]
  },
  {
   "cell_type": "code",
   "execution_count": 57,
   "metadata": {},
   "outputs": [
    {
     "data": {
      "text/html": [
       "<div>\n",
       "<style scoped>\n",
       "    .dataframe tbody tr th:only-of-type {\n",
       "        vertical-align: middle;\n",
       "    }\n",
       "\n",
       "    .dataframe tbody tr th {\n",
       "        vertical-align: top;\n",
       "    }\n",
       "\n",
       "    .dataframe thead th {\n",
       "        text-align: right;\n",
       "    }\n",
       "</style>\n",
       "<table border=\"1\" class=\"dataframe\">\n",
       "  <thead>\n",
       "    <tr style=\"text-align: right;\">\n",
       "      <th></th>\n",
       "      <th>Name</th>\n",
       "      <th>Age</th>\n",
       "      <th>Salary</th>\n",
       "      <th>hobby</th>\n",
       "    </tr>\n",
       "  </thead>\n",
       "  <tbody>\n",
       "    <tr>\n",
       "      <th>rank3</th>\n",
       "      <td>张飞</td>\n",
       "      <td>29</td>\n",
       "      <td>4500</td>\n",
       "      <td>go</td>\n",
       "    </tr>\n",
       "  </tbody>\n",
       "</table>\n",
       "</div>"
      ],
      "text/plain": [
       "      Name  Age  Salary hobby\n",
       "rank3   张飞   29    4500    go"
      ]
     },
     "execution_count": 57,
     "metadata": {},
     "output_type": "execute_result"
    }
   ],
   "source": [
    "# 取得第3行的数据\n",
    "df.loc[['rank3']]\n"
   ]
  },
  {
   "cell_type": "code",
   "execution_count": 59,
   "metadata": {},
   "outputs": [
    {
     "name": "stdout",
     "output_type": "stream",
     "text": [
      "rank1    28\n",
      "rank2    34\n",
      "rank3    29\n",
      "rank4    42\n",
      "Name: Age, dtype: int64\n"
     ]
    }
   ],
   "source": [
    "# 取得age列的数据\n",
    "print(df['Age'])"
   ]
  },
  {
   "cell_type": "code",
   "execution_count": 60,
   "metadata": {},
   "outputs": [
    {
     "name": "stdout",
     "output_type": "stream",
     "text": [
      "       Age  Salary\n",
      "rank1   28    5000\n",
      "rank2   34    8000\n",
      "rank3   29    4500\n",
      "rank4   42   10000\n"
     ]
    }
   ],
   "source": [
    "# 取得age列和Salary列的数据\n",
    "print(df[['Age','Salary']])"
   ]
  },
  {
   "cell_type": "code",
   "execution_count": 61,
   "metadata": {},
   "outputs": [
    {
     "data": {
      "text/html": [
       "<div>\n",
       "<style scoped>\n",
       "    .dataframe tbody tr th:only-of-type {\n",
       "        vertical-align: middle;\n",
       "    }\n",
       "\n",
       "    .dataframe tbody tr th {\n",
       "        vertical-align: top;\n",
       "    }\n",
       "\n",
       "    .dataframe thead th {\n",
       "        text-align: right;\n",
       "    }\n",
       "</style>\n",
       "<table border=\"1\" class=\"dataframe\">\n",
       "  <thead>\n",
       "    <tr style=\"text-align: right;\">\n",
       "      <th></th>\n",
       "      <th>Name</th>\n",
       "      <th>Age</th>\n",
       "      <th>Salary</th>\n",
       "    </tr>\n",
       "  </thead>\n",
       "  <tbody>\n",
       "    <tr>\n",
       "      <th>rank1</th>\n",
       "      <td>关羽</td>\n",
       "      <td>28</td>\n",
       "      <td>5000</td>\n",
       "    </tr>\n",
       "    <tr>\n",
       "      <th>rank2</th>\n",
       "      <td>刘备</td>\n",
       "      <td>34</td>\n",
       "      <td>8000</td>\n",
       "    </tr>\n",
       "    <tr>\n",
       "      <th>rank3</th>\n",
       "      <td>张飞</td>\n",
       "      <td>29</td>\n",
       "      <td>4500</td>\n",
       "    </tr>\n",
       "  </tbody>\n",
       "</table>\n",
       "</div>"
      ],
      "text/plain": [
       "      Name  Age  Salary\n",
       "rank1   关羽   28    5000\n",
       "rank2   刘备   34    8000\n",
       "rank3   张飞   29    4500"
      ]
     },
     "execution_count": 61,
     "metadata": {},
     "output_type": "execute_result"
    }
   ],
   "source": [
    "# 取得前3行Name\\Age\\Salary的数据\n",
    "df.loc['rank1':'rank3',['Name','Age','Salary']]  #先行后列，都包含\n"
   ]
  },
  {
   "cell_type": "code",
   "execution_count": 62,
   "metadata": {},
   "outputs": [
    {
     "data": {
      "text/html": [
       "<div>\n",
       "<style scoped>\n",
       "    .dataframe tbody tr th:only-of-type {\n",
       "        vertical-align: middle;\n",
       "    }\n",
       "\n",
       "    .dataframe tbody tr th {\n",
       "        vertical-align: top;\n",
       "    }\n",
       "\n",
       "    .dataframe thead th {\n",
       "        text-align: right;\n",
       "    }\n",
       "</style>\n",
       "<table border=\"1\" class=\"dataframe\">\n",
       "  <thead>\n",
       "    <tr style=\"text-align: right;\">\n",
       "      <th></th>\n",
       "      <th>Age</th>\n",
       "      <th>Salary</th>\n",
       "    </tr>\n",
       "  </thead>\n",
       "  <tbody>\n",
       "    <tr>\n",
       "      <th>rank1</th>\n",
       "      <td>28</td>\n",
       "      <td>5000</td>\n",
       "    </tr>\n",
       "    <tr>\n",
       "      <th>rank2</th>\n",
       "      <td>34</td>\n",
       "      <td>8000</td>\n",
       "    </tr>\n",
       "    <tr>\n",
       "      <th>rank3</th>\n",
       "      <td>29</td>\n",
       "      <td>4500</td>\n",
       "    </tr>\n",
       "  </tbody>\n",
       "</table>\n",
       "</div>"
      ],
      "text/plain": [
       "       Age  Salary\n",
       "rank1   28    5000\n",
       "rank2   34    8000\n",
       "rank3   29    4500"
      ]
     },
     "execution_count": 62,
     "metadata": {},
     "output_type": "execute_result"
    }
   ],
   "source": [
    "# 取得第1和第3行，列Age和Salary的数据\n",
    "df.loc['rank1':'rank3',['Age','Salary']]  # 先行后列都包含"
   ]
  }
 ],
 "metadata": {
  "kernelspec": {
   "display_name": "Python 3",
   "language": "python",
   "name": "python3"
  },
  "language_info": {
   "codemirror_mode": {
    "name": "ipython",
    "version": 3
   },
   "file_extension": ".py",
   "mimetype": "text/x-python",
   "name": "python",
   "nbconvert_exporter": "python",
   "pygments_lexer": "ipython3",
   "version": "3.7.0"
  }
 },
 "nbformat": 4,
 "nbformat_minor": 2
}
