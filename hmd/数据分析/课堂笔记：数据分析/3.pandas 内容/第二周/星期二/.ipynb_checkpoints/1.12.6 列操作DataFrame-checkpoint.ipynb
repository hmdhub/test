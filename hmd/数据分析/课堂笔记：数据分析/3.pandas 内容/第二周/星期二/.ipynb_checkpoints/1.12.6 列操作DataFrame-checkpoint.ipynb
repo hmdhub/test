{
 "cells": [
  {
   "cell_type": "code",
   "execution_count": 2,
   "metadata": {},
   "outputs": [],
   "source": [
    "import numpy as np\n",
    "import pandas as pd"
   ]
  },
  {
   "cell_type": "code",
   "execution_count": 10,
   "metadata": {},
   "outputs": [
    {
     "name": "stdout",
     "output_type": "stream",
     "text": [
      "     name sex  age\n",
      "stu1  hmd   女   20\n",
      "stu2  hyy   男   17\n",
      "stu3  lsk   男   20\n",
      "stu4  kjh   女   20\n",
      "*******************************\n",
      "stu1    hmd\n",
      "stu2    hyy\n",
      "stu3    lsk\n",
      "stu4    kjh\n",
      "Name: name, dtype: object\n",
      "stu1    女\n",
      "stu2    男\n",
      "stu3    男\n",
      "stu4    女\n",
      "Name: sex, dtype: object\n",
      "*************************\n",
      "     name  age\n",
      "stu1  hmd   20\n",
      "stu2  hyy   17\n",
      "stu3  lsk   20\n",
      "stu4  kjh   20\n"
     ]
    }
   ],
   "source": [
    "# 1.选取数据列    -----可使用列索引，实现数据选取\n",
    "data = {'name':['hmd','hyy','lsk','kjh'],'sex':['女','男','男','女'],'age':[20,17,20,20]}  # 列表\n",
    "# 定义行标签\n",
    "index = ['stu1','stu2','stu3','stu4']\n",
    "\n",
    "# 通过字典创建DataFrame\n",
    "df = pd.DataFrame(data,index=index)\n",
    "print(df)\n",
    "print('*******************************')\n",
    "print(df['name'])# 只要df中的name\n",
    "print(df['sex'])# 只要df中的sex\n",
    "print('*************************')\n",
    "\n",
    "# 想要获取name 和 age  --错误写法\n",
    "# print(df['name','age'])# 列不能使用切片取多列值，也不可以使用逗号取值\n",
    "# print(df['name':'age']) # 这样写也是错的，也不可以使用冒号取值\n",
    "# 是否可以使用列下标签的下标进行取值  -------不可以\n",
    "# print(df[1])   # 报错 \n",
    "\n",
    "# 正确的写法，需要双中括号\n",
    "print(df[['name','age']])"
   ]
  },
  {
   "cell_type": "code",
   "execution_count": 14,
   "metadata": {},
   "outputs": [
    {
     "name": "stdout",
     "output_type": "stream",
     "text": [
      "   one  two\n",
      "a  1.0    1\n",
      "b  2.0    2\n",
      "c  3.0    3\n",
      "d  4.0    4\n",
      "e  NaN    5\n",
      "!!!!!!!!!!!!!!!!!!!!!!!!!!!\n",
      "   one  two  three\n",
      "a  1.0    1   10.0\n",
      "b  2.0    2   20.0\n",
      "c  3.0    3   30.0\n",
      "d  4.0    4    NaN\n",
      "e  NaN    5    NaN\n",
      "%%%%%%%%%%%%%%%%%%%%%%%%%\n",
      "   one  two  three  four\n",
      "a  1.0    1   10.0  11.0\n",
      "b  2.0    2   20.0  22.0\n",
      "c  3.0    3   30.0  33.0\n",
      "d  4.0    4    NaN   NaN\n",
      "e  NaN    5    NaN   NaN\n"
     ]
    }
   ],
   "source": [
    "# 2.列添加   -----使用columns列标签可以实现添加新的数据列\n",
    "d = {'one':pd.Series([1,2,3,4],index=['a','b','c','d']),\n",
    "    'two':pd.Series([1,2,3,4,5],index=['a','b','c','d','e'])}\n",
    "df = pd.DataFrame(d)\n",
    "print(df)\n",
    "print('!!!!!!!!!!!!!!!!!!!!!!!!!!!')\n",
    "\n",
    "# 插入一列\n",
    "df['three']=pd.Series([10,20,30],index=['a','b','c'])\n",
    "print(df)\n",
    "print('%%%%%%%%%%%%%%%%%%%%%%%%%')\n",
    "\n",
    "# 将已经存在的列进行运算。创建一个新的列\n",
    "df['four']=df['one']+df['three']  # 第四列=第一列的数+第三的数\n",
    "print(df)"
   ]
  },
  {
   "cell_type": "code",
   "execution_count": 31,
   "metadata": {},
   "outputs": [
    {
     "name": "stdout",
     "output_type": "stream",
     "text": [
      "     0   1\n",
      "0  hmd  20\n",
      "1  hyy  17\n",
      "2   ls  21\n",
      "********************\n",
      "     0   1  two\n",
      "0  hmd  20   20\n",
      "1  hyy  17   30\n",
      "2   ls  21   40\n"
     ]
    }
   ],
   "source": [
    "# 3.insert()方法添加  df.insert(loc,column,value,allow_duplicates)\n",
    "\"\"\"\n",
    "loc:整型，插入索引，必须验证0<=loc<=len（列）\n",
    "column：插入列的标签，类型可以是（字符串/数字/散列对象）\n",
    "value：数值Series或者数组\n",
    "allow_duplicates:允许重复，可以有相同的列标签数据，默认为False\n",
    "\"\"\"\n",
    "info = [['hmd',20],['hyy',17],['ls',21]]\n",
    "df = pd.DataFrame(info)\n",
    "print(df)\n",
    "print('********************')\n",
    "# 第一个参数数字，是插入的位置（从零开始）  \n",
    "df.insert(2,column='two',value=[20,30,40])  # 第一个数字是列牌号\n",
    "print(df)"
   ]
  },
  {
   "cell_type": "code",
   "execution_count": 22,
   "metadata": {},
   "outputs": [
    {
     "name": "stdout",
     "output_type": "stream",
     "text": [
      "   score  score  score  score  score\n",
      "0     70     70     70     70     20\n",
      "1     80     80     80     80     30\n",
      "2     90     90     90     90     40\n",
      "     0  score  score  score  score   1  score\n",
      "0  hmd     70     70     70     70  20     20\n",
      "1  hyy     80     80     80     80  17     30\n",
      "2   ls     90     90     90     90  21     40\n"
     ]
    }
   ],
   "source": [
    "# 可以添加重复的\n",
    "df.insert(1,column='score',value=[70,80,90],allow_duplicates=True)\n",
    "print(df['score'])\n",
    "print(df)   # 运行一次就会多一列"
   ]
  },
  {
   "cell_type": "code",
   "execution_count": 34,
   "metadata": {},
   "outputs": [
    {
     "name": "stdout",
     "output_type": "stream",
     "text": [
      "   one  two\n",
      "a  1.0    1\n",
      "b  2.0    2\n",
      "c  3.0    3\n",
      "d  4.0    4\n",
      "e  NaN    5\n",
      "**************************\n",
      "########################\n",
      "   one\n",
      "a  1.0\n",
      "b  2.0\n",
      "c  3.0\n",
      "d  4.0\n",
      "e  NaN\n",
      "******************\n",
      "a    1\n",
      "b    2\n",
      "c    3\n",
      "d    4\n",
      "e    5\n",
      "Name: two, dtype: int64\n"
     ]
    }
   ],
   "source": [
    "# 删除数据列   ----通过del和pop()删除数据列，pop有返回值\n",
    "d = {'one':pd.Series([1,2,3,4],index=['a','b','c','d']),\n",
    "    'two':pd.Series([1,2,3,4,5],index=['a','b','c','d','e'])}\n",
    "df = pd.DataFrame(d)\n",
    "print(df)\n",
    "print('**************************')\n",
    "# 删除  方法一\n",
    "# del df['one']\n",
    "# print(df)\n",
    "print('########################')\n",
    "# 方法二\n",
    "a = df.pop('two')\n",
    "print(df)  # 返回删除后的（没有删除的）\n",
    "print('******************')\n",
    "print(a)  # 返回删除的东西"
   ]
  }
 ],
 "metadata": {
  "kernelspec": {
   "display_name": "Python 3",
   "language": "python",
   "name": "python3"
  },
  "language_info": {
   "codemirror_mode": {
    "name": "ipython",
    "version": 3
   },
   "file_extension": ".py",
   "mimetype": "text/x-python",
   "name": "python",
   "nbconvert_exporter": "python",
   "pygments_lexer": "ipython3",
   "version": "3.7.0"
  }
 },
 "nbformat": 4,
 "nbformat_minor": 2
}
