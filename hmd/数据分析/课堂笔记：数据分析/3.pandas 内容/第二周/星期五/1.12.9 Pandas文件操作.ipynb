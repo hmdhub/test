{
 "cells": [
  {
   "cell_type": "code",
   "execution_count": 1,
   "metadata": {},
   "outputs": [],
   "source": [
    "import numpy as np\n",
    "import pandas as pd"
   ]
  },
  {
   "cell_type": "code",
   "execution_count": 2,
   "metadata": {},
   "outputs": [
    {
     "data": {
      "text/plain": [
       "'\\n读取前需要先准本好数据集，读取文件是做数据分析的第一步\\nread_csv():用于读取文本文件\\nread_excel(): 用于读取文本文件\\nread_json(): 用于读取json文件\\nread_sql_query():读取 sql语句的\\n\\n通用流程：\\n     1.导入库： import pandas as pd\\n     2.找到文件所在位置（绝对路径 = 全称）（相对路径 = 和程序在同一个文件夹中的路径的简称）\\n     3.变量名 = pd.读写操作方法（文件路径，具体的筛选条件.....）\\n        \\n    \\n'"
      ]
     },
     "execution_count": 2,
     "metadata": {},
     "output_type": "execute_result"
    }
   ],
   "source": [
    "# Pandas读取文件\n",
    "\"\"\"\n",
    "读取前需要先准本好数据集，读取文件是做数据分析的第一步\n",
    "read_csv():用于读取文本文件\n",
    "read_excel(): 用于读取文本文件\n",
    "read_json(): 用于读取json文件\n",
    "read_sql_query():读取 sql语句的\n",
    "\n",
    "通用流程：\n",
    "     1.导入库： import pandas as pd\n",
    "     2.找到文件所在位置（绝对路径 = 全称）（相对路径 = 和程序在同一个文件夹中的路径的简称）\n",
    "     3.变量名 = pd.读写操作方法（文件路径，具体的筛选条件.....）\n",
    "        \n",
    "    \n",
    "\"\"\"\n"
   ]
  },
  {
   "cell_type": "code",
   "execution_count": 60,
   "metadata": {},
   "outputs": [
    {
     "data": {
      "text/html": [
       "<div>\n",
       "<style scoped>\n",
       "    .dataframe tbody tr th:only-of-type {\n",
       "        vertical-align: middle;\n",
       "    }\n",
       "\n",
       "    .dataframe tbody tr th {\n",
       "        vertical-align: top;\n",
       "    }\n",
       "\n",
       "    .dataframe thead th {\n",
       "        text-align: right;\n",
       "    }\n",
       "</style>\n",
       "<table border=\"1\" class=\"dataframe\">\n",
       "  <thead>\n",
       "    <tr style=\"text-align: right;\">\n",
       "      <th></th>\n",
       "      <th>col1</th>\n",
       "      <th>col2</th>\n",
       "      <th>col3</th>\n",
       "      <th>col4</th>\n",
       "      <th>col5</th>\n",
       "    </tr>\n",
       "  </thead>\n",
       "  <tbody>\n",
       "    <tr>\n",
       "      <th>0</th>\n",
       "      <td>2</td>\n",
       "      <td>a</td>\n",
       "      <td>1.4</td>\n",
       "      <td>apple</td>\n",
       "      <td>2022/1/1</td>\n",
       "    </tr>\n",
       "    <tr>\n",
       "      <th>1</th>\n",
       "      <td>3</td>\n",
       "      <td>b</td>\n",
       "      <td>3.4</td>\n",
       "      <td>banana</td>\n",
       "      <td>2022/1/2</td>\n",
       "    </tr>\n",
       "    <tr>\n",
       "      <th>2</th>\n",
       "      <td>6</td>\n",
       "      <td>c</td>\n",
       "      <td>2.5</td>\n",
       "      <td>orange</td>\n",
       "      <td>2022/1/5</td>\n",
       "    </tr>\n",
       "    <tr>\n",
       "      <th>3</th>\n",
       "      <td>5</td>\n",
       "      <td>d</td>\n",
       "      <td>3.2</td>\n",
       "      <td>grape</td>\n",
       "      <td>2022/1/7</td>\n",
       "    </tr>\n",
       "  </tbody>\n",
       "</table>\n",
       "</div>"
      ],
      "text/plain": [
       "   col1 col2  col3    col4      col5\n",
       "0     2    a   1.4   apple  2022/1/1\n",
       "1     3    b   3.4  banana  2022/1/2\n",
       "2     6    c   2.5  orange  2022/1/5\n",
       "3     5    d   3.2   grape  2022/1/7"
      ]
     },
     "execution_count": 60,
     "metadata": {},
     "output_type": "execute_result"
    }
   ],
   "source": [
    "# 读取csv文件\n",
    "# 1.绝对路径\n",
    "a = pd.read_csv(r'E:\\\\my_csv.csv')# r表示不进行转意\n",
    "a\n",
    "\n",
    "# 2.相对路径\n",
    "# a = pd.read_csv('../my_csv.csv')\n",
    "# a"
   ]
  },
  {
   "cell_type": "code",
   "execution_count": 21,
   "metadata": {},
   "outputs": [
    {
     "data": {
      "text/plain": [
       "'E:\\\\大二上学期内容\\\\hmd\\\\数据分析\\\\课堂笔记：数据分析\\\\3.pandas 内容\\\\第二周\\\\星期五'"
      ]
     },
     "execution_count": 21,
     "metadata": {},
     "output_type": "execute_result"
    }
   ],
   "source": [
    "import os\n",
    "os.getcwd()#  查看当前位置"
   ]
  },
  {
   "cell_type": "code",
   "execution_count": 77,
   "metadata": {},
   "outputs": [
    {
     "name": "stdout",
     "output_type": "stream",
     "text": [
      "   id name address gender    birthday\n",
      "0   1  蔡梦丹     地球村      女   2004/11/2\n",
      "1   2  杨萌渝     月亮星      女    2003/8/7\n",
      "2   3  何晶晶     艾尔星      女   2004/11/2\n",
      "3   4   张怡     克哈星      男  2003/10/11\n",
      "4   5  郭志阳     查尔星      男   2002/6/12\n",
      "5   6  马成功    塔桑尼斯      男   2002/2/12\n"
     ]
    },
    {
     "data": {
      "text/html": [
       "<div>\n",
       "<style scoped>\n",
       "    .dataframe tbody tr th:only-of-type {\n",
       "        vertical-align: middle;\n",
       "    }\n",
       "\n",
       "    .dataframe tbody tr th {\n",
       "        vertical-align: top;\n",
       "    }\n",
       "\n",
       "    .dataframe thead th {\n",
       "        text-align: right;\n",
       "    }\n",
       "</style>\n",
       "<table border=\"1\" class=\"dataframe\">\n",
       "  <thead>\n",
       "    <tr style=\"text-align: right;\">\n",
       "      <th></th>\n",
       "      <th>id</th>\n",
       "      <th>name</th>\n",
       "      <th>address</th>\n",
       "      <th>gender</th>\n",
       "      <th>birthday</th>\n",
       "    </tr>\n",
       "  </thead>\n",
       "  <tbody>\n",
       "    <tr>\n",
       "      <th>0</th>\n",
       "      <td>1</td>\n",
       "      <td>蔡梦丹</td>\n",
       "      <td>地球村</td>\n",
       "      <td>女</td>\n",
       "      <td>2004/11/2</td>\n",
       "    </tr>\n",
       "    <tr>\n",
       "      <th>1</th>\n",
       "      <td>2</td>\n",
       "      <td>杨萌渝</td>\n",
       "      <td>月亮星</td>\n",
       "      <td>女</td>\n",
       "      <td>2003/8/7</td>\n",
       "    </tr>\n",
       "    <tr>\n",
       "      <th>2</th>\n",
       "      <td>3</td>\n",
       "      <td>何晶晶</td>\n",
       "      <td>艾尔星</td>\n",
       "      <td>女</td>\n",
       "      <td>2004/11/2</td>\n",
       "    </tr>\n",
       "    <tr>\n",
       "      <th>3</th>\n",
       "      <td>4</td>\n",
       "      <td>张怡</td>\n",
       "      <td>克哈星</td>\n",
       "      <td>男</td>\n",
       "      <td>2003/10/11</td>\n",
       "    </tr>\n",
       "    <tr>\n",
       "      <th>4</th>\n",
       "      <td>5</td>\n",
       "      <td>郭志阳</td>\n",
       "      <td>查尔星</td>\n",
       "      <td>男</td>\n",
       "      <td>2002/6/12</td>\n",
       "    </tr>\n",
       "    <tr>\n",
       "      <th>5</th>\n",
       "      <td>6</td>\n",
       "      <td>马成功</td>\n",
       "      <td>塔桑尼斯</td>\n",
       "      <td>男</td>\n",
       "      <td>2002/2/12</td>\n",
       "    </tr>\n",
       "  </tbody>\n",
       "</table>\n",
       "</div>"
      ],
      "text/plain": [
       "   id name address gender    birthday\n",
       "0   1  蔡梦丹     地球村      女   2004/11/2\n",
       "1   2  杨萌渝     月亮星      女    2003/8/7\n",
       "2   3  何晶晶     艾尔星      女   2004/11/2\n",
       "3   4   张怡     克哈星      男  2003/10/11\n",
       "4   5  郭志阳     查尔星      男   2002/6/12\n",
       "5   6  马成功    塔桑尼斯      男   2002/2/12"
      ]
     },
     "execution_count": 77,
     "metadata": {},
     "output_type": "execute_result"
    }
   ],
   "source": [
    "# 绝对路径这四种方法都可以\n",
    "# b = pd.read_csv(r'E:\\students1.csv',encoding='gbk')# r表示不进行转意\n",
    "# b = pd.read_csv('E:\\\\students1.csv',encoding='gbk')\n",
    "# b = pd.read_csv(r'\\students1.csv',encoding='gbk')\n",
    "# b = pd.read_csv('E:/students1.csv',encoding='gbk')\n",
    "print(b)\n",
    "b"
   ]
  },
  {
   "cell_type": "code",
   "execution_count": 61,
   "metadata": {},
   "outputs": [
    {
     "data": {
      "text/plain": [
       "<_io.TextIOWrapper name='E:/students1.csv' mode='r' encoding='gbk'>"
      ]
     },
     "execution_count": 61,
     "metadata": {},
     "output_type": "execute_result"
    }
   ],
   "source": [
    "# 一.基本参数\n",
    "# 1.\n",
    "# f = open(r'E:/students1.csv',encoding='gbk')\n",
    "f"
   ]
  },
  {
   "cell_type": "code",
   "execution_count": 65,
   "metadata": {},
   "outputs": [
    {
     "data": {
      "text/html": [
       "<div>\n",
       "<style scoped>\n",
       "    .dataframe tbody tr th:only-of-type {\n",
       "        vertical-align: middle;\n",
       "    }\n",
       "\n",
       "    .dataframe tbody tr th {\n",
       "        vertical-align: top;\n",
       "    }\n",
       "\n",
       "    .dataframe thead th {\n",
       "        text-align: right;\n",
       "    }\n",
       "</style>\n",
       "<table border=\"1\" class=\"dataframe\">\n",
       "  <thead>\n",
       "    <tr style=\"text-align: right;\">\n",
       "      <th></th>\n",
       "      <th>id</th>\n",
       "      <th>name</th>\n",
       "      <th>address</th>\n",
       "      <th>gender</th>\n",
       "      <th>birthday</th>\n",
       "    </tr>\n",
       "  </thead>\n",
       "  <tbody>\n",
       "    <tr>\n",
       "      <th>0</th>\n",
       "      <td>1</td>\n",
       "      <td>蔡梦丹</td>\n",
       "      <td>地球村</td>\n",
       "      <td>女</td>\n",
       "      <td>2004/11/2</td>\n",
       "    </tr>\n",
       "    <tr>\n",
       "      <th>1</th>\n",
       "      <td>2</td>\n",
       "      <td>杨萌渝</td>\n",
       "      <td>月亮星</td>\n",
       "      <td>女</td>\n",
       "      <td>2003/8/7</td>\n",
       "    </tr>\n",
       "    <tr>\n",
       "      <th>2</th>\n",
       "      <td>3</td>\n",
       "      <td>何晶晶</td>\n",
       "      <td>艾尔星</td>\n",
       "      <td>女</td>\n",
       "      <td>2004/11/2</td>\n",
       "    </tr>\n",
       "    <tr>\n",
       "      <th>3</th>\n",
       "      <td>4</td>\n",
       "      <td>张怡</td>\n",
       "      <td>克哈星</td>\n",
       "      <td>男</td>\n",
       "      <td>2003/10/11</td>\n",
       "    </tr>\n",
       "    <tr>\n",
       "      <th>4</th>\n",
       "      <td>5</td>\n",
       "      <td>田海涛</td>\n",
       "      <td>查尔星</td>\n",
       "      <td>男</td>\n",
       "      <td>2002/6/12</td>\n",
       "    </tr>\n",
       "    <tr>\n",
       "      <th>5</th>\n",
       "      <td>6</td>\n",
       "      <td>马成功</td>\n",
       "      <td>塔桑尼斯</td>\n",
       "      <td>男</td>\n",
       "      <td>2002/2/12</td>\n",
       "    </tr>\n",
       "  </tbody>\n",
       "</table>\n",
       "</div>"
      ],
      "text/plain": [
       "   id name address gender    birthday\n",
       "0   1  蔡梦丹     地球村      女   2004/11/2\n",
       "1   2  杨萌渝     月亮星      女    2003/8/7\n",
       "2   3  何晶晶     艾尔星      女   2004/11/2\n",
       "3   4   张怡     克哈星      男  2003/10/11\n",
       "4   5  田海涛     查尔星      男   2002/6/12\n",
       "5   6  马成功    塔桑尼斯      男   2002/2/12"
      ]
     },
     "execution_count": 65,
     "metadata": {},
     "output_type": "execute_result"
    }
   ],
   "source": [
    "# 2.sep:读取csv文件时指定的分割符，默认为逗号‘，’\n",
    "d = pd.read_csv(r'E:\\panda\\students_step1.csv',encoding='gbk',sep='|')\n",
    "# 指定编码和分割符，默认为逗号‘，’\n",
    "d"
   ]
  },
  {
   "cell_type": "code",
   "execution_count": 80,
   "metadata": {},
   "outputs": [
    {
     "name": "stdout",
     "output_type": "stream",
     "text": [
      "  id name address gender birthday\n",
      "0            1 张三 地球村 女 2004/11/2\n",
      "1            2 李四\\t月亮星 女 2003/8/7\n",
      "2            3 王五 艾尔星 女 2004/11/2\n",
      "3           4 赵六 克哈星 男 2003/10/11\n",
      "4           5 小明\\t查尔星 男 2002/6/12\n",
      "5          6 小花\\t塔桑尼斯 男 2002/2/12\n",
      "##################################\n",
      "   id      name address     gender    birthday\n",
      "0   1        张三     地球村          女   2004/11/2\n",
      "1   2   李四\\t月亮星       女   2003/8/7         NaN\n",
      "2   3        王五     艾尔星          女   2004/11/2\n",
      "3   4        赵六     克哈星          男  2003/10/11\n",
      "4   5   小明\\t查尔星       男  2002/6/12         NaN\n",
      "5   6  小花\\t塔桑尼斯       男  2002/2/12         NaN\n",
      "-----------------------------\n",
      "   id name address gender    birthday\n",
      "0   1   张三     地球村      女   2004/11/2\n",
      "1   2   李四     月亮星      女    2003/8/7\n",
      "2   3   王五     艾尔星      女   2004/11/2\n",
      "3   4   赵六     克哈星      男  2003/10/11\n",
      "4   5   小明     查尔星      男   2002/6/12\n",
      "5   6   小花    塔桑尼斯      男   2002/2/12\n"
     ]
    }
   ],
   "source": [
    "# 3.delim_whitespace:默认为False\n",
    "d = pd.read_csv('E:\\panda\\students_whitespace.txt')# 原文件\n",
    "print(d)\n",
    "print('##################################')\n",
    "df = pd.read_csv('E:\\panda\\students_whitespace.txt',sep=' ')  # 以空格分隔符\n",
    "df\n",
    "print(df)\n",
    "print('-----------------------------')\n",
    "df = pd.read_csv('E:\\panda\\students_whitespace.txt',delim_whitespace=True)\n",
    "# d\n",
    "print(df)"
   ]
  },
  {
   "cell_type": "code",
   "execution_count": null,
   "metadata": {},
   "outputs": [],
   "source": []
  }
 ],
 "metadata": {
  "kernelspec": {
   "display_name": "Python 3",
   "language": "python",
   "name": "python3"
  },
  "language_info": {
   "codemirror_mode": {
    "name": "ipython",
    "version": 3
   },
   "file_extension": ".py",
   "mimetype": "text/x-python",
   "name": "python",
   "nbconvert_exporter": "python",
   "pygments_lexer": "ipython3",
   "version": "3.7.0"
  }
 },
 "nbformat": 4,
 "nbformat_minor": 2
}
