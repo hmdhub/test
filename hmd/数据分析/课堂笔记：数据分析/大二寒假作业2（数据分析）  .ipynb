{
 "cells": [
  {
   "cell_type": "code",
   "execution_count": 2,
   "metadata": {},
   "outputs": [],
   "source": [
    "# 全局配置\n",
    "import numpy as np\n",
    "import pandas as pd\n",
    "from  matplotlib  import pyplot as plt\n",
    "# 中文负号\n",
    "plt.rcParams['axes.unicode_minus'] = False\n",
    "# 设置字体\n",
    "plt.rcParams['font.sans-serif']=['fangsong']\n",
    "# 设置大小\n",
    "plt.rcParams['figure.figsize']=(3,4)\n",
    "# 设置分辨率为100\n",
    "plt.rcParams['figure.dpi'] = 200"
   ]
  },
  {
   "cell_type": "markdown",
   "metadata": {},
   "source": [
    "### # 1. 创建一个30个元素的数组分别改变成两个形状（5,6）（6,6） "
   ]
  },
  {
   "cell_type": "code",
   "execution_count": 3,
   "metadata": {},
   "outputs": [
    {
     "name": "stdout",
     "output_type": "stream",
     "text": [
      "[ 0  1  2  3  4  5  6  7  8  9 10 11 12 13 14 15 16 17 18 19 20 21 22 23\n",
      " 24 25 26 27 28 29]\n",
      "***************************\n",
      "[[ 0  1  2  3  4  5]\n",
      " [ 6  7  8  9 10 11]\n",
      " [12 13 14 15 16 17]\n",
      " [18 19 20 21 22 23]\n",
      " [24 25 26 27 28 29]]\n",
      "***************************\n",
      "[[ 0  1  2  3  4  5]\n",
      " [ 6  7  8  9 10 11]\n",
      " [12 13 14 15 16 17]\n",
      " [18 19 20 21 22 23]\n",
      " [24 25 26 27 28 29]\n",
      " [ 0  1  2  3  4  5]]\n"
     ]
    }
   ],
   "source": [
    "one = np.arange(30)\n",
    "print(one)\n",
    "print(\"***************************\")\n",
    "# 改变形状 （5,6）五行六列\n",
    "two = one.reshape(5,6)\n",
    "print(two)\n",
    "print(\"***************************\")\n",
    "# 改变形状为（6,6）在one的基础上改变\n",
    "a = np.resize(one,(6,6))\n",
    "print(a)"
   ]
  },
  {
   "cell_type": "markdown",
   "metadata": {},
   "source": [
    "### #  二.x = np.array([[ 0, 1, 2],[ 3, 4, 5],[ 6, 7, 8],[ 9, 10, 11]])\n",
    "### 1.提取出数组中所有奇数   "
   ]
  },
  {
   "cell_type": "code",
   "execution_count": 4,
   "metadata": {},
   "outputs": [
    {
     "name": "stdout",
     "output_type": "stream",
     "text": [
      "1\n",
      "3\n",
      "5\n",
      "7\n",
      "9\n",
      "11\n",
      "%%%%%%分解线%%%%%%%%%%\n",
      "[ 1  3  5  7  9 11]\n",
      "-1\n",
      "-1\n",
      "-1\n",
      "-1\n",
      "-1\n",
      "-1\n",
      "***************分界线****************\n",
      "[[ 0 -1  2]\n",
      " [-1  4 -1]\n",
      " [ 6 -1  8]\n",
      " [-1 10 -1]]\n"
     ]
    }
   ],
   "source": [
    "# 1.提取出数组中所有奇数\n",
    "x = np.array([[ 0, 1, 2],[ 3, 4, 5],[ 6, 7, 8],[ 9, 10, 11]])\n",
    "# 1.提取出数组中所有奇数 \n",
    "#方法1 \n",
    "for i in x:\n",
    "    for it in i:\n",
    "        if it % 2 !=0:\n",
    "            print(it)\n",
    "print(\"%%%%%%分解线%%%%%%%%%%\")\n",
    "# 方法2\n",
    "print(x[x%2==1])\n"
   ]
  },
  {
   "cell_type": "markdown",
   "metadata": {},
   "source": [
    "### 2.修改奇数值修改为-1"
   ]
  },
  {
   "cell_type": "code",
   "execution_count": null,
   "metadata": {},
   "outputs": [],
   "source": [
    "# 方法1 \n",
    "for i in x:\n",
    "    for it in i:\n",
    "        if it % 2 !=0:\n",
    "            it = -1     \n",
    "            print(it)\n",
    "print(\"***************分界线****************\")\n",
    "# 方法2 \n",
    "x[x%2==1]=-1\n",
    "print(x)"
   ]
  },
  {
   "cell_type": "markdown",
   "metadata": {},
   "source": [
    "### 三.创建一个从10到49的ndarray对象,并进行倒序复制给另一个变量"
   ]
  },
  {
   "cell_type": "code",
   "execution_count": 18,
   "metadata": {
    "scrolled": true
   },
   "outputs": [
    {
     "name": "stdout",
     "output_type": "stream",
     "text": [
      "[10 11 12 13 14 15 16 17 18 19 20 21 22 23 24 25 26 27 28 29 30 31 32 33\n",
      " 34 35 36 37 38 39 40 41 42 43 44 45 46 47 48]\n",
      "%%%%%%%%%%%%%%%%%%%%%%%%%%\n",
      "[48 47 46 45 44 43 42 41 40 39 38 37 36 35 34 33 32 31 30 29 28 27 26 25\n",
      " 24 23 22 21 20 19 18 17 16 15 14 13 12 11 10]\n",
      "[48 47 46 45 44 43 42 41 40 39 38 37 36 35 34 33 32 31 30 29 28 27 26 25\n",
      " 24 23 22 21 20 19 18 17 16 15 14 13 12 11 10]\n"
     ]
    }
   ],
   "source": [
    "# 方法1 \n",
    "b = np.arange(10,49)\n",
    "print(b)\n",
    "print(\"%%%%%%%%%%%%%%%%%%%%%%%%%%\")\n",
    "# 倒叙\n",
    "c = b[::-1]\n",
    "print(c)\n",
    "# 方法2\n",
    "temp = np.copy(b[::-1])\n",
    "print(temp)"
   ]
  },
  {
   "cell_type": "markdown",
   "metadata": {},
   "source": [
    "### 4. 使用随机函数，在0-100 之间随机生成一个一维数组有5个元素\n"
   ]
  },
  {
   "cell_type": "code",
   "execution_count": 23,
   "metadata": {},
   "outputs": [
    {
     "name": "stdout",
     "output_type": "stream",
     "text": [
      "[ 7 45 24 93  9]\n",
      "(5,)\n",
      "1\n",
      "[41 61 21 35 49]\n",
      "(5,)\n",
      "1\n"
     ]
    }
   ],
   "source": [
    "d = np.random.randint(100,size=(5,))\n",
    "print(d)\n",
    "print(d.shape)  # 元素个数 \n",
    "print(d.ndim)  # 一维数组   ndim:秩"
   ]
  },
  {
   "cell_type": "markdown",
   "metadata": {},
   "source": [
    "### 五. 如何把数组 a= [[1,2,3],[4,5,6]] 变成数组 a1=[[1,2,3],[4,5,6],[7,8,9]] （使用添加）\n"
   ]
  },
  {
   "cell_type": "code",
   "execution_count": 27,
   "metadata": {},
   "outputs": [
    {
     "name": "stdout",
     "output_type": "stream",
     "text": [
      "[[1, 2, 3], [4, 5, 6]]\n",
      "@@@@@@@@@@@@@2\n",
      "[[1, 2, 3], [4, 5, 6], [7, 8, 9]]\n",
      "!!!!!!!!!!!!!!1\n",
      "[[1, 2, 3], [4, 5, 6], [7, 8, 9], [7, 8, 9]]\n"
     ]
    }
   ],
   "source": [
    "a= [[1,2,3],[4,5,6]] \n",
    "print(a)\n",
    "print(\"@@@@@@@@@@@@@2\")\n",
    "# 方法1\n",
    "a.append([7,8,9])\n",
    "print(a)\n",
    "print(\"!!!!!!!!!!!!!!1\")\n",
    "# 方法2\n",
    "a.insert(2,[7, 8, 9])\n",
    "print(a)  "
   ]
  },
  {
   "cell_type": "markdown",
   "metadata": {},
   "source": [
    "### 六.a=np.array([[1,2,3,4],[5,6,7,8],[9,10,11,12]])\n",
    "### 1.删除数组第三列\n",
    "### 2.删除数组第三行"
   ]
  },
  {
   "cell_type": "code",
   "execution_count": 30,
   "metadata": {},
   "outputs": [
    {
     "name": "stdout",
     "output_type": "stream",
     "text": [
      "[[ 1  2  3  4]\n",
      " [ 5  6  7  8]\n",
      " [ 9 10 11 12]]\n",
      "[[ 1  2  4]\n",
      " [ 5  6  8]\n",
      " [ 9 10 12]]\n",
      "***************\n",
      "[[1 2 3 4]\n",
      " [5 6 7 8]]\n"
     ]
    }
   ],
   "source": [
    "a=np.array([[1,2,3,4],[5,6,7,8],[9,10,11,12]])\n",
    "print(a)\n",
    "# 删除的原则遵循0行1列的原则即可  \n",
    "print(np.delete(a,2,axis=1))# 删除列\n",
    "print(\"***************\")\n",
    "print(np.delete(a,2,axis=0))# 删除行"
   ]
  },
  {
   "cell_type": "markdown",
   "metadata": {},
   "source": [
    "7.根据题目要求完成下面的画图\n",
    "统计三天中三部电影的票房变化\n",
    "电影\n",
    "第一天票房\n",
    "第二天票房\n",
    "第三天票房\n",
    "想见你\n",
    "3100\n",
    "5878\n",
    "5500\n",
    "阿凡达：水之道\n",
    "4000\n",
    "6795\n",
    "5678\n",
    "绝望主夫\n",
    "3560\n",
    "4599\n",
    "5600\n",
    "按照以上数据 \n",
    "1.绘画同位置多柱状图   "
   ]
  },
  {
   "cell_type": "code",
   "execution_count": 2,
   "metadata": {},
   "outputs": [
    {
     "data": {
      "text/plain": [
       "<matplotlib.legend.Legend at 0x1fdf87cb438>"
      ]
     },
     "execution_count": 2,
     "metadata": {},
     "output_type": "execute_result"
    },
    {
     "data": {
      "image/png": "[encoded data removed]",
      "text/plain": [
       "<Figure size 432x288 with 1 Axes>"
      ]
     },
     "metadata": {
      "needs_background": "light"
     },
     "output_type": "display_data"
    }
   ],
   "source": [
    "#        第一天票房 第二天票房 第三天票房 \n",
    "# 想见你      3100      5878     5500\n",
    "# 阿凡达:水之道 4000    6795    5678\n",
    "# 绝望主夫   3560          4599    5600 \n",
    "# 按照以上数据 1.绘画同位置多柱状图\n",
    "#  1.绘画同位置多柱状图\n",
    "movies = [\"想见你\",\"阿凡达:水之道\",\"绝望主夫\"]\n",
    "# y轴数据\n",
    "data1 = [3100,4000 ,3560]\n",
    "data2 = [5878,6795,4599]\n",
    "data3 = [5500,5678,5600]\n",
    "# data1=[3100 ,5878 ,5500 ]\n",
    "# data2=[4000 ,6795 ,5678 ]\n",
    "# data3=[3560 ,4599 ,5600]\n",
    "# 设置宽度\n",
    "width = 0.3\n",
    "x = np.arange(len(movies))\n",
    "# x轴\n",
    "day1=x\n",
    "day2=x+width\n",
    "day3=x+2*width\n",
    "plt.bar(day1,data1,color='b',width=width)\n",
    "plt.bar(day2,data2,color='c',width=width)\n",
    "plt.bar(day3,data2,color=\"m\",width=width)\n",
    "# 设置x轴的信息 美化x轴\n",
    "plt.xticks(x+width,labels=movies,color='b')\n",
    "#显示文本信息\n",
    "for i in range(len(movies)):\n",
    "    plt.text(day1[i],data1[i],data1[i],va='bottom',ha='center')\n",
    "    plt.text(day2[i],data2[i],data2[i],va='bottom',ha='center')\n",
    "    plt.text(day3[i],data3[i],data3[i],va='bottom',ha='center')\n",
    "# 设置图例\n",
    "label = [\"第一天\",\"第二天\",\"第三天\"]\n",
    "plt.legend(labels=label)"
   ]
  },
  {
   "cell_type": "code",
   "execution_count": 14,
   "metadata": {},
   "outputs": [
    {
     "data": {
      "text/plain": [
       "<matplotlib.legend.Legend at 0x177662cba58>"
      ]
     },
     "execution_count": 14,
     "metadata": {},
     "output_type": "execute_result"
    },
    {
     "data": {
      "image/png": "[encoded data removed]",
      "text/plain": [
       "<Figure size 432x288 with 1 Axes>"
      ]
     },
     "metadata": {
      "needs_background": "light"
     },
     "output_type": "display_data"
    }
   ],
   "source": [
    "# 2. 绘制堆叠图\n",
    "movies = [\"想见你\",\"阿凡达:水之道\",\"绝望主夫\"]\n",
    "# y轴数据\n",
    "data1 = np.array([3100,4000 ,3560])\n",
    "data2 = np.array([5878,6795,4599])\n",
    "data3 = np.array([5500,5678,5600])\n",
    "width = 0.3\n",
    "x = np.arange(len(movies))\n",
    "plt.bar(movies,data1,bottom=data2+data3,color='red',width=width,label=\"第一天票房\")\n",
    "plt.bar(movies,data2,bottom=data3,color='blue',width=width,label=\"第一天票房\")\n",
    "plt.bar(movies,data3,color='m',width=width,label=\"第二天票房\")\n",
    "# 设置文本的信息\n",
    "for i in range(len(movies)):\n",
    "    max_y = data1[i]+data2[i]+data3[i]\n",
    "    plt.text(movies[i],max_y,max_y,va='bottom',ha='center')\n",
    "# 设置图例\n",
    "plt.legend()\n",
    "\n",
    "\n"
   ]
  },
  {
   "cell_type": "code",
   "execution_count": null,
   "metadata": {},
   "outputs": [],
   "source": []
  },
  {
   "cell_type": "code",
   "execution_count": null,
   "metadata": {},
   "outputs": [],
   "source": [
    "# 补充一下新的写法       方法相同但是图例显示不一样就会有不一样的效果\n",
    "#        第一天票房 第二天票房 第三天票房 \n",
    "# 想见你      3100      5878     5500\n",
    "# 阿凡达:水之道 4000    6795    5678\n",
    "# 绝望主夫   3560          4599    5600 \n",
    "# 按照以上数据 1.绘画同位置多柱状图\n",
    "#  1.绘画同位置多柱状图\n",
    "movies = [\"想见你\",\"阿凡达:水之道\",\"绝望主夫\"]\n",
    "# y轴数据\n",
    "data1=[3100 ,5878 ,5500 ]\n",
    "data2=[4000 ,6795 ,5678 ]\n",
    "data3=[3560 ,4599 ,5600]\n",
    "width = 0.3\n",
    "x = np.arange(len(movies))\n",
    "# x轴\n",
    "day1=x\n",
    "day2=x+width\n",
    "day3=x+2*width\n",
    "plt.bar(day1,data1,color='r',width=width)\n",
    "plt.bar(day2,data2,color='c',width=width)\n",
    "plt.bar(day3,data2,color=\"m\",width=width)\n",
    "# 设置x轴的信息 美化x轴\n",
    "plt.xticks(x+2*width,labels=movies,color='b')\n",
    "#显示文本信息\n",
    "for i in range(len(movies)):\n",
    "    plt.text(day1[i],data1[i],data1[i],va='bottom',ha='center')\n",
    "    plt.text(day2[i],data2[i],data2[i],va='bottom',ha='center')\n",
    "    plt.text(day3[i],data3[i],data3[i],va='bottom',ha='center')\n",
    "# 设置图例\n",
    "label = [\"想见你  \",\"阿凡达:水之道\",\"绝望主夫\"]\n",
    "plt.legend(labels=label)"
   ]
  },
  {
   "cell_type": "markdown",
   "metadata": {},
   "source": [
    "8.根据题目要求完成下面的画图\n",
    "某家庭的八月份支出\n",
    "娱乐\n",
    "育儿\n",
    "饮食\n",
    "房贷\n",
    "交通\n",
    "其他\n",
    "200\n",
    "500\n",
    "1200\n",
    "7000\n",
    "200\n",
    "900\n",
    "绘制出对应的扇形统计图 （要求显示百分比）"
   ]
  },
  {
   "cell_type": "code",
   "execution_count": 31,
   "metadata": {},
   "outputs": [
    {
     "name": "stdout",
     "output_type": "stream",
     "text": [
      "([<matplotlib.patches.Wedge object at 0x000002391E4FBBA8>, <matplotlib.patches.Wedge object at 0x000002391E50B320>, <matplotlib.patches.Wedge object at 0x000002391E50BA20>, <matplotlib.patches.Wedge object at 0x000002391E519160>, <matplotlib.patches.Wedge object at 0x000002391C48D2B0>, <matplotlib.patches.Wedge object at 0x000002391E519F28>], [Text(1.0978294013681003, 0.06906956994045162, '娱乐'), Text(1.056323054388303, 0.3068902161486517, '育儿'), Text(0.7530018217768821, 0.8018654852284746, '饮食'), Text(-1.065441491584454, -0.2735588200191946, '房贷'), Text(0.8899186347901604, -0.6465638587589142, '交通'), Text(1.056323029246806, -0.30689030268623974, '其他')], [Text(0.5988160371098727, 0.03767431087660997, '2.00%'), Text(0.5761762114845289, 0.16739466335380998, '5.00%'), Text(0.4107282664237538, 0.43738117376098606, '12.00%'), Text(-0.5811499045006112, -0.1492139018286516, '70.00%'), Text(0.48541016443099655, -0.3526711956866804, '2.00%'), Text(0.5761761977709849, -0.16739471055613073, '9.00%')])\n"
     ]
    },
    {
     "data": {
      "image/png": "[encoded data removed]",
      "text/plain": [
       "<Figure size 432x288 with 1 Axes>"
      ]
     },
     "metadata": {},
     "output_type": "display_data"
    }
   ],
   "source": [
    "from  matplotlib  import pyplot as plt\n",
    "#  某家庭的八月份支出 娱乐 育儿 饮食 房贷 交通 其他 \n",
    "#                       200 500 1200 7000  200   900 \n",
    "plt.rcParams['figure.figsize']=(5,5)\n",
    "labels = [\"娱乐\",\"育儿\",\"饮食\",\"房贷\",\"交通\",\"其他\" ]\n",
    "x = [200,500,1200,7000,200,900 ]\n",
    "# 基本绘制\n",
    "info = plt.pie(x,labels=labels)\n",
    "# print(info)\n",
    "#显示百分比  --->保留小数点后两位\n",
    "info = plt.pie(x,labels=labels,autopct='%.2f%%')\n",
    "plt.title(\"饼图示例-8月份家庭支出\",fontsize=18)\n",
    "print(info)"
   ]
  }
 ],
 "metadata": {
  "kernelspec": {
   "display_name": "Python 3",
   "language": "python",
   "name": "python3"
  },
  "language_info": {
   "codemirror_mode": {
    "name": "ipython",
    "version": 3
   },
   "file_extension": ".py",
   "mimetype": "text/x-python",
   "name": "python",
   "nbconvert_exporter": "python",
   "pygments_lexer": "ipython3",
   "version": "3.7.0"
  }
 },
 "nbformat": 4,
 "nbformat_minor": 2
}
